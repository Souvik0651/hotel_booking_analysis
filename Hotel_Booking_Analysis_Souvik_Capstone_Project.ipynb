{
  "cells": [
    {
      "cell_type": "markdown",
      "metadata": {
        "id": "view-in-github",
        "colab_type": "text"
      },
      "source": [
        "<a href=\"https://colab.research.google.com/github/Souvik0651/hotel_booking_analysis/blob/main/Hotel_Booking_Analysis_Souvik_Capstone_Project.ipynb\" target=\"_parent\"><img src=\"https://colab.research.google.com/assets/colab-badge.svg\" alt=\"Open In Colab\"/></a>"
      ]
    },
    {
      "cell_type": "markdown",
      "metadata": {
        "id": "Y06xIdG26kRF"
      },
      "source": [
        "## <b> Have you ever wondered when the best time of year to book a hotel room is? Or the optimal length of stay in order to get the best daily rate? What if you wanted to predict whether or not a hotel was likely to receive a disproportionately high number of special requests? This hotel booking dataset can help you explore those questions!\n",
        "\n",
        "## <b>This data set contains booking information for a city hotel and a resort hotel, and includes information such as when the booking was made, length of stay, the number of adults, children, and/or babies, and the number of available parking spaces, among other things. All personally identifying information has been removed from the data. </b>\n",
        "\n",
        "## <b> Explore and analyze the data to discover important factors that govern the bookings. </b>"
      ]
    },
    {
      "cell_type": "markdown",
      "metadata": {
        "id": "Ukj6SbiBPOiR"
      },
      "source": [
        " **Importing Pandas Numpy matplotlib and seabornin the notebook**"
      ]
    },
    {
      "cell_type": "code",
      "execution_count": 50,
      "metadata": {
        "id": "xMWA85P7Kgj1"
      },
      "outputs": [],
      "source": [
        "#import numpy and pandas library\n",
        "import numpy as np      \n",
        "import pandas as pd    "
      ]
    },
    {
      "cell_type": "code",
      "execution_count": 51,
      "metadata": {
        "id": "37L5_uUHS66o"
      },
      "outputs": [],
      "source": [
        "#import matplotlib and seaborn\n",
        "import matplotlib.pyplot as plt\n",
        "import seaborn as sns"
      ]
    },
    {
      "cell_type": "markdown",
      "metadata": {
        "id": "vpE-ekmqQFBC"
      },
      "source": [
        " **Loading the Hotel Bookings.csv kept in the Drive**"
      ]
    },
    {
      "cell_type": "code",
      "execution_count": 52,
      "metadata": {
        "id": "iO7xofL4LF14",
        "colab": {
          "base_uri": "https://localhost:8080/"
        },
        "outputId": "1d4760f6-bf34-42c6-a818-6521fd8872d4"
      },
      "outputs": [
        {
          "output_type": "stream",
          "name": "stdout",
          "text": [
            "Drive already mounted at /content/drive; to attempt to forcibly remount, call drive.mount(\"/content/drive\", force_remount=True).\n"
          ]
        }
      ],
      "source": [
        "#mounting the csv file in colab notebook\n",
        "from google.colab import drive    \n",
        "drive.mount('/content/drive')"
      ]
    },
    {
      "cell_type": "code",
      "execution_count": 53,
      "metadata": {
        "id": "dByMsuzT8Tnw"
      },
      "outputs": [],
      "source": [
        "#loading the csv file from drive\n",
        "hotel_booking_df=pd.read_csv('/content/drive/MyDrive/Colab Notebooks/Capstone project -1/Hotel Bookings.csv')"
      ]
    },
    {
      "cell_type": "markdown",
      "source": [
        "Data exploration is the first step of data analysis used to explore and visualize data to uncover insights from the start or identify areas or patterns to dig into more"
      ],
      "metadata": {
        "id": "ff7TScTh6PZC"
      }
    },
    {
      "cell_type": "code",
      "execution_count": 54,
      "metadata": {
        "id": "xWbzDBw8Mw9r",
        "colab": {
          "base_uri": "https://localhost:8080/",
          "height": 386
        },
        "outputId": "496409e8-6da4-4e9a-a99e-e9b912e3fcea"
      },
      "outputs": [
        {
          "output_type": "execute_result",
          "data": {
            "text/plain": [
              "          hotel  is_canceled  lead_time  arrival_date_year arrival_date_month  \\\n",
              "0  Resort Hotel            0        342               2015               July   \n",
              "1  Resort Hotel            0        737               2015               July   \n",
              "2  Resort Hotel            0          7               2015               July   \n",
              "3  Resort Hotel            0         13               2015               July   \n",
              "4  Resort Hotel            0         14               2015               July   \n",
              "\n",
              "   arrival_date_week_number  arrival_date_day_of_month  \\\n",
              "0                        27                          1   \n",
              "1                        27                          1   \n",
              "2                        27                          1   \n",
              "3                        27                          1   \n",
              "4                        27                          1   \n",
              "\n",
              "   stays_in_weekend_nights  stays_in_week_nights  adults  ...  deposit_type  \\\n",
              "0                        0                     0       2  ...    No Deposit   \n",
              "1                        0                     0       2  ...    No Deposit   \n",
              "2                        0                     1       1  ...    No Deposit   \n",
              "3                        0                     1       1  ...    No Deposit   \n",
              "4                        0                     2       2  ...    No Deposit   \n",
              "\n",
              "   agent company days_in_waiting_list customer_type   adr  \\\n",
              "0    NaN     NaN                    0     Transient   0.0   \n",
              "1    NaN     NaN                    0     Transient   0.0   \n",
              "2    NaN     NaN                    0     Transient  75.0   \n",
              "3  304.0     NaN                    0     Transient  75.0   \n",
              "4  240.0     NaN                    0     Transient  98.0   \n",
              "\n",
              "   required_car_parking_spaces  total_of_special_requests  reservation_status  \\\n",
              "0                            0                          0           Check-Out   \n",
              "1                            0                          0           Check-Out   \n",
              "2                            0                          0           Check-Out   \n",
              "3                            0                          0           Check-Out   \n",
              "4                            0                          1           Check-Out   \n",
              "\n",
              "  reservation_status_date  \n",
              "0              2015-07-01  \n",
              "1              2015-07-01  \n",
              "2              2015-07-02  \n",
              "3              2015-07-02  \n",
              "4              2015-07-03  \n",
              "\n",
              "[5 rows x 32 columns]"
            ],
            "text/html": [
              "\n",
              "  <div id=\"df-022a370a-715a-4f2f-a9ec-e33b27cf4c8e\">\n",
              "    <div class=\"colab-df-container\">\n",
              "      <div>\n",
              "<style scoped>\n",
              "    .dataframe tbody tr th:only-of-type {\n",
              "        vertical-align: middle;\n",
              "    }\n",
              "\n",
              "    .dataframe tbody tr th {\n",
              "        vertical-align: top;\n",
              "    }\n",
              "\n",
              "    .dataframe thead th {\n",
              "        text-align: right;\n",
              "    }\n",
              "</style>\n",
              "<table border=\"1\" class=\"dataframe\">\n",
              "  <thead>\n",
              "    <tr style=\"text-align: right;\">\n",
              "      <th></th>\n",
              "      <th>hotel</th>\n",
              "      <th>is_canceled</th>\n",
              "      <th>lead_time</th>\n",
              "      <th>arrival_date_year</th>\n",
              "      <th>arrival_date_month</th>\n",
              "      <th>arrival_date_week_number</th>\n",
              "      <th>arrival_date_day_of_month</th>\n",
              "      <th>stays_in_weekend_nights</th>\n",
              "      <th>stays_in_week_nights</th>\n",
              "      <th>adults</th>\n",
              "      <th>...</th>\n",
              "      <th>deposit_type</th>\n",
              "      <th>agent</th>\n",
              "      <th>company</th>\n",
              "      <th>days_in_waiting_list</th>\n",
              "      <th>customer_type</th>\n",
              "      <th>adr</th>\n",
              "      <th>required_car_parking_spaces</th>\n",
              "      <th>total_of_special_requests</th>\n",
              "      <th>reservation_status</th>\n",
              "      <th>reservation_status_date</th>\n",
              "    </tr>\n",
              "  </thead>\n",
              "  <tbody>\n",
              "    <tr>\n",
              "      <th>0</th>\n",
              "      <td>Resort Hotel</td>\n",
              "      <td>0</td>\n",
              "      <td>342</td>\n",
              "      <td>2015</td>\n",
              "      <td>July</td>\n",
              "      <td>27</td>\n",
              "      <td>1</td>\n",
              "      <td>0</td>\n",
              "      <td>0</td>\n",
              "      <td>2</td>\n",
              "      <td>...</td>\n",
              "      <td>No Deposit</td>\n",
              "      <td>NaN</td>\n",
              "      <td>NaN</td>\n",
              "      <td>0</td>\n",
              "      <td>Transient</td>\n",
              "      <td>0.0</td>\n",
              "      <td>0</td>\n",
              "      <td>0</td>\n",
              "      <td>Check-Out</td>\n",
              "      <td>2015-07-01</td>\n",
              "    </tr>\n",
              "    <tr>\n",
              "      <th>1</th>\n",
              "      <td>Resort Hotel</td>\n",
              "      <td>0</td>\n",
              "      <td>737</td>\n",
              "      <td>2015</td>\n",
              "      <td>July</td>\n",
              "      <td>27</td>\n",
              "      <td>1</td>\n",
              "      <td>0</td>\n",
              "      <td>0</td>\n",
              "      <td>2</td>\n",
              "      <td>...</td>\n",
              "      <td>No Deposit</td>\n",
              "      <td>NaN</td>\n",
              "      <td>NaN</td>\n",
              "      <td>0</td>\n",
              "      <td>Transient</td>\n",
              "      <td>0.0</td>\n",
              "      <td>0</td>\n",
              "      <td>0</td>\n",
              "      <td>Check-Out</td>\n",
              "      <td>2015-07-01</td>\n",
              "    </tr>\n",
              "    <tr>\n",
              "      <th>2</th>\n",
              "      <td>Resort Hotel</td>\n",
              "      <td>0</td>\n",
              "      <td>7</td>\n",
              "      <td>2015</td>\n",
              "      <td>July</td>\n",
              "      <td>27</td>\n",
              "      <td>1</td>\n",
              "      <td>0</td>\n",
              "      <td>1</td>\n",
              "      <td>1</td>\n",
              "      <td>...</td>\n",
              "      <td>No Deposit</td>\n",
              "      <td>NaN</td>\n",
              "      <td>NaN</td>\n",
              "      <td>0</td>\n",
              "      <td>Transient</td>\n",
              "      <td>75.0</td>\n",
              "      <td>0</td>\n",
              "      <td>0</td>\n",
              "      <td>Check-Out</td>\n",
              "      <td>2015-07-02</td>\n",
              "    </tr>\n",
              "    <tr>\n",
              "      <th>3</th>\n",
              "      <td>Resort Hotel</td>\n",
              "      <td>0</td>\n",
              "      <td>13</td>\n",
              "      <td>2015</td>\n",
              "      <td>July</td>\n",
              "      <td>27</td>\n",
              "      <td>1</td>\n",
              "      <td>0</td>\n",
              "      <td>1</td>\n",
              "      <td>1</td>\n",
              "      <td>...</td>\n",
              "      <td>No Deposit</td>\n",
              "      <td>304.0</td>\n",
              "      <td>NaN</td>\n",
              "      <td>0</td>\n",
              "      <td>Transient</td>\n",
              "      <td>75.0</td>\n",
              "      <td>0</td>\n",
              "      <td>0</td>\n",
              "      <td>Check-Out</td>\n",
              "      <td>2015-07-02</td>\n",
              "    </tr>\n",
              "    <tr>\n",
              "      <th>4</th>\n",
              "      <td>Resort Hotel</td>\n",
              "      <td>0</td>\n",
              "      <td>14</td>\n",
              "      <td>2015</td>\n",
              "      <td>July</td>\n",
              "      <td>27</td>\n",
              "      <td>1</td>\n",
              "      <td>0</td>\n",
              "      <td>2</td>\n",
              "      <td>2</td>\n",
              "      <td>...</td>\n",
              "      <td>No Deposit</td>\n",
              "      <td>240.0</td>\n",
              "      <td>NaN</td>\n",
              "      <td>0</td>\n",
              "      <td>Transient</td>\n",
              "      <td>98.0</td>\n",
              "      <td>0</td>\n",
              "      <td>1</td>\n",
              "      <td>Check-Out</td>\n",
              "      <td>2015-07-03</td>\n",
              "    </tr>\n",
              "  </tbody>\n",
              "</table>\n",
              "<p>5 rows × 32 columns</p>\n",
              "</div>\n",
              "      <button class=\"colab-df-convert\" onclick=\"convertToInteractive('df-022a370a-715a-4f2f-a9ec-e33b27cf4c8e')\"\n",
              "              title=\"Convert this dataframe to an interactive table.\"\n",
              "              style=\"display:none;\">\n",
              "        \n",
              "  <svg xmlns=\"http://www.w3.org/2000/svg\" height=\"24px\"viewBox=\"0 0 24 24\"\n",
              "       width=\"24px\">\n",
              "    <path d=\"M0 0h24v24H0V0z\" fill=\"none\"/>\n",
              "    <path d=\"M18.56 5.44l.94 2.06.94-2.06 2.06-.94-2.06-.94-.94-2.06-.94 2.06-2.06.94zm-11 1L8.5 8.5l.94-2.06 2.06-.94-2.06-.94L8.5 2.5l-.94 2.06-2.06.94zm10 10l.94 2.06.94-2.06 2.06-.94-2.06-.94-.94-2.06-.94 2.06-2.06.94z\"/><path d=\"M17.41 7.96l-1.37-1.37c-.4-.4-.92-.59-1.43-.59-.52 0-1.04.2-1.43.59L10.3 9.45l-7.72 7.72c-.78.78-.78 2.05 0 2.83L4 21.41c.39.39.9.59 1.41.59.51 0 1.02-.2 1.41-.59l7.78-7.78 2.81-2.81c.8-.78.8-2.07 0-2.86zM5.41 20L4 18.59l7.72-7.72 1.47 1.35L5.41 20z\"/>\n",
              "  </svg>\n",
              "      </button>\n",
              "      \n",
              "  <style>\n",
              "    .colab-df-container {\n",
              "      display:flex;\n",
              "      flex-wrap:wrap;\n",
              "      gap: 12px;\n",
              "    }\n",
              "\n",
              "    .colab-df-convert {\n",
              "      background-color: #E8F0FE;\n",
              "      border: none;\n",
              "      border-radius: 50%;\n",
              "      cursor: pointer;\n",
              "      display: none;\n",
              "      fill: #1967D2;\n",
              "      height: 32px;\n",
              "      padding: 0 0 0 0;\n",
              "      width: 32px;\n",
              "    }\n",
              "\n",
              "    .colab-df-convert:hover {\n",
              "      background-color: #E2EBFA;\n",
              "      box-shadow: 0px 1px 2px rgba(60, 64, 67, 0.3), 0px 1px 3px 1px rgba(60, 64, 67, 0.15);\n",
              "      fill: #174EA6;\n",
              "    }\n",
              "\n",
              "    [theme=dark] .colab-df-convert {\n",
              "      background-color: #3B4455;\n",
              "      fill: #D2E3FC;\n",
              "    }\n",
              "\n",
              "    [theme=dark] .colab-df-convert:hover {\n",
              "      background-color: #434B5C;\n",
              "      box-shadow: 0px 1px 3px 1px rgba(0, 0, 0, 0.15);\n",
              "      filter: drop-shadow(0px 1px 2px rgba(0, 0, 0, 0.3));\n",
              "      fill: #FFFFFF;\n",
              "    }\n",
              "  </style>\n",
              "\n",
              "      <script>\n",
              "        const buttonEl =\n",
              "          document.querySelector('#df-022a370a-715a-4f2f-a9ec-e33b27cf4c8e button.colab-df-convert');\n",
              "        buttonEl.style.display =\n",
              "          google.colab.kernel.accessAllowed ? 'block' : 'none';\n",
              "\n",
              "        async function convertToInteractive(key) {\n",
              "          const element = document.querySelector('#df-022a370a-715a-4f2f-a9ec-e33b27cf4c8e');\n",
              "          const dataTable =\n",
              "            await google.colab.kernel.invokeFunction('convertToInteractive',\n",
              "                                                     [key], {});\n",
              "          if (!dataTable) return;\n",
              "\n",
              "          const docLinkHtml = 'Like what you see? Visit the ' +\n",
              "            '<a target=\"_blank\" href=https://colab.research.google.com/notebooks/data_table.ipynb>data table notebook</a>'\n",
              "            + ' to learn more about interactive tables.';\n",
              "          element.innerHTML = '';\n",
              "          dataTable['output_type'] = 'display_data';\n",
              "          await google.colab.output.renderOutput(dataTable, element);\n",
              "          const docLink = document.createElement('div');\n",
              "          docLink.innerHTML = docLinkHtml;\n",
              "          element.appendChild(docLink);\n",
              "        }\n",
              "      </script>\n",
              "    </div>\n",
              "  </div>\n",
              "  "
            ]
          },
          "metadata": {},
          "execution_count": 54
        }
      ],
      "source": [
        "# viewing the top five row of the file \n",
        "hotel_booking_df.head()"
      ]
    },
    {
      "cell_type": "code",
      "execution_count": 55,
      "metadata": {
        "id": "eo_UrdqgK6tC",
        "colab": {
          "base_uri": "https://localhost:8080/"
        },
        "outputId": "e1ad45ad-12cc-4300-a603-72c4b25634be"
      },
      "outputs": [
        {
          "output_type": "execute_result",
          "data": {
            "text/plain": [
              "(119390, 32)"
            ]
          },
          "metadata": {},
          "execution_count": 55
        }
      ],
      "source": [
        "# finding the shape of the dataframe\n",
        "hotel_booking_df.shape"
      ]
    },
    {
      "cell_type": "code",
      "execution_count": 56,
      "metadata": {
        "id": "PlNdpU5BNLn5",
        "colab": {
          "base_uri": "https://localhost:8080/"
        },
        "outputId": "e6268787-9bc9-43de-e92b-3f9b6f1819c2"
      },
      "outputs": [
        {
          "output_type": "stream",
          "name": "stdout",
          "text": [
            "<class 'pandas.core.frame.DataFrame'>\n",
            "RangeIndex: 119390 entries, 0 to 119389\n",
            "Data columns (total 32 columns):\n",
            " #   Column                          Non-Null Count   Dtype  \n",
            "---  ------                          --------------   -----  \n",
            " 0   hotel                           119390 non-null  object \n",
            " 1   is_canceled                     119390 non-null  int64  \n",
            " 2   lead_time                       119390 non-null  int64  \n",
            " 3   arrival_date_year               119390 non-null  int64  \n",
            " 4   arrival_date_month              119390 non-null  object \n",
            " 5   arrival_date_week_number        119390 non-null  int64  \n",
            " 6   arrival_date_day_of_month       119390 non-null  int64  \n",
            " 7   stays_in_weekend_nights         119390 non-null  int64  \n",
            " 8   stays_in_week_nights            119390 non-null  int64  \n",
            " 9   adults                          119390 non-null  int64  \n",
            " 10  children                        119386 non-null  float64\n",
            " 11  babies                          119390 non-null  int64  \n",
            " 12  meal                            119390 non-null  object \n",
            " 13  country                         118902 non-null  object \n",
            " 14  market_segment                  119390 non-null  object \n",
            " 15  distribution_channel            119390 non-null  object \n",
            " 16  is_repeated_guest               119390 non-null  int64  \n",
            " 17  previous_cancellations          119390 non-null  int64  \n",
            " 18  previous_bookings_not_canceled  119390 non-null  int64  \n",
            " 19  reserved_room_type              119390 non-null  object \n",
            " 20  assigned_room_type              119390 non-null  object \n",
            " 21  booking_changes                 119390 non-null  int64  \n",
            " 22  deposit_type                    119390 non-null  object \n",
            " 23  agent                           103050 non-null  float64\n",
            " 24  company                         6797 non-null    float64\n",
            " 25  days_in_waiting_list            119390 non-null  int64  \n",
            " 26  customer_type                   119390 non-null  object \n",
            " 27  adr                             119390 non-null  float64\n",
            " 28  required_car_parking_spaces     119390 non-null  int64  \n",
            " 29  total_of_special_requests       119390 non-null  int64  \n",
            " 30  reservation_status              119390 non-null  object \n",
            " 31  reservation_status_date         119390 non-null  object \n",
            "dtypes: float64(4), int64(16), object(12)\n",
            "memory usage: 29.1+ MB\n"
          ]
        }
      ],
      "source": [
        "# total information of dataframe\n",
        "hotel_booking_df.info()"
      ]
    },
    {
      "cell_type": "markdown",
      "source": [
        "Data reprocessing means data cleaning data trasformation and data reduction which will enhance the performance and understanding of a dataframe"
      ],
      "metadata": {
        "id": "hhFHMd_Y6CqZ"
      }
    },
    {
      "cell_type": "markdown",
      "metadata": {
        "id": "s9eG2s6ImdFC"
      },
      "source": [
        "**Making a copy of a original dataframe so that we work on the copy dataframe and the original data frame doesnot get affected**"
      ]
    },
    {
      "cell_type": "code",
      "execution_count": 57,
      "metadata": {
        "id": "mIhhmrTSjhVt"
      },
      "outputs": [],
      "source": [
        "# making a copy of original dataframe \n",
        "hotel_booking_new= hotel_booking_df.copy()"
      ]
    },
    {
      "cell_type": "markdown",
      "metadata": {
        "id": "7dXPXNBogIub"
      },
      "source": [
        "**Data cleaning for better understanding of DataFrame**"
      ]
    },
    {
      "cell_type": "code",
      "execution_count": 58,
      "metadata": {
        "id": "B9LtvFzgNzDL",
        "colab": {
          "base_uri": "https://localhost:8080/"
        },
        "outputId": "17f93219-57df-41e9-82c6-75e6452df699"
      },
      "outputs": [
        {
          "output_type": "execute_result",
          "data": {
            "text/plain": [
              "hotel                                  0\n",
              "is_canceled                            0\n",
              "lead_time                              0\n",
              "arrival_date_year                      0\n",
              "arrival_date_month                     0\n",
              "arrival_date_week_number               0\n",
              "arrival_date_day_of_month              0\n",
              "stays_in_weekend_nights                0\n",
              "stays_in_week_nights                   0\n",
              "adults                                 0\n",
              "children                               4\n",
              "babies                                 0\n",
              "meal                                   0\n",
              "country                              488\n",
              "market_segment                         0\n",
              "distribution_channel                   0\n",
              "is_repeated_guest                      0\n",
              "previous_cancellations                 0\n",
              "previous_bookings_not_canceled         0\n",
              "reserved_room_type                     0\n",
              "assigned_room_type                     0\n",
              "booking_changes                        0\n",
              "deposit_type                           0\n",
              "agent                              16340\n",
              "company                           112593\n",
              "days_in_waiting_list                   0\n",
              "customer_type                          0\n",
              "adr                                    0\n",
              "required_car_parking_spaces            0\n",
              "total_of_special_requests              0\n",
              "reservation_status                     0\n",
              "reservation_status_date                0\n",
              "dtype: int64"
            ]
          },
          "metadata": {},
          "execution_count": 58
        }
      ],
      "source": [
        "# finding the null values\n",
        "hotel_booking_new.isnull().sum()"
      ]
    },
    {
      "cell_type": "code",
      "execution_count": 59,
      "metadata": {
        "id": "5wZV5apOCQ8Y"
      },
      "outputs": [],
      "source": [
        "'''we can see that children has only four null values so we are replacing the null values with 0'''\n",
        "# replacing NaN value for children column\n",
        "hotel_booking_new['children']=hotel_booking_new['children'].fillna(0)"
      ]
    },
    {
      "cell_type": "code",
      "execution_count": 36,
      "metadata": {
        "id": "v0fix71j-Dk-",
        "colab": {
          "base_uri": "https://localhost:8080/"
        },
        "outputId": "8be98902-b408-4606-c32c-97313c65d574"
      },
      "outputs": [
        {
          "output_type": "execute_result",
          "data": {
            "text/plain": [
              "hotel                                  0\n",
              "is_canceled                            0\n",
              "lead_time                              0\n",
              "arrival_date_year                      0\n",
              "arrival_date_month                     0\n",
              "arrival_date_week_number               0\n",
              "arrival_date_day_of_month              0\n",
              "stays_in_weekend_nights                0\n",
              "stays_in_week_nights                   0\n",
              "adults                                 0\n",
              "children                               0\n",
              "babies                                 0\n",
              "meal                                   0\n",
              "country                              488\n",
              "market_segment                         0\n",
              "distribution_channel                   0\n",
              "is_repeated_guest                      0\n",
              "previous_cancellations                 0\n",
              "previous_bookings_not_canceled         0\n",
              "reserved_room_type                     0\n",
              "assigned_room_type                     0\n",
              "booking_changes                        0\n",
              "deposit_type                           0\n",
              "agent                              16340\n",
              "company                           112593\n",
              "days_in_waiting_list                   0\n",
              "customer_type                          0\n",
              "adr                                    0\n",
              "required_car_parking_spaces            0\n",
              "total_of_special_requests              0\n",
              "reservation_status                     0\n",
              "reservation_status_date                0\n",
              "dtype: int64"
            ]
          },
          "metadata": {},
          "execution_count": 36
        }
      ],
      "source": [
        "'''after replacing children null values with 0 again checking how many columns has null value to fix them'''\n",
        "# finding the total NaN values\n",
        "hotel_booking_new.isnull().sum()"
      ]
    },
    {
      "cell_type": "code",
      "execution_count": 37,
      "metadata": {
        "id": "4TgjoVITeEgF"
      },
      "outputs": [],
      "source": [
        "'''we are adding two columns children and babies to get their total numbers in one column name as kids'''\n",
        "#  adding children and babies in one column\n",
        "hotel_booking_new['Kids']=(hotel_booking_new['children']+hotel_booking_new['babies']).astype(int)"
      ]
    },
    {
      "cell_type": "code",
      "execution_count": 38,
      "metadata": {
        "id": "0ZSU0x0ggaGB"
      },
      "outputs": [],
      "source": [
        "'''we can see that agents and comapnies has many null values so it is better to drop the columns'''\n",
        "''' we will also drop the column babies and children as we have added and made a new column as kids'''\n",
        "# droping the columns \n",
        "hotel_booking_new.drop(['babies','children','company','agent'],axis=1,inplace=True)"
      ]
    },
    {
      "cell_type": "code",
      "execution_count": 39,
      "metadata": {
        "id": "Zxwug-Kx9vnG"
      },
      "outputs": [],
      "source": [
        "''' we can see country column has some null value so its better to droping the rows in which there are NaN values '''\n",
        "# droping the columns\n",
        "country_Nan=hotel_booking_new[hotel_booking_new['country'].isna()]\n",
        "hotel_booking_new.drop(country_Nan.index,inplace=True)"
      ]
    },
    {
      "cell_type": "code",
      "execution_count": 40,
      "metadata": {
        "id": "ckO-lNRrA6-o",
        "colab": {
          "base_uri": "https://localhost:8080/"
        },
        "outputId": "0f287338-ea90-4aa9-e832-1bef3732edda"
      },
      "outputs": [
        {
          "output_type": "stream",
          "name": "stdout",
          "text": [
            "<class 'pandas.core.frame.DataFrame'>\n",
            "Int64Index: 118902 entries, 0 to 119389\n",
            "Data columns (total 29 columns):\n",
            " #   Column                          Non-Null Count   Dtype  \n",
            "---  ------                          --------------   -----  \n",
            " 0   hotel                           118902 non-null  object \n",
            " 1   is_canceled                     118902 non-null  int64  \n",
            " 2   lead_time                       118902 non-null  int64  \n",
            " 3   arrival_date_year               118902 non-null  int64  \n",
            " 4   arrival_date_month              118902 non-null  object \n",
            " 5   arrival_date_week_number        118902 non-null  int64  \n",
            " 6   arrival_date_day_of_month       118902 non-null  int64  \n",
            " 7   stays_in_weekend_nights         118902 non-null  int64  \n",
            " 8   stays_in_week_nights            118902 non-null  int64  \n",
            " 9   adults                          118902 non-null  int64  \n",
            " 10  meal                            118902 non-null  object \n",
            " 11  country                         118902 non-null  object \n",
            " 12  market_segment                  118902 non-null  object \n",
            " 13  distribution_channel            118902 non-null  object \n",
            " 14  is_repeated_guest               118902 non-null  int64  \n",
            " 15  previous_cancellations          118902 non-null  int64  \n",
            " 16  previous_bookings_not_canceled  118902 non-null  int64  \n",
            " 17  reserved_room_type              118902 non-null  object \n",
            " 18  assigned_room_type              118902 non-null  object \n",
            " 19  booking_changes                 118902 non-null  int64  \n",
            " 20  deposit_type                    118902 non-null  object \n",
            " 21  days_in_waiting_list            118902 non-null  int64  \n",
            " 22  customer_type                   118902 non-null  object \n",
            " 23  adr                             118902 non-null  float64\n",
            " 24  required_car_parking_spaces     118902 non-null  int64  \n",
            " 25  total_of_special_requests       118902 non-null  int64  \n",
            " 26  reservation_status              118902 non-null  object \n",
            " 27  reservation_status_date         118902 non-null  object \n",
            " 28  Kids                            118902 non-null  int64  \n",
            "dtypes: float64(1), int64(16), object(12)\n",
            "memory usage: 27.2+ MB\n"
          ]
        }
      ],
      "source": [
        "'''checking the information of the dataframe after cleaning if there are any null values are left or not and also the types of the columns'''\n",
        "# information for dataframe\n",
        "hotel_booking_new.info()"
      ]
    },
    {
      "cell_type": "markdown",
      "metadata": {
        "id": "1w6R1Hq_Xknt"
      },
      "source": [
        "**Dropping of rows in which no guests have arrived in the hotels**"
      ]
    },
    {
      "cell_type": "code",
      "execution_count": 41,
      "metadata": {
        "id": "rVeXwSXHWNiq"
      },
      "outputs": [],
      "source": [
        "'''finding the hotels in which no guest have arrived'''\n",
        "no_guests=hotel_booking_new[(hotel_booking_new['adults']+hotel_booking_new['Kids'])==0]"
      ]
    },
    {
      "cell_type": "code",
      "execution_count": 42,
      "metadata": {
        "id": "xISd5zUzYSYr"
      },
      "outputs": [],
      "source": [
        "# dropping row with zero quests\n",
        "hotel_booking_new= hotel_booking_new.drop(no_guests.index)"
      ]
    },
    {
      "cell_type": "code",
      "execution_count": 43,
      "metadata": {
        "id": "htMY3BaRZycM",
        "colab": {
          "base_uri": "https://localhost:8080/"
        },
        "outputId": "709755d8-7909-42a9-c022-33f74670fffd"
      },
      "outputs": [
        {
          "output_type": "execute_result",
          "data": {
            "text/plain": [
              "(118732, 29)"
            ]
          },
          "metadata": {},
          "execution_count": 43
        }
      ],
      "source": [
        "# new shape of the dataframe\n",
        "hotel_booking_new.shape"
      ]
    },
    {
      "cell_type": "markdown",
      "source": [
        "Analysing and visulisation of the data with number of questions "
      ],
      "metadata": {
        "id": "dcMM_eL99Ze4"
      }
    },
    {
      "cell_type": "markdown",
      "metadata": {
        "id": "PlZGtyCKJwT_"
      },
      "source": [
        "Q1. What is the booking percentage between Resort Hotel and City Hotel?**"
      ]
    },
    {
      "cell_type": "code",
      "execution_count": 44,
      "metadata": {
        "id": "2_3Cd-vaNpse",
        "colab": {
          "base_uri": "https://localhost:8080/"
        },
        "outputId": "0c61d686-4a36-4ec5-83a8-bae60c08ce74"
      },
      "outputs": [
        {
          "output_type": "stream",
          "name": "stdout",
          "text": [
            "City Hotel      79147\n",
            "Resort Hotel    39585\n",
            "Name: hotel, dtype: int64\n",
            "\n",
            "total number of hotels is 118732\n"
          ]
        }
      ],
      "source": [
        "# finding the number of hotels and its types\n",
        "num_of_hotel=hotel_booking_new['hotel'].value_counts()\n",
        "print(num_of_hotel)\n",
        "print()\n",
        "total_hotels=num_of_hotel.sum()\n",
        "print(f'total number of hotels is {total_hotels}')"
      ]
    },
    {
      "cell_type": "markdown",
      "source": [
        "***we can see that total number of hotels booked are 118732 in which number of city hotel are 79147 and resort hotel are 39585***"
      ],
      "metadata": {
        "id": "7o11kElGBAMf"
      }
    },
    {
      "cell_type": "markdown",
      "source": [
        "**Plotting a pie chart for booking percentage of type of hotels**"
      ],
      "metadata": {
        "id": "69TpODYPC0Da"
      }
    },
    {
      "cell_type": "code",
      "source": [
        "# plotting pie chart\n",
        "num_of_hotel.plot.pie(fontsize=15,autopct='%1.2f%%',figsize=(8,5),colors=['r','g'],ylabel='',explode=[0.2,0],shadow=True,startangle = 60)\n",
        "plt.title('Booking Percentage of Hotels',fontsize=15)\n",
        "plt.show()"
      ],
      "metadata": {
        "colab": {
          "base_uri": "https://localhost:8080/",
          "height": 321
        },
        "id": "ZMDiCjU4-lyw",
        "outputId": "e5da04cb-4099-4125-cda9-1939d63a630f"
      },
      "execution_count": 45,
      "outputs": [
        {
          "output_type": "display_data",
          "data": {
            "text/plain": [
              "<Figure size 576x360 with 1 Axes>"
            ],
            "image/png": "[encoded data removed]"
          },
          "metadata": {}
        }
      ]
    },
    {
      "cell_type": "markdown",
      "source": [
        "***We can see 66.66% of guests booked City Hotel whereas 33.34% has booked Resort Hotel***"
      ],
      "metadata": {
        "id": "dKR19sTGDlEg"
      }
    },
    {
      "cell_type": "markdown",
      "metadata": {
        "id": "kOevHKyDFjQ0"
      },
      "source": [
        "**Q2. Finding the Yearly bookings for each year given in the dataframe**"
      ]
    },
    {
      "cell_type": "code",
      "execution_count": 46,
      "metadata": {
        "id": "g3mCZIQOH1xy",
        "colab": {
          "base_uri": "https://localhost:8080/"
        },
        "outputId": "7c1442fd-22aa-4cae-e28b-e4de314f8e9e"
      },
      "outputs": [
        {
          "output_type": "execute_result",
          "data": {
            "text/plain": [
              "2016    56357\n",
              "2017    40541\n",
              "2015    21834\n",
              "Name: arrival_date_year, dtype: int64"
            ]
          },
          "metadata": {},
          "execution_count": 46
        }
      ],
      "source": [
        "# Total count of arrival date year\n",
        "hotel_booking_new['arrival_date_year'].value_counts() "
      ]
    },
    {
      "cell_type": "markdown",
      "source": [
        "***Total guests arrived in hotels are 2015 is 21834, 2016 is 56357 and in 2017 is 40541.***"
      ],
      "metadata": {
        "id": "07rTM7PvE7Cg"
      }
    },
    {
      "cell_type": "code",
      "source": [
        "# finding the total number of bookings in each years for city and resort hotels\n",
        "tot_num_book= hotel_booking_new.groupby(['hotel'])['arrival_date_year'].value_counts()\n",
        "tot_num_book"
      ],
      "metadata": {
        "colab": {
          "base_uri": "https://localhost:8080/"
        },
        "id": "V0NPOSZb40Vp",
        "outputId": "251e8d70-1668-467e-9bf7-b57064161316"
      },
      "execution_count": 47,
      "outputs": [
        {
          "output_type": "execute_result",
          "data": {
            "text/plain": [
              "hotel         arrival_date_year\n",
              "City Hotel    2016                 38058\n",
              "              2017                 27446\n",
              "              2015                 13643\n",
              "Resort Hotel  2016                 18299\n",
              "              2017                 13095\n",
              "              2015                  8191\n",
              "Name: arrival_date_year, dtype: int64"
            ]
          },
          "metadata": {},
          "execution_count": 47
        }
      ]
    },
    {
      "cell_type": "markdown",
      "source": [
        "***Total number of booking in City hotel in year 2015 is 13643, 2016 is 38058 and 2017  is 27446.\n",
        "Total number of booking in Resort hotel in year 2015 is 8191, 2016 is 18299 and 2017 is 13095***"
      ],
      "metadata": {
        "id": "yYkxTKc5R9D2"
      }
    },
    {
      "cell_type": "code",
      "execution_count": 48,
      "metadata": {
        "id": "14pouVeYIRND",
        "colab": {
          "base_uri": "https://localhost:8080/",
          "height": 314
        },
        "outputId": "087bfd1e-407f-4862-fbc1-2ba69ef4dcec"
      },
      "outputs": [
        {
          "output_type": "execute_result",
          "data": {
            "text/plain": [
              "Text(0.5, 1.0, 'Yearly bookings')"
            ]
          },
          "metadata": {},
          "execution_count": 48
        },
        {
          "output_type": "display_data",
          "data": {
            "text/plain": [
              "<Figure size 720x288 with 1 Axes>"
            ],
            "image/png": "[encoded data removed]"
          },
          "metadata": {
            "needs_background": "light"
          }
        }
      ],
      "source": [
        "# ploting a bargraph for yearly bookings of city and resort hotels\n",
        "plt.rcParams['figure.figsize']=(10,4)\n",
        "sns.countplot(x='arrival_date_year',data=hotel_booking_new,hue='hotel').set_title('Yearly bookings')\n"
      ]
    },
    {
      "cell_type": "markdown",
      "source": [
        "***we can absorb from above graph representation that the arrival of guests is maximum in year 2016 for resort as well as city hotels and minimum in year 2015 for resort as well as city hotels***"
      ],
      "metadata": {
        "id": "HrTp_MXIUZcW"
      }
    },
    {
      "cell_type": "markdown",
      "metadata": {
        "id": "pdLZiq6Ax1Z-"
      },
      "source": [
        "**Q3. Bookings which doesnot have any cancelation**"
      ]
    },
    {
      "cell_type": "code",
      "execution_count": 49,
      "metadata": {
        "id": "UR5BpzF4rY09",
        "colab": {
          "base_uri": "https://localhost:8080/",
          "height": 351
        },
        "outputId": "cd6cc8f1-7ad5-48c2-fe48-69e8cadf15ca"
      },
      "outputs": [
        {
          "output_type": "display_data",
          "data": {
            "text/plain": [
              "<Figure size 720x360 with 1 Axes>"
            ],
            "image/png": "[encoded data removed]"
          },
          "metadata": {
            "needs_background": "light"
          }
        }
      ],
      "source": [
        "# yearly bookings of hotels which were not cancelled\n",
        "not_canceled=hotel_booking_new[hotel_booking_new['is_canceled']==0]\n",
        "plt.rcParams['figure.figsize']=(10,5)\n",
        "sns.countplot(x='arrival_date_year',data=not_canceled,hue='hotel').set_title('Yearly Bookings')\n",
        "plt.show()"
      ]
    },
    {
      "cell_type": "markdown",
      "source": [
        "***we can absorb from above graph representation that the guests who has not cancelled booking is maximum in year 2016 and minimum in year 2015***"
      ],
      "metadata": {
        "id": "FTOmM1l8Z2kM"
      }
    },
    {
      "cell_type": "markdown",
      "metadata": {
        "id": "k-fKrhumdF5s"
      },
      "source": [
        "***Q3.How Many Booking Were Cancelled?***"
      ]
    },
    {
      "cell_type": "code",
      "execution_count": 60,
      "metadata": {
        "id": "QEjrGpIhIdMH",
        "colab": {
          "base_uri": "https://localhost:8080/",
          "height": 532
        },
        "outputId": "1d7975d1-5a3f-40d6-e3c3-662f7eaca02f"
      },
      "outputs": [
        {
          "output_type": "execute_result",
          "data": {
            "text/plain": [
              "Text(0.5, 1.0, 'Yearly Cancellation')"
            ]
          },
          "metadata": {},
          "execution_count": 60
        },
        {
          "output_type": "display_data",
          "data": {
            "text/plain": [
              "<Figure size 720x576 with 1 Axes>"
            ],
            "image/png": "[encoded data removed]"
          },
          "metadata": {
            "needs_background": "light"
          }
        }
      ],
      "source": [
        "canceled=hotel_booking_new[hotel_booking_new['is_canceled']!=0]\n",
        "plt.rcParams['figure.figsize']=(10,8)\n",
        "sns.countplot(x='arrival_date_year',data=canceled,hue='hotel').set_title('Yearly Cancellation')"
      ]
    },
    {
      "cell_type": "markdown",
      "source": [
        "***we can absorb from above graph representation that the guests who has not cancelled booking is maximum in year 2016 and minimum in year 2015***"
      ],
      "metadata": {
        "id": "deJqXgHZbCkW"
      }
    },
    {
      "cell_type": "code",
      "execution_count": 61,
      "metadata": {
        "id": "h_JaHSrQ3AWV",
        "colab": {
          "base_uri": "https://localhost:8080/"
        },
        "outputId": "4003594d-ed82-49ed-f6f4-d71132aca763"
      },
      "outputs": [
        {
          "output_type": "execute_result",
          "data": {
            "text/plain": [
              "array([0, 1])"
            ]
          },
          "metadata": {},
          "execution_count": 61
        }
      ],
      "source": [
        "hotel_booking_new['is_canceled'].unique()"
      ]
    },
    {
      "cell_type": "code",
      "execution_count": 62,
      "metadata": {
        "id": "7agRM5hy3lUZ"
      },
      "outputs": [],
      "source": [
        "hotel_booking_new['is_canceled'].replace({0:'No',1:'Yes'},inplace= True)"
      ]
    },
    {
      "cell_type": "code",
      "execution_count": 63,
      "metadata": {
        "id": "rON_FJIYB4Bb",
        "colab": {
          "base_uri": "https://localhost:8080/",
          "height": 531
        },
        "outputId": "ffc6755e-e6da-4e3f-f8a9-91bd1c24b3c5"
      },
      "outputs": [
        {
          "output_type": "execute_result",
          "data": {
            "text/plain": [
              "Text(0.5, 1.0, 'Cancellation')"
            ]
          },
          "metadata": {},
          "execution_count": 63
        },
        {
          "output_type": "display_data",
          "data": {
            "text/plain": [
              "<Figure size 720x576 with 1 Axes>"
            ],
            "image/png": "[encoded data removed]"
          },
          "metadata": {
            "needs_background": "light"
          }
        }
      ],
      "source": [
        "sns.countplot(hue =\"is_canceled\",data= hotel_booking_new, x='hotel').set_title('Cancellation')"
      ]
    },
    {
      "cell_type": "markdown",
      "source": [
        "***In this graph we can see that number of cancellation and number of non cacellation is much more in City Hotel as compared to Resort Hotel***"
      ],
      "metadata": {
        "id": "MC2vq7xPbk05"
      }
    },
    {
      "cell_type": "markdown",
      "metadata": {
        "id": "INimkQ_idfnT"
      },
      "source": [
        "***Q4.Which is the busiest month for hotels?***"
      ]
    },
    {
      "cell_type": "code",
      "execution_count": 64,
      "metadata": {
        "id": "KtEp3t-j-_Pq",
        "colab": {
          "base_uri": "https://localhost:8080/"
        },
        "outputId": "62033198-fde2-4901-8077-8bafbdab15e7"
      },
      "outputs": [
        {
          "output_type": "execute_result",
          "data": {
            "text/plain": [
              "hotel         arrival_date_month\n",
              "City Hotel    August                8983\n",
              "              May                   8232\n",
              "              July                  8088\n",
              "              June                  7894\n",
              "              October               7605\n",
              "              April                 7480\n",
              "              September             7400\n",
              "              March                 6458\n",
              "              February              4965\n",
              "              November              4357\n",
              "              December              4132\n",
              "              January               3736\n",
              "Resort Hotel  August                4894\n",
              "              July                  4573\n",
              "              April                 3609\n",
              "              May                   3559\n",
              "              October               3555\n",
              "              March                 3336\n",
              "              September             3108\n",
              "              February              3103\n",
              "              June                  3045\n",
              "              December              2648\n",
              "              November              2437\n",
              "              January               2193\n",
              "Name: arrival_date_month, dtype: int64"
            ]
          },
          "metadata": {},
          "execution_count": 64
        }
      ],
      "source": [
        "hotel_booking_new.groupby(['hotel'])['arrival_date_month'].value_counts()"
      ]
    },
    {
      "cell_type": "code",
      "execution_count": 65,
      "metadata": {
        "id": "7mh7q-LBAczu",
        "colab": {
          "base_uri": "https://localhost:8080/",
          "height": 423
        },
        "outputId": "cb1c5d47-6320-4f85-8657-1e455c04b881"
      },
      "outputs": [
        {
          "output_type": "execute_result",
          "data": {
            "text/plain": [
              "Text(0.5, 1.0, 'Busiest month')"
            ]
          },
          "metadata": {},
          "execution_count": 65
        },
        {
          "output_type": "display_data",
          "data": {
            "text/plain": [
              "<Figure size 1296x432 with 1 Axes>"
            ],
            "image/png": "[encoded data removed]"
          },
          "metadata": {
            "needs_background": "light"
          }
        }
      ],
      "source": [
        "plt.figure(figsize=(18,6))\n",
        "sns.countplot(x='arrival_date_month', hue='hotel', data= hotel_booking_new).set_title('Busiest month')"
      ]
    },
    {
      "cell_type": "markdown",
      "metadata": {
        "id": "r7XiPVp9Abq-"
      },
      "source": [
        "***By seeing the graph we can say that August month is most busiest month for both types of hotels***"
      ]
    },
    {
      "cell_type": "markdown",
      "metadata": {
        "id": "tNHqBXCWdiw6"
      },
      "source": [
        "Q5.From which country most guests come?\n"
      ]
    },
    {
      "cell_type": "code",
      "execution_count": 66,
      "metadata": {
        "id": "WyOPfTU2_rem",
        "colab": {
          "base_uri": "https://localhost:8080/"
        },
        "outputId": "bf8a6901-d782-4a5d-f59c-795f32c0edd7"
      },
      "outputs": [
        {
          "output_type": "execute_result",
          "data": {
            "text/plain": [
              "['PRT', 'GBR', 'FRA', 'ESP', 'DEU', 'ITA', 'IRL', 'BEL', 'BRA', 'NLD']"
            ]
          },
          "metadata": {},
          "execution_count": 66
        }
      ],
      "source": [
        "top10=hotel_booking_new['country'].value_counts().head(10).index.tolist()\n",
        "top10"
      ]
    },
    {
      "cell_type": "code",
      "execution_count": 67,
      "metadata": {
        "id": "UZd-flTw8Hc5"
      },
      "outputs": [],
      "source": [
        "top_10=hotel_booking_new[hotel_booking_new['country'].isin(top10)]"
      ]
    },
    {
      "cell_type": "code",
      "execution_count": 68,
      "metadata": {
        "id": "iYJsV_PO5Jwd",
        "colab": {
          "base_uri": "https://localhost:8080/",
          "height": 538
        },
        "outputId": "04a32f38-fc3a-4b26-e0c8-d04d6c8e7902"
      },
      "outputs": [
        {
          "output_type": "execute_result",
          "data": {
            "text/plain": [
              "Text(0.5, 1.0, ' Top countries with maximum hotel bookings')"
            ]
          },
          "metadata": {},
          "execution_count": 68
        },
        {
          "output_type": "display_data",
          "data": {
            "text/plain": [
              "<Figure size 1080x576 with 1 Axes>"
            ],
            "image/png": "[encoded data removed]"
          },
          "metadata": {
            "needs_background": "light"
          }
        }
      ],
      "source": [
        "plt.rcParams['figure.figsize']=(15,8)\n",
        "plt.xlabel('country',fontsize=15)\n",
        "plt.ylabel('counts',fontsize=15)\n",
        "sns.countplot(x='country',hue='hotel',data=top_10).set_title(' Top countries with maximum hotel bookings',fontsize=15)"
      ]
    },
    {
      "cell_type": "markdown",
      "metadata": {
        "id": "lTBz7beedlFA"
      },
      "source": [
        "How Long People Stay in the hotel?\n"
      ]
    },
    {
      "cell_type": "code",
      "execution_count": 69,
      "metadata": {
        "id": "rdI4mSCCVIn5",
        "colab": {
          "base_uri": "https://localhost:8080/"
        },
        "outputId": "9a3157b7-c63a-425e-bf57-4ca33c9154a0"
      },
      "outputs": [
        {
          "output_type": "execute_result",
          "data": {
            "text/plain": [
              "19"
            ]
          },
          "metadata": {},
          "execution_count": 69
        }
      ],
      "source": [
        "hotel_booking_new['stays_in_weekend_nights'].agg('max')"
      ]
    },
    {
      "cell_type": "code",
      "execution_count": 70,
      "metadata": {
        "id": "TrW_BrhBOlGB",
        "colab": {
          "base_uri": "https://localhost:8080/"
        },
        "outputId": "d37b6c54-0f12-4ba7-9889-cc133bdad503"
      },
      "outputs": [
        {
          "output_type": "execute_result",
          "data": {
            "text/plain": [
              "50"
            ]
          },
          "metadata": {},
          "execution_count": 70
        }
      ],
      "source": [
        "hotel_booking_new['stays_in_week_nights'].agg('max')"
      ]
    },
    {
      "cell_type": "code",
      "execution_count": 71,
      "metadata": {
        "id": "TzbOo0HVOfw7",
        "colab": {
          "base_uri": "https://localhost:8080/",
          "height": 516
        },
        "outputId": "b4480ae6-da73-4e03-c285-0b9489dac69f"
      },
      "outputs": [
        {
          "output_type": "execute_result",
          "data": {
            "text/plain": [
              "<matplotlib.axes._subplots.AxesSubplot at 0x7f0479d44d50>"
            ]
          },
          "metadata": {},
          "execution_count": 71
        },
        {
          "output_type": "display_data",
          "data": {
            "text/plain": [
              "<Figure size 1080x576 with 1 Axes>"
            ],
            "image/png": "[encoded data removed]"
          },
          "metadata": {
            "needs_background": "light"
          }
        }
      ],
      "source": [
        "sns.lineplot(x='arrival_date_month',y='adr',hue='hotel',data=hotel_booking_new,marker='D',markersize=10)"
      ]
    },
    {
      "cell_type": "code",
      "execution_count": 72,
      "metadata": {
        "id": "kgh3h1ddNv9V",
        "colab": {
          "base_uri": "https://localhost:8080/",
          "height": 516
        },
        "outputId": "a5bf6828-3888-475e-8b76-321d98532e74"
      },
      "outputs": [
        {
          "output_type": "execute_result",
          "data": {
            "text/plain": [
              "<matplotlib.legend.Legend at 0x7f0479cdd1d0>"
            ]
          },
          "metadata": {},
          "execution_count": 72
        },
        {
          "output_type": "display_data",
          "data": {
            "text/plain": [
              "<Figure size 1080x576 with 1 Axes>"
            ],
            "image/png": "[encoded data removed]"
          },
          "metadata": {
            "needs_background": "light"
          }
        }
      ],
      "source": [
        "sns.lineplot(x='arrival_date_day_of_month',y='adr',hue='hotel',data=hotel_booking_new)\n",
        "plt.legend(loc=\"lower right\")"
      ]
    },
    {
      "cell_type": "markdown",
      "metadata": {
        "id": "amtGxDFGdnsM"
      },
      "source": [
        "Which was the most booked accommodation type (Single, Couple, Family)?"
      ]
    },
    {
      "cell_type": "code",
      "source": [
        "hotel_booking_new['adults'].unique()"
      ],
      "metadata": {
        "id": "uAWhWPoCMlN8",
        "colab": {
          "base_uri": "https://localhost:8080/"
        },
        "outputId": "d036a420-8c5c-40c3-8386-3c67adc3a602"
      },
      "execution_count": 73,
      "outputs": [
        {
          "output_type": "execute_result",
          "data": {
            "text/plain": [
              "array([ 2,  1,  3,  4, 40, 26, 50, 27, 55,  0, 20,  6,  5, 10])"
            ]
          },
          "metadata": {},
          "execution_count": 73
        }
      ]
    },
    {
      "cell_type": "code",
      "source": [
        "booked_1=hotel_booking_new[hotel_booking_new['adults']==1]\n",
        "booked_2=hotel_booking_new[hotel_booking_new['adults']==2]\n",
        "booked_3=hotel_booking_new[hotel_booking_new['adults']>2]"
      ],
      "metadata": {
        "id": "XKRWXE-3WKdV"
      },
      "execution_count": 74,
      "outputs": []
    },
    {
      "cell_type": "code",
      "source": [
        "booked_3.head(2)\n",
        "# b3=booked_3.copy()\n",
        "# b3['fam']=b3['adults']+b3['Kids']"
      ],
      "metadata": {
        "id": "C57ixQOg31rU",
        "colab": {
          "base_uri": "https://localhost:8080/",
          "height": 240
        },
        "outputId": "7a3f1407-633e-4f28-9dc3-feb1195db799"
      },
      "execution_count": 77,
      "outputs": [
        {
          "output_type": "execute_result",
          "data": {
            "text/plain": [
              "           hotel is_canceled  lead_time  arrival_date_year arrival_date_month  \\\n",
              "34  Resort Hotel         Yes         45               2015               July   \n",
              "35  Resort Hotel         Yes         40               2015               July   \n",
              "\n",
              "    arrival_date_week_number  arrival_date_day_of_month  \\\n",
              "34                        27                          2   \n",
              "35                        27                          2   \n",
              "\n",
              "    stays_in_weekend_nights  stays_in_week_nights  adults  ...  deposit_type  \\\n",
              "34                        1                     3       3  ...    No Deposit   \n",
              "35                        1                     3       3  ...    No Deposit   \n",
              "\n",
              "    agent company days_in_waiting_list customer_type    adr  \\\n",
              "34  241.0     NaN                    0     Transient  108.8   \n",
              "35  241.0     NaN                    0     Transient  108.8   \n",
              "\n",
              "    required_car_parking_spaces  total_of_special_requests  \\\n",
              "34                            0                          1   \n",
              "35                            0                          1   \n",
              "\n",
              "    reservation_status reservation_status_date  \n",
              "34            Canceled              2015-05-19  \n",
              "35            Canceled              2015-06-19  \n",
              "\n",
              "[2 rows x 32 columns]"
            ],
            "text/html": [
              "\n",
              "  <div id=\"df-c15012c8-4915-419d-bf61-29c399c19760\">\n",
              "    <div class=\"colab-df-container\">\n",
              "      <div>\n",
              "<style scoped>\n",
              "    .dataframe tbody tr th:only-of-type {\n",
              "        vertical-align: middle;\n",
              "    }\n",
              "\n",
              "    .dataframe tbody tr th {\n",
              "        vertical-align: top;\n",
              "    }\n",
              "\n",
              "    .dataframe thead th {\n",
              "        text-align: right;\n",
              "    }\n",
              "</style>\n",
              "<table border=\"1\" class=\"dataframe\">\n",
              "  <thead>\n",
              "    <tr style=\"text-align: right;\">\n",
              "      <th></th>\n",
              "      <th>hotel</th>\n",
              "      <th>is_canceled</th>\n",
              "      <th>lead_time</th>\n",
              "      <th>arrival_date_year</th>\n",
              "      <th>arrival_date_month</th>\n",
              "      <th>arrival_date_week_number</th>\n",
              "      <th>arrival_date_day_of_month</th>\n",
              "      <th>stays_in_weekend_nights</th>\n",
              "      <th>stays_in_week_nights</th>\n",
              "      <th>adults</th>\n",
              "      <th>...</th>\n",
              "      <th>deposit_type</th>\n",
              "      <th>agent</th>\n",
              "      <th>company</th>\n",
              "      <th>days_in_waiting_list</th>\n",
              "      <th>customer_type</th>\n",
              "      <th>adr</th>\n",
              "      <th>required_car_parking_spaces</th>\n",
              "      <th>total_of_special_requests</th>\n",
              "      <th>reservation_status</th>\n",
              "      <th>reservation_status_date</th>\n",
              "    </tr>\n",
              "  </thead>\n",
              "  <tbody>\n",
              "    <tr>\n",
              "      <th>34</th>\n",
              "      <td>Resort Hotel</td>\n",
              "      <td>Yes</td>\n",
              "      <td>45</td>\n",
              "      <td>2015</td>\n",
              "      <td>July</td>\n",
              "      <td>27</td>\n",
              "      <td>2</td>\n",
              "      <td>1</td>\n",
              "      <td>3</td>\n",
              "      <td>3</td>\n",
              "      <td>...</td>\n",
              "      <td>No Deposit</td>\n",
              "      <td>241.0</td>\n",
              "      <td>NaN</td>\n",
              "      <td>0</td>\n",
              "      <td>Transient</td>\n",
              "      <td>108.8</td>\n",
              "      <td>0</td>\n",
              "      <td>1</td>\n",
              "      <td>Canceled</td>\n",
              "      <td>2015-05-19</td>\n",
              "    </tr>\n",
              "    <tr>\n",
              "      <th>35</th>\n",
              "      <td>Resort Hotel</td>\n",
              "      <td>Yes</td>\n",
              "      <td>40</td>\n",
              "      <td>2015</td>\n",
              "      <td>July</td>\n",
              "      <td>27</td>\n",
              "      <td>2</td>\n",
              "      <td>1</td>\n",
              "      <td>3</td>\n",
              "      <td>3</td>\n",
              "      <td>...</td>\n",
              "      <td>No Deposit</td>\n",
              "      <td>241.0</td>\n",
              "      <td>NaN</td>\n",
              "      <td>0</td>\n",
              "      <td>Transient</td>\n",
              "      <td>108.8</td>\n",
              "      <td>0</td>\n",
              "      <td>1</td>\n",
              "      <td>Canceled</td>\n",
              "      <td>2015-06-19</td>\n",
              "    </tr>\n",
              "  </tbody>\n",
              "</table>\n",
              "<p>2 rows × 32 columns</p>\n",
              "</div>\n",
              "      <button class=\"colab-df-convert\" onclick=\"convertToInteractive('df-c15012c8-4915-419d-bf61-29c399c19760')\"\n",
              "              title=\"Convert this dataframe to an interactive table.\"\n",
              "              style=\"display:none;\">\n",
              "        \n",
              "  <svg xmlns=\"http://www.w3.org/2000/svg\" height=\"24px\"viewBox=\"0 0 24 24\"\n",
              "       width=\"24px\">\n",
              "    <path d=\"M0 0h24v24H0V0z\" fill=\"none\"/>\n",
              "    <path d=\"M18.56 5.44l.94 2.06.94-2.06 2.06-.94-2.06-.94-.94-2.06-.94 2.06-2.06.94zm-11 1L8.5 8.5l.94-2.06 2.06-.94-2.06-.94L8.5 2.5l-.94 2.06-2.06.94zm10 10l.94 2.06.94-2.06 2.06-.94-2.06-.94-.94-2.06-.94 2.06-2.06.94z\"/><path d=\"M17.41 7.96l-1.37-1.37c-.4-.4-.92-.59-1.43-.59-.52 0-1.04.2-1.43.59L10.3 9.45l-7.72 7.72c-.78.78-.78 2.05 0 2.83L4 21.41c.39.39.9.59 1.41.59.51 0 1.02-.2 1.41-.59l7.78-7.78 2.81-2.81c.8-.78.8-2.07 0-2.86zM5.41 20L4 18.59l7.72-7.72 1.47 1.35L5.41 20z\"/>\n",
              "  </svg>\n",
              "      </button>\n",
              "      \n",
              "  <style>\n",
              "    .colab-df-container {\n",
              "      display:flex;\n",
              "      flex-wrap:wrap;\n",
              "      gap: 12px;\n",
              "    }\n",
              "\n",
              "    .colab-df-convert {\n",
              "      background-color: #E8F0FE;\n",
              "      border: none;\n",
              "      border-radius: 50%;\n",
              "      cursor: pointer;\n",
              "      display: none;\n",
              "      fill: #1967D2;\n",
              "      height: 32px;\n",
              "      padding: 0 0 0 0;\n",
              "      width: 32px;\n",
              "    }\n",
              "\n",
              "    .colab-df-convert:hover {\n",
              "      background-color: #E2EBFA;\n",
              "      box-shadow: 0px 1px 2px rgba(60, 64, 67, 0.3), 0px 1px 3px 1px rgba(60, 64, 67, 0.15);\n",
              "      fill: #174EA6;\n",
              "    }\n",
              "\n",
              "    [theme=dark] .colab-df-convert {\n",
              "      background-color: #3B4455;\n",
              "      fill: #D2E3FC;\n",
              "    }\n",
              "\n",
              "    [theme=dark] .colab-df-convert:hover {\n",
              "      background-color: #434B5C;\n",
              "      box-shadow: 0px 1px 3px 1px rgba(0, 0, 0, 0.15);\n",
              "      filter: drop-shadow(0px 1px 2px rgba(0, 0, 0, 0.3));\n",
              "      fill: #FFFFFF;\n",
              "    }\n",
              "  </style>\n",
              "\n",
              "      <script>\n",
              "        const buttonEl =\n",
              "          document.querySelector('#df-c15012c8-4915-419d-bf61-29c399c19760 button.colab-df-convert');\n",
              "        buttonEl.style.display =\n",
              "          google.colab.kernel.accessAllowed ? 'block' : 'none';\n",
              "\n",
              "        async function convertToInteractive(key) {\n",
              "          const element = document.querySelector('#df-c15012c8-4915-419d-bf61-29c399c19760');\n",
              "          const dataTable =\n",
              "            await google.colab.kernel.invokeFunction('convertToInteractive',\n",
              "                                                     [key], {});\n",
              "          if (!dataTable) return;\n",
              "\n",
              "          const docLinkHtml = 'Like what you see? Visit the ' +\n",
              "            '<a target=\"_blank\" href=https://colab.research.google.com/notebooks/data_table.ipynb>data table notebook</a>'\n",
              "            + ' to learn more about interactive tables.';\n",
              "          element.innerHTML = '';\n",
              "          dataTable['output_type'] = 'display_data';\n",
              "          await google.colab.output.renderOutput(dataTable, element);\n",
              "          const docLink = document.createElement('div');\n",
              "          docLink.innerHTML = docLinkHtml;\n",
              "          element.appendChild(docLink);\n",
              "        }\n",
              "      </script>\n",
              "    </div>\n",
              "  </div>\n",
              "  "
            ]
          },
          "metadata": {},
          "execution_count": 77
        }
      ]
    },
    {
      "cell_type": "code",
      "source": [
        "b2=b3[['fam','hotel']]\n",
        "fd=b2.groupby(['hotel'])['fam'].count()\n",
        "fd=fd.rename('family')"
      ],
      "metadata": {
        "id": "CvY8jzc87Y3D"
      },
      "execution_count": null,
      "outputs": []
    },
    {
      "cell_type": "code",
      "source": [
        "sing1=booked_1[['adults','hotel']]\n",
        "p=sing1.groupby(['hotel'])['adults'].value_counts()\n",
        "p=p.droplevel(level=1)\n",
        "p=p.rename('single')"
      ],
      "metadata": {
        "id": "6aqWc5MtUTFs"
      },
      "execution_count": null,
      "outputs": []
    },
    {
      "cell_type": "code",
      "source": [
        "ring=booked_2[['adults','hotel']]\n",
        "ri=ring.groupby(['hotel'])['adults'].value_counts()\n",
        "ri=ri.droplevel(level=1)\n",
        "ri=ri.rename('couple')"
      ],
      "metadata": {
        "id": "Q4zoNLx3Ppiy"
      },
      "execution_count": null,
      "outputs": []
    },
    {
      "cell_type": "code",
      "source": [
        "df=pd.concat([p,ri,fd],axis=1)\n",
        "df"
      ],
      "metadata": {
        "id": "i5vKPbqA6AtD"
      },
      "execution_count": null,
      "outputs": []
    },
    {
      "cell_type": "code",
      "source": [
        "df=df.transpose()\n",
        "df"
      ],
      "metadata": {
        "id": "jXC156-2xok6"
      },
      "execution_count": null,
      "outputs": []
    },
    {
      "cell_type": "code",
      "source": [
        "df.shape"
      ],
      "metadata": {
        "id": "X70KoPg-1SHC"
      },
      "execution_count": null,
      "outputs": []
    },
    {
      "cell_type": "code",
      "source": [
        "x_axis=np.arange(len(df))\n",
        "x_axis"
      ],
      "metadata": {
        "id": "xwJ5Mt02yTbB"
      },
      "execution_count": null,
      "outputs": []
    },
    {
      "cell_type": "code",
      "source": [
        "plt.bar(x_axis - 0.2, df['City Hotel'], 0.4, label = 'City Hotel')\n",
        "plt.bar(x_axis + 0.2, df['Resort Hotel'], 0.4, label = 'Resort Hotel')\n",
        "  \n",
        "plt.xticks(x_axis,df.index.tolist())\n",
        "# plt.xlabel(\"Groups\")\n",
        "plt.ylabel(\"Number of guests\")\n",
        "plt.title(\"Accomodations\")\n",
        "plt.legend()\n",
        "plt.show()"
      ],
      "metadata": {
        "id": "I_Q8Hz8-ACjg"
      },
      "execution_count": null,
      "outputs": []
    },
    {
      "cell_type": "code",
      "source": [
        "single_x=p.index.tolist()\n",
        "single_x=np.array(single_x)"
      ],
      "metadata": {
        "id": "lASk1C_Z9CyL"
      },
      "execution_count": null,
      "outputs": []
    },
    {
      "cell_type": "code",
      "source": [
        "single_y=p.tolist()"
      ],
      "metadata": {
        "id": "TVXpfvrY9PNZ"
      },
      "execution_count": null,
      "outputs": []
    },
    {
      "cell_type": "code",
      "source": [
        "couple_y=ri.tolist()"
      ],
      "metadata": {
        "id": "sQUqw8Yo9cdz"
      },
      "execution_count": null,
      "outputs": []
    },
    {
      "cell_type": "code",
      "source": [
        "fam_y=fd.tolist()"
      ],
      "metadata": {
        "id": "XUdHOvuA9nNR"
      },
      "execution_count": null,
      "outputs": []
    },
    {
      "cell_type": "code",
      "source": [
        "plt.rcParams['figure.figsize']=(20,8)\n",
        "plt.subplot(1,6,1)\n",
        "\n",
        "plt.bar(single_x,single_y,width=0.5,align='center',color='r')\n",
        "plt.xlabel('Single')\n",
        "plt.ylabel('no of quests')\n",
        "plt.subplot(1,6,3)\n",
        "plt.title(\"Acommadation type\")\n",
        "plt.bar(single_x,couple_y,width=0.5,align='center',color='g')\n",
        "plt.xlabel('Couple')\n",
        "plt.ylabel('no of quests')\n",
        "plt.subplot(1,6,5)\n",
        "plt.bar(single_x,fam_y,width=0.5,align='center',color='orange')\n",
        "plt.xlabel('family')\n",
        "plt.ylabel('no of quests')"
      ],
      "metadata": {
        "id": "CMeVFD2G-2O8"
      },
      "execution_count": null,
      "outputs": []
    },
    {
      "cell_type": "code",
      "source": [
        "hotel_booking_new['customer_type'].unique()"
      ],
      "metadata": {
        "id": "qJ9XrAI-TclP"
      },
      "execution_count": null,
      "outputs": []
    },
    {
      "cell_type": "markdown",
      "metadata": {
        "id": "cC6-FIzd7EI1"
      },
      "source": [
        "which is the most market segment?"
      ]
    },
    {
      "cell_type": "code",
      "execution_count": null,
      "metadata": {
        "id": "v8LCvV9pQBhZ"
      },
      "outputs": [],
      "source": [
        "market_segment=hotel_booking_new['market_segment'].value_counts()\n",
        "w=market_segment.index.tolist()"
      ]
    },
    {
      "cell_type": "code",
      "execution_count": null,
      "metadata": {
        "id": "RK4itBNuLW3K"
      },
      "outputs": [],
      "source": [
        "v=hotel_booking_new['market_segment'].value_counts().tolist()\n",
        "sum=0\n",
        "for i in v:\n",
        "  sum=sum+i"
      ]
    },
    {
      "cell_type": "code",
      "execution_count": null,
      "metadata": {
        "id": "jClUQZTAQDxG"
      },
      "outputs": [],
      "source": [
        "tot=[]\n",
        "for i in v:\n",
        "  tot.append(str(round(i*100/sum,1))+\"%\")\n",
        "tot"
      ]
    },
    {
      "cell_type": "code",
      "execution_count": null,
      "metadata": {
        "id": "Ajd8Zp5nLj6V"
      },
      "outputs": [],
      "source": [
        "q=list(zip(w,tot))\n",
        "q"
      ]
    },
    {
      "cell_type": "code",
      "execution_count": null,
      "metadata": {
        "id": "gGDNTrv_MOfv"
      },
      "outputs": [],
      "source": [
        "l=[]\n",
        "for i in q:\n",
        "  n = str(i).replace(\",\",\"=\")\n",
        "  l.append(n)\n",
        "l"
      ]
    },
    {
      "cell_type": "code",
      "execution_count": null,
      "metadata": {
        "id": "gzcdDA_tOsq5"
      },
      "outputs": [],
      "source": [
        "l=np.array(l)\n",
        "l.shape"
      ]
    },
    {
      "cell_type": "code",
      "execution_count": null,
      "metadata": {
        "id": "zzY3TN2ZSmvR"
      },
      "outputs": [],
      "source": [
        "\n",
        "plt.rcParams['figure.figsize']=(10,15)\n",
        "plt.rcParams['font.size']=15\n",
        "# x=market_segment.plot.pie(fontsize=12,title='Market Segment',ylabel='',explode=[0,0.2,0.2,0.2,0.2,0.2,0.2,0])\n",
        "patches, texts = plt.pie(market_segment, startangle=90, radius=1.2)\n",
        "plt.legend(patches,labels=l,loc='lower right')\n",
        "plt.axis('equal')"
      ]
    },
    {
      "cell_type": "markdown",
      "metadata": {
        "id": "rchrjRAq7LRz"
      },
      "source": [
        "What is the relationship between lead time and cancellation?\n"
      ]
    },
    {
      "cell_type": "code",
      "execution_count": null,
      "metadata": {
        "id": "Xkjkk7PqE2-B"
      },
      "outputs": [],
      "source": [
        "x=hotel_booking_new['hotel'].value_counts().sum()\n"
      ]
    },
    {
      "cell_type": "code",
      "execution_count": null,
      "metadata": {
        "id": "CznTah94aMUI"
      },
      "outputs": [],
      "source": [
        "rel_lead_canc=hotel_booking_new.groupby(['lead_time','is_canceled'])['hotel'].size().unstack().reset_index()\n",
        "rel_lead_canc.head(2)"
      ]
    },
    {
      "cell_type": "code",
      "execution_count": null,
      "metadata": {
        "id": "GZQqtUpO_czr"
      },
      "outputs": [],
      "source": [
        "plt.rcParams['figure.figsize']=(15,8)\n",
        "lead_time=rel_lead_canc.loc[:,['lead_time']]\n",
        "lt=lead_time.lead_time.to_list()"
      ]
    },
    {
      "cell_type": "code",
      "execution_count": null,
      "metadata": {
        "id": "11U-qU547uya"
      },
      "outputs": [],
      "source": [
        "No=rel_lead_canc.No.fillna(0)\n",
        "Yes=rel_lead_canc.Yes.fillna(0)"
      ]
    },
    {
      "cell_type": "code",
      "execution_count": null,
      "metadata": {
        "id": "hXEO91Bz8Qkc"
      },
      "outputs": [],
      "source": [
        "plt.rcParams['figure.figsize']=(25,10)\n",
        "plt.plot(lt,Yes,color='r')\n",
        "plt.plot(lt,No,color='k')\n",
        "plt.xlabel('Lead Time')\n",
        "plt.ylabel('no of hotels')\n",
        "plt.legend(title='is canceled',labels=['Yes','No'])\n",
        "plt.title('relation between lead time and cancellation')"
      ]
    },
    {
      "cell_type": "markdown",
      "metadata": {
        "id": "Ku-vYftb-lSv"
      },
      "source": [
        "Market segment has any impact on repeated customer?"
      ]
    },
    {
      "cell_type": "code",
      "execution_count": null,
      "metadata": {
        "id": "JhK5BGIjBgT4"
      },
      "outputs": [],
      "source": [
        "hotel_booking_new['is_repeated_guest'].replace({0:'No',1:'Yes'},inplace=True)"
      ]
    },
    {
      "cell_type": "code",
      "execution_count": null,
      "metadata": {
        "id": "3eunkH3yA6Yy"
      },
      "outputs": [],
      "source": [
        "repeated_quest=hotel_booking_new[hotel_booking_new['is_repeated_guest']=='Yes']\n",
        "not_repeated_quest=hotel_booking_new[hotel_booking_new['is_repeated_guest']=='No']"
      ]
    },
    {
      "cell_type": "code",
      "execution_count": null,
      "metadata": {
        "id": "vrLW-axqBHLD"
      },
      "outputs": [],
      "source": [
        "plt.xticks(rotation=90)\n",
        "sns.countplot(x='market_segment',hue='is_repeated_guest',data=hotel_booking_new)"
      ]
    },
    {
      "cell_type": "markdown",
      "metadata": {
        "id": "DjTeqvdhDRpz"
      },
      "source": [
        "If guests are assgined different room then reserved are they cancelling?\n"
      ]
    },
    {
      "cell_type": "code",
      "execution_count": null,
      "metadata": {
        "id": "kIFoKoOv2-KK"
      },
      "outputs": [],
      "source": [
        "hotel_booking_new['required_car_parking_spaces'].value_counts()\n"
      ]
    },
    {
      "cell_type": "code",
      "execution_count": null,
      "metadata": {
        "id": "AMunuhseMNPP"
      },
      "outputs": [],
      "source": [
        "x_car=hotel_booking_new['required_car_parking_spaces'].value_counts().index.tolist()\n",
        "y_car=hotel_booking_new['required_car_parking_spaces'].value_counts().tolist()"
      ]
    },
    {
      "cell_type": "code",
      "execution_count": null,
      "metadata": {
        "id": "K-KHiCG4MlY3"
      },
      "outputs": [],
      "source": [
        "plt.rcParams['figure.figsize']=(10,8)\n",
        "plt.plot(x_car,y_car,marker='D',ls='dotted')\n",
        "plt.ylabel('Count')\n",
        "plt.xlabel(\"no of parkings\")\n",
        "plt.title('Required car parking spaces')"
      ]
    },
    {
      "cell_type": "code",
      "execution_count": null,
      "metadata": {
        "id": "l7tTtPYLK8Rv"
      },
      "outputs": [],
      "source": [
        "sns.countplot(x='required_car_parking_spaces',hue='hotel',data= hotel_booking_new)"
      ]
    },
    {
      "cell_type": "code",
      "execution_count": null,
      "metadata": {
        "id": "wVTU_yrI5W_P"
      },
      "outputs": [],
      "source": [
        "hotel_booking_new.columns"
      ]
    },
    {
      "cell_type": "code",
      "execution_count": null,
      "metadata": {
        "id": "mXWcD9Vee0-T"
      },
      "outputs": [],
      "source": [
        "hotel_booking_new['reservation_status'].unique()"
      ]
    },
    {
      "cell_type": "code",
      "execution_count": null,
      "metadata": {
        "id": "Z2zA9lLMLiRP"
      },
      "outputs": [],
      "source": [
        "check_out=hotel_booking_new[hotel_booking_new['reservation_status']=='Check-Out']\n",
        "check_out=check_out[['reservation_status_date','arrival_date_day_of_month','arrival_date_month','arrival_date_year']]\n",
        "check_out.head()"
      ]
    },
    {
      "cell_type": "code",
      "execution_count": null,
      "metadata": {
        "id": "pUPoW6n760nG"
      },
      "outputs": [],
      "source": [
        "from datetime import datetime\n",
        "check_out['reservation_status_date']=pd.to_datetime(check_out['reservation_status_date'], format='%Y-%m-%d')\n",
        "check_out['reservation_status_date']\n",
        "check_in=check_out.iloc[:,1:]\n",
        "day=check_in['arrival_date_day_of_month'].tolist()\n",
        "month=check_in['arrival_date_month'].tolist()\n",
        "year=check_in['arrival_date_year'].tolist()\n"
      ]
    },
    {
      "cell_type": "code",
      "execution_count": null,
      "metadata": {
        "id": "evyqRlsP5E_6"
      },
      "outputs": [],
      "source": [
        "check_in_date=list(zip(day,month,year))\n",
        "check_in_date=np.array(check_in_date)\n",
        "check_in_date"
      ]
    },
    {
      "cell_type": "code",
      "execution_count": null,
      "metadata": {
        "id": "vLi9NVVIDdA1"
      },
      "outputs": [],
      "source": [
        "check_date=[]\n",
        "for i in check_in_date:\n",
        "  v=i[2]+'-'+i[1][:3]+'-'+i[0]\n",
        "  check_date.append(datetime.strptime(v,'%Y-%b-%d'))\n",
        "check_date\n",
        "  \n"
      ]
    },
    {
      "cell_type": "code",
      "execution_count": null,
      "metadata": {
        "id": "zP9PUu_m46b8"
      },
      "outputs": [],
      "source": [
        "check_out['arrival_date']=check_date"
      ]
    },
    {
      "cell_type": "code",
      "execution_count": null,
      "metadata": {
        "id": "cv0zYtkQU1pT"
      },
      "outputs": [],
      "source": [
        "check_out.head()"
      ]
    },
    {
      "cell_type": "code",
      "execution_count": null,
      "metadata": {
        "id": "nN_vjOZA55YY"
      },
      "outputs": [],
      "source": [
        "check_in_out=check_out.drop(check_out.iloc[:,1:4],axis=1)\n",
        "check_in_out=check_in_out.assign(Total_stay= lambda x:(x['reservation_status_date']-x['arrival_date']))\n",
        "check_in_out['adr']=hotel_booking_new['adr']\n",
        "check_in_out.shape"
      ]
    },
    {
      "cell_type": "code",
      "execution_count": null,
      "metadata": {
        "id": "TKO2RCT-ZtGM"
      },
      "outputs": [],
      "source": [
        "check_in_out['Total_stay'].unique()"
      ]
    },
    {
      "cell_type": "code",
      "source": [
        "stay_list=check_in_out[\"Total_stay\"].tolist()\n",
        "stay_list"
      ],
      "metadata": {
        "id": "84TzcQkFWnUA"
      },
      "execution_count": null,
      "outputs": []
    },
    {
      "cell_type": "code",
      "execution_count": null,
      "metadata": {
        "id": "WkQu4oRNWG9O"
      },
      "outputs": [],
      "source": [
        "vv=[]\n",
        "for i in str(stay_list).split(\",\"):\n",
        "  vv.append(int(i[12:14]))\n",
        "set(vv)"
      ]
    },
    {
      "cell_type": "code",
      "execution_count": null,
      "metadata": {
        "id": "kI92NjDRYgOJ"
      },
      "outputs": [],
      "source": [
        "check_in_out['Total_stay1']=vv\n",
        "c=check_in_out['Total_stay1']"
      ]
    },
    {
      "cell_type": "code",
      "execution_count": null,
      "metadata": {
        "id": "WA_pMHSz536P"
      },
      "outputs": [],
      "source": [
        "mean=check_in_out.groupby([c])['adr'].mean()\n",
        "mean"
      ]
    },
    {
      "cell_type": "code",
      "execution_count": null,
      "metadata": {
        "id": "XARmblxDWZ0X"
      },
      "outputs": [],
      "source": [
        "ry=mean.tolist()"
      ]
    },
    {
      "cell_type": "code",
      "execution_count": null,
      "metadata": {
        "id": "cZUnfm6C_gmR"
      },
      "outputs": [],
      "source": [
        "tx=mean.index.tolist()\n",
        "tx"
      ]
    },
    {
      "cell_type": "code",
      "execution_count": null,
      "metadata": {
        "id": "Cu31uukSBDP_"
      },
      "outputs": [],
      "source": [
        "\n",
        "plt.plot(tx,ry)\n"
      ]
    },
    {
      "cell_type": "code",
      "execution_count": null,
      "metadata": {
        "id": "cOcjg57zC7eM"
      },
      "outputs": [],
      "source": [
        "x=hotel_booking_new['stays_in_week_nights']+hotel_booking_new['stays_in_weekend_nights']\n",
        "y=hotel_booking_new.groupby([x])['adr'].mean()"
      ]
    },
    {
      "cell_type": "code",
      "execution_count": null,
      "metadata": {
        "id": "n1hQOa0hDYoB"
      },
      "outputs": [],
      "source": [
        "r=y.tolist()\n",
        "q=y.index"
      ]
    },
    {
      "cell_type": "code",
      "source": [
        "plt.plot(q,r)"
      ],
      "metadata": {
        "id": "wvYQ33oFNRYr"
      },
      "execution_count": null,
      "outputs": []
    },
    {
      "cell_type": "code",
      "source": [
        "hotel_booking_new.columns"
      ],
      "metadata": {
        "id": "Nc3LxAjdwjjo"
      },
      "execution_count": null,
      "outputs": []
    },
    {
      "cell_type": "code",
      "source": [
        "hotel_booking_new['meal'].unique()"
      ],
      "metadata": {
        "id": "SKZW6KdVOj96"
      },
      "execution_count": null,
      "outputs": []
    },
    {
      "cell_type": "code",
      "source": [
        "u=hotel_booking_new['meal'].value_counts()\n",
        "u.plot(kind='bar',xlabel='Type of meals',ylabel='no of guests',color=['red','g','b','k','y'],title='meal prefered')"
      ],
      "metadata": {
        "id": "UrEYCliEPB0R"
      },
      "execution_count": null,
      "outputs": []
    }
  ],
  "metadata": {
    "colab": {
      "collapsed_sections": [],
      "name": "Hotel Booking Analysis - Souvik Capstone Project.ipynb",
      "provenance": [],
      "include_colab_link": true
    },
    "kernelspec": {
      "display_name": "Python 3",
      "language": "python",
      "name": "python3"
    },
    "language_info": {
      "codemirror_mode": {
        "name": "ipython",
        "version": 3
      },
      "file_extension": ".py",
      "mimetype": "text/x-python",
      "name": "python",
      "nbconvert_exporter": "python",
      "pygments_lexer": "ipython3",
      "version": "3.6.6"
    }
  },
  "nbformat": 4,
  "nbformat_minor": 0
}