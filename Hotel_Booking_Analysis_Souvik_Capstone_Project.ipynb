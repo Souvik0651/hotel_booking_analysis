{
  "cells": [
    {
      "cell_type": "markdown",
      "metadata": {
        "id": "view-in-github",
        "colab_type": "text"
      },
      "source": [
        "<a href=\"https://colab.research.google.com/github/Souvik0651/hotel_booking_analysis/blob/main/Hotel_Booking_Analysis_Souvik_Capstone_Project.ipynb\" target=\"_parent\"><img src=\"https://colab.research.google.com/assets/colab-badge.svg\" alt=\"Open In Colab\"/></a>"
      ]
    },
    {
      "cell_type": "markdown",
      "metadata": {
        "id": "Y06xIdG26kRF"
      },
      "source": [
        "## <b> Have you ever wondered when the best time of year to book a hotel room is? Or the optimal length of stay in order to get the best daily rate? What if you wanted to predict whether or not a hotel was likely to receive a disproportionately high number of special requests? This hotel booking dataset can help you explore those questions!\n",
        "\n",
        "## <b>This data set contains booking information for a city hotel and a resort hotel, and includes information such as when the booking was made, length of stay, the number of adults, children, and/or babies, and the number of available parking spaces, among other things. All personally identifying information has been removed from the data. </b>\n",
        "\n",
        "## <b> Explore and analyze the data to discover important factors that govern the bookings. </b>"
      ]
    },
    {
      "cell_type": "markdown",
      "metadata": {
        "id": "Ukj6SbiBPOiR"
      },
      "source": [
        " **Importing Pandas Numpy matplotlib and seabornin the notebook**"
      ]
    },
    {
      "cell_type": "code",
      "execution_count": null,
      "metadata": {
        "id": "xMWA85P7Kgj1"
      },
      "outputs": [],
      "source": [
        "#import numpy and pandas library\n",
        "import numpy as np      \n",
        "import pandas as pd    "
      ]
    },
    {
      "cell_type": "code",
      "execution_count": null,
      "metadata": {
        "id": "37L5_uUHS66o"
      },
      "outputs": [],
      "source": [
        "#import matplotlib and seaborn\n",
        "import matplotlib.pyplot as plt\n",
        "import seaborn as sns"
      ]
    },
    {
      "cell_type": "markdown",
      "metadata": {
        "id": "vpE-ekmqQFBC"
      },
      "source": [
        " **Loading the Hotel Bookings.csv kept in the Drive**"
      ]
    },
    {
      "cell_type": "code",
      "execution_count": null,
      "metadata": {
        "id": "iO7xofL4LF14",
        "colab": {
          "base_uri": "https://localhost:8080/"
        },
        "outputId": "63c07772-7b66-4e52-97e9-b586700883a1"
      },
      "outputs": [
        {
          "output_type": "stream",
          "name": "stdout",
          "text": [
            "Mounted at /content/drive\n"
          ]
        }
      ],
      "source": [
        "#mounting the csv file in colab notebook\n",
        "from google.colab import drive    \n",
        "drive.mount('/content/drive')"
      ]
    },
    {
      "cell_type": "code",
      "execution_count": null,
      "metadata": {
        "id": "dByMsuzT8Tnw"
      },
      "outputs": [],
      "source": [
        "#loading the csv file from drive\n",
        "hotel_booking_df=pd.read_csv('/content/drive/MyDrive/Colab Notebooks/Capstone project -1/Hotel Bookings.csv')"
      ]
    },
    {
      "cell_type": "markdown",
      "source": [
        "Data exploration is the first step of data analysis used to explore and visualize data to uncover insights from the start or identify areas or patterns to dig into more"
      ],
      "metadata": {
        "id": "ff7TScTh6PZC"
      }
    },
    {
      "cell_type": "code",
      "execution_count": null,
      "metadata": {
        "id": "xWbzDBw8Mw9r",
        "colab": {
          "base_uri": "https://localhost:8080/",
          "height": 386
        },
        "outputId": "e496d25c-a7db-46c7-b123-0bff32681fc5"
      },
      "outputs": [
        {
          "output_type": "execute_result",
          "data": {
            "text/plain": [
              "          hotel  is_canceled  lead_time  arrival_date_year arrival_date_month  \\\n",
              "0  Resort Hotel            0        342               2015               July   \n",
              "1  Resort Hotel            0        737               2015               July   \n",
              "2  Resort Hotel            0          7               2015               July   \n",
              "3  Resort Hotel            0         13               2015               July   \n",
              "4  Resort Hotel            0         14               2015               July   \n",
              "\n",
              "   arrival_date_week_number  arrival_date_day_of_month  \\\n",
              "0                        27                          1   \n",
              "1                        27                          1   \n",
              "2                        27                          1   \n",
              "3                        27                          1   \n",
              "4                        27                          1   \n",
              "\n",
              "   stays_in_weekend_nights  stays_in_week_nights  adults  ...  deposit_type  \\\n",
              "0                        0                     0       2  ...    No Deposit   \n",
              "1                        0                     0       2  ...    No Deposit   \n",
              "2                        0                     1       1  ...    No Deposit   \n",
              "3                        0                     1       1  ...    No Deposit   \n",
              "4                        0                     2       2  ...    No Deposit   \n",
              "\n",
              "   agent company days_in_waiting_list customer_type   adr  \\\n",
              "0    NaN     NaN                    0     Transient   0.0   \n",
              "1    NaN     NaN                    0     Transient   0.0   \n",
              "2    NaN     NaN                    0     Transient  75.0   \n",
              "3  304.0     NaN                    0     Transient  75.0   \n",
              "4  240.0     NaN                    0     Transient  98.0   \n",
              "\n",
              "   required_car_parking_spaces  total_of_special_requests  reservation_status  \\\n",
              "0                            0                          0           Check-Out   \n",
              "1                            0                          0           Check-Out   \n",
              "2                            0                          0           Check-Out   \n",
              "3                            0                          0           Check-Out   \n",
              "4                            0                          1           Check-Out   \n",
              "\n",
              "  reservation_status_date  \n",
              "0              2015-07-01  \n",
              "1              2015-07-01  \n",
              "2              2015-07-02  \n",
              "3              2015-07-02  \n",
              "4              2015-07-03  \n",
              "\n",
              "[5 rows x 32 columns]"
            ],
            "text/html": [
              "\n",
              "  <div id=\"df-1f1e151b-7ae5-4944-aa1e-e2505e62c68a\">\n",
              "    <div class=\"colab-df-container\">\n",
              "      <div>\n",
              "<style scoped>\n",
              "    .dataframe tbody tr th:only-of-type {\n",
              "        vertical-align: middle;\n",
              "    }\n",
              "\n",
              "    .dataframe tbody tr th {\n",
              "        vertical-align: top;\n",
              "    }\n",
              "\n",
              "    .dataframe thead th {\n",
              "        text-align: right;\n",
              "    }\n",
              "</style>\n",
              "<table border=\"1\" class=\"dataframe\">\n",
              "  <thead>\n",
              "    <tr style=\"text-align: right;\">\n",
              "      <th></th>\n",
              "      <th>hotel</th>\n",
              "      <th>is_canceled</th>\n",
              "      <th>lead_time</th>\n",
              "      <th>arrival_date_year</th>\n",
              "      <th>arrival_date_month</th>\n",
              "      <th>arrival_date_week_number</th>\n",
              "      <th>arrival_date_day_of_month</th>\n",
              "      <th>stays_in_weekend_nights</th>\n",
              "      <th>stays_in_week_nights</th>\n",
              "      <th>adults</th>\n",
              "      <th>...</th>\n",
              "      <th>deposit_type</th>\n",
              "      <th>agent</th>\n",
              "      <th>company</th>\n",
              "      <th>days_in_waiting_list</th>\n",
              "      <th>customer_type</th>\n",
              "      <th>adr</th>\n",
              "      <th>required_car_parking_spaces</th>\n",
              "      <th>total_of_special_requests</th>\n",
              "      <th>reservation_status</th>\n",
              "      <th>reservation_status_date</th>\n",
              "    </tr>\n",
              "  </thead>\n",
              "  <tbody>\n",
              "    <tr>\n",
              "      <th>0</th>\n",
              "      <td>Resort Hotel</td>\n",
              "      <td>0</td>\n",
              "      <td>342</td>\n",
              "      <td>2015</td>\n",
              "      <td>July</td>\n",
              "      <td>27</td>\n",
              "      <td>1</td>\n",
              "      <td>0</td>\n",
              "      <td>0</td>\n",
              "      <td>2</td>\n",
              "      <td>...</td>\n",
              "      <td>No Deposit</td>\n",
              "      <td>NaN</td>\n",
              "      <td>NaN</td>\n",
              "      <td>0</td>\n",
              "      <td>Transient</td>\n",
              "      <td>0.0</td>\n",
              "      <td>0</td>\n",
              "      <td>0</td>\n",
              "      <td>Check-Out</td>\n",
              "      <td>2015-07-01</td>\n",
              "    </tr>\n",
              "    <tr>\n",
              "      <th>1</th>\n",
              "      <td>Resort Hotel</td>\n",
              "      <td>0</td>\n",
              "      <td>737</td>\n",
              "      <td>2015</td>\n",
              "      <td>July</td>\n",
              "      <td>27</td>\n",
              "      <td>1</td>\n",
              "      <td>0</td>\n",
              "      <td>0</td>\n",
              "      <td>2</td>\n",
              "      <td>...</td>\n",
              "      <td>No Deposit</td>\n",
              "      <td>NaN</td>\n",
              "      <td>NaN</td>\n",
              "      <td>0</td>\n",
              "      <td>Transient</td>\n",
              "      <td>0.0</td>\n",
              "      <td>0</td>\n",
              "      <td>0</td>\n",
              "      <td>Check-Out</td>\n",
              "      <td>2015-07-01</td>\n",
              "    </tr>\n",
              "    <tr>\n",
              "      <th>2</th>\n",
              "      <td>Resort Hotel</td>\n",
              "      <td>0</td>\n",
              "      <td>7</td>\n",
              "      <td>2015</td>\n",
              "      <td>July</td>\n",
              "      <td>27</td>\n",
              "      <td>1</td>\n",
              "      <td>0</td>\n",
              "      <td>1</td>\n",
              "      <td>1</td>\n",
              "      <td>...</td>\n",
              "      <td>No Deposit</td>\n",
              "      <td>NaN</td>\n",
              "      <td>NaN</td>\n",
              "      <td>0</td>\n",
              "      <td>Transient</td>\n",
              "      <td>75.0</td>\n",
              "      <td>0</td>\n",
              "      <td>0</td>\n",
              "      <td>Check-Out</td>\n",
              "      <td>2015-07-02</td>\n",
              "    </tr>\n",
              "    <tr>\n",
              "      <th>3</th>\n",
              "      <td>Resort Hotel</td>\n",
              "      <td>0</td>\n",
              "      <td>13</td>\n",
              "      <td>2015</td>\n",
              "      <td>July</td>\n",
              "      <td>27</td>\n",
              "      <td>1</td>\n",
              "      <td>0</td>\n",
              "      <td>1</td>\n",
              "      <td>1</td>\n",
              "      <td>...</td>\n",
              "      <td>No Deposit</td>\n",
              "      <td>304.0</td>\n",
              "      <td>NaN</td>\n",
              "      <td>0</td>\n",
              "      <td>Transient</td>\n",
              "      <td>75.0</td>\n",
              "      <td>0</td>\n",
              "      <td>0</td>\n",
              "      <td>Check-Out</td>\n",
              "      <td>2015-07-02</td>\n",
              "    </tr>\n",
              "    <tr>\n",
              "      <th>4</th>\n",
              "      <td>Resort Hotel</td>\n",
              "      <td>0</td>\n",
              "      <td>14</td>\n",
              "      <td>2015</td>\n",
              "      <td>July</td>\n",
              "      <td>27</td>\n",
              "      <td>1</td>\n",
              "      <td>0</td>\n",
              "      <td>2</td>\n",
              "      <td>2</td>\n",
              "      <td>...</td>\n",
              "      <td>No Deposit</td>\n",
              "      <td>240.0</td>\n",
              "      <td>NaN</td>\n",
              "      <td>0</td>\n",
              "      <td>Transient</td>\n",
              "      <td>98.0</td>\n",
              "      <td>0</td>\n",
              "      <td>1</td>\n",
              "      <td>Check-Out</td>\n",
              "      <td>2015-07-03</td>\n",
              "    </tr>\n",
              "  </tbody>\n",
              "</table>\n",
              "<p>5 rows × 32 columns</p>\n",
              "</div>\n",
              "      <button class=\"colab-df-convert\" onclick=\"convertToInteractive('df-1f1e151b-7ae5-4944-aa1e-e2505e62c68a')\"\n",
              "              title=\"Convert this dataframe to an interactive table.\"\n",
              "              style=\"display:none;\">\n",
              "        \n",
              "  <svg xmlns=\"http://www.w3.org/2000/svg\" height=\"24px\"viewBox=\"0 0 24 24\"\n",
              "       width=\"24px\">\n",
              "    <path d=\"M0 0h24v24H0V0z\" fill=\"none\"/>\n",
              "    <path d=\"M18.56 5.44l.94 2.06.94-2.06 2.06-.94-2.06-.94-.94-2.06-.94 2.06-2.06.94zm-11 1L8.5 8.5l.94-2.06 2.06-.94-2.06-.94L8.5 2.5l-.94 2.06-2.06.94zm10 10l.94 2.06.94-2.06 2.06-.94-2.06-.94-.94-2.06-.94 2.06-2.06.94z\"/><path d=\"M17.41 7.96l-1.37-1.37c-.4-.4-.92-.59-1.43-.59-.52 0-1.04.2-1.43.59L10.3 9.45l-7.72 7.72c-.78.78-.78 2.05 0 2.83L4 21.41c.39.39.9.59 1.41.59.51 0 1.02-.2 1.41-.59l7.78-7.78 2.81-2.81c.8-.78.8-2.07 0-2.86zM5.41 20L4 18.59l7.72-7.72 1.47 1.35L5.41 20z\"/>\n",
              "  </svg>\n",
              "      </button>\n",
              "      \n",
              "  <style>\n",
              "    .colab-df-container {\n",
              "      display:flex;\n",
              "      flex-wrap:wrap;\n",
              "      gap: 12px;\n",
              "    }\n",
              "\n",
              "    .colab-df-convert {\n",
              "      background-color: #E8F0FE;\n",
              "      border: none;\n",
              "      border-radius: 50%;\n",
              "      cursor: pointer;\n",
              "      display: none;\n",
              "      fill: #1967D2;\n",
              "      height: 32px;\n",
              "      padding: 0 0 0 0;\n",
              "      width: 32px;\n",
              "    }\n",
              "\n",
              "    .colab-df-convert:hover {\n",
              "      background-color: #E2EBFA;\n",
              "      box-shadow: 0px 1px 2px rgba(60, 64, 67, 0.3), 0px 1px 3px 1px rgba(60, 64, 67, 0.15);\n",
              "      fill: #174EA6;\n",
              "    }\n",
              "\n",
              "    [theme=dark] .colab-df-convert {\n",
              "      background-color: #3B4455;\n",
              "      fill: #D2E3FC;\n",
              "    }\n",
              "\n",
              "    [theme=dark] .colab-df-convert:hover {\n",
              "      background-color: #434B5C;\n",
              "      box-shadow: 0px 1px 3px 1px rgba(0, 0, 0, 0.15);\n",
              "      filter: drop-shadow(0px 1px 2px rgba(0, 0, 0, 0.3));\n",
              "      fill: #FFFFFF;\n",
              "    }\n",
              "  </style>\n",
              "\n",
              "      <script>\n",
              "        const buttonEl =\n",
              "          document.querySelector('#df-1f1e151b-7ae5-4944-aa1e-e2505e62c68a button.colab-df-convert');\n",
              "        buttonEl.style.display =\n",
              "          google.colab.kernel.accessAllowed ? 'block' : 'none';\n",
              "\n",
              "        async function convertToInteractive(key) {\n",
              "          const element = document.querySelector('#df-1f1e151b-7ae5-4944-aa1e-e2505e62c68a');\n",
              "          const dataTable =\n",
              "            await google.colab.kernel.invokeFunction('convertToInteractive',\n",
              "                                                     [key], {});\n",
              "          if (!dataTable) return;\n",
              "\n",
              "          const docLinkHtml = 'Like what you see? Visit the ' +\n",
              "            '<a target=\"_blank\" href=https://colab.research.google.com/notebooks/data_table.ipynb>data table notebook</a>'\n",
              "            + ' to learn more about interactive tables.';\n",
              "          element.innerHTML = '';\n",
              "          dataTable['output_type'] = 'display_data';\n",
              "          await google.colab.output.renderOutput(dataTable, element);\n",
              "          const docLink = document.createElement('div');\n",
              "          docLink.innerHTML = docLinkHtml;\n",
              "          element.appendChild(docLink);\n",
              "        }\n",
              "      </script>\n",
              "    </div>\n",
              "  </div>\n",
              "  "
            ]
          },
          "metadata": {},
          "execution_count": 5
        }
      ],
      "source": [
        "# viewing the top five row of the file \n",
        "hotel_booking_df.head()"
      ]
    },
    {
      "cell_type": "code",
      "execution_count": null,
      "metadata": {
        "id": "eo_UrdqgK6tC",
        "colab": {
          "base_uri": "https://localhost:8080/"
        },
        "outputId": "9ff6c8bc-bb52-4aed-b972-7f27daaf5ab9"
      },
      "outputs": [
        {
          "output_type": "execute_result",
          "data": {
            "text/plain": [
              "(119390, 32)"
            ]
          },
          "metadata": {},
          "execution_count": 6
        }
      ],
      "source": [
        "# finding the shape of the dataframe\n",
        "hotel_booking_df.shape"
      ]
    },
    {
      "cell_type": "code",
      "execution_count": null,
      "metadata": {
        "id": "PlNdpU5BNLn5",
        "colab": {
          "base_uri": "https://localhost:8080/"
        },
        "outputId": "92525a64-6933-4359-ce11-d860d12cfe33"
      },
      "outputs": [
        {
          "output_type": "stream",
          "name": "stdout",
          "text": [
            "<class 'pandas.core.frame.DataFrame'>\n",
            "RangeIndex: 119390 entries, 0 to 119389\n",
            "Data columns (total 32 columns):\n",
            " #   Column                          Non-Null Count   Dtype  \n",
            "---  ------                          --------------   -----  \n",
            " 0   hotel                           119390 non-null  object \n",
            " 1   is_canceled                     119390 non-null  int64  \n",
            " 2   lead_time                       119390 non-null  int64  \n",
            " 3   arrival_date_year               119390 non-null  int64  \n",
            " 4   arrival_date_month              119390 non-null  object \n",
            " 5   arrival_date_week_number        119390 non-null  int64  \n",
            " 6   arrival_date_day_of_month       119390 non-null  int64  \n",
            " 7   stays_in_weekend_nights         119390 non-null  int64  \n",
            " 8   stays_in_week_nights            119390 non-null  int64  \n",
            " 9   adults                          119390 non-null  int64  \n",
            " 10  children                        119386 non-null  float64\n",
            " 11  babies                          119390 non-null  int64  \n",
            " 12  meal                            119390 non-null  object \n",
            " 13  country                         118902 non-null  object \n",
            " 14  market_segment                  119390 non-null  object \n",
            " 15  distribution_channel            119390 non-null  object \n",
            " 16  is_repeated_guest               119390 non-null  int64  \n",
            " 17  previous_cancellations          119390 non-null  int64  \n",
            " 18  previous_bookings_not_canceled  119390 non-null  int64  \n",
            " 19  reserved_room_type              119390 non-null  object \n",
            " 20  assigned_room_type              119390 non-null  object \n",
            " 21  booking_changes                 119390 non-null  int64  \n",
            " 22  deposit_type                    119390 non-null  object \n",
            " 23  agent                           103050 non-null  float64\n",
            " 24  company                         6797 non-null    float64\n",
            " 25  days_in_waiting_list            119390 non-null  int64  \n",
            " 26  customer_type                   119390 non-null  object \n",
            " 27  adr                             119390 non-null  float64\n",
            " 28  required_car_parking_spaces     119390 non-null  int64  \n",
            " 29  total_of_special_requests       119390 non-null  int64  \n",
            " 30  reservation_status              119390 non-null  object \n",
            " 31  reservation_status_date         119390 non-null  object \n",
            "dtypes: float64(4), int64(16), object(12)\n",
            "memory usage: 29.1+ MB\n"
          ]
        }
      ],
      "source": [
        "# total information of dataframe\n",
        "hotel_booking_df.info()"
      ]
    },
    {
      "cell_type": "markdown",
      "source": [
        "Data reprocessing means data cleaning data trasformation and data reduction which will enhance the performance and understanding of a dataframe"
      ],
      "metadata": {
        "id": "hhFHMd_Y6CqZ"
      }
    },
    {
      "cell_type": "markdown",
      "metadata": {
        "id": "s9eG2s6ImdFC"
      },
      "source": [
        "**Making a copy of a original dataframe so that we work on the copy dataframe and the original data frame doesnot get affected**"
      ]
    },
    {
      "cell_type": "code",
      "execution_count": null,
      "metadata": {
        "id": "mIhhmrTSjhVt"
      },
      "outputs": [],
      "source": [
        "# making a copy of original dataframe \n",
        "hotel_booking_new= hotel_booking_df.copy()"
      ]
    },
    {
      "cell_type": "markdown",
      "metadata": {
        "id": "7dXPXNBogIub"
      },
      "source": [
        "**Data cleaning for better understanding of DataFrame**"
      ]
    },
    {
      "cell_type": "code",
      "execution_count": null,
      "metadata": {
        "id": "B9LtvFzgNzDL",
        "colab": {
          "base_uri": "https://localhost:8080/"
        },
        "outputId": "470cb264-5a20-4240-de69-aed3ea93d481"
      },
      "outputs": [
        {
          "output_type": "execute_result",
          "data": {
            "text/plain": [
              "hotel                                  0\n",
              "is_canceled                            0\n",
              "lead_time                              0\n",
              "arrival_date_year                      0\n",
              "arrival_date_month                     0\n",
              "arrival_date_week_number               0\n",
              "arrival_date_day_of_month              0\n",
              "stays_in_weekend_nights                0\n",
              "stays_in_week_nights                   0\n",
              "adults                                 0\n",
              "children                               4\n",
              "babies                                 0\n",
              "meal                                   0\n",
              "country                              488\n",
              "market_segment                         0\n",
              "distribution_channel                   0\n",
              "is_repeated_guest                      0\n",
              "previous_cancellations                 0\n",
              "previous_bookings_not_canceled         0\n",
              "reserved_room_type                     0\n",
              "assigned_room_type                     0\n",
              "booking_changes                        0\n",
              "deposit_type                           0\n",
              "agent                              16340\n",
              "company                           112593\n",
              "days_in_waiting_list                   0\n",
              "customer_type                          0\n",
              "adr                                    0\n",
              "required_car_parking_spaces            0\n",
              "total_of_special_requests              0\n",
              "reservation_status                     0\n",
              "reservation_status_date                0\n",
              "dtype: int64"
            ]
          },
          "metadata": {},
          "execution_count": 9
        }
      ],
      "source": [
        "# finding the null values\n",
        "hotel_booking_new.isnull().sum()"
      ]
    },
    {
      "cell_type": "code",
      "execution_count": null,
      "metadata": {
        "id": "5wZV5apOCQ8Y"
      },
      "outputs": [],
      "source": [
        "'''we can see that children has only four null values so we are replacing the null values with 0'''\n",
        "# replacing NaN value for children column\n",
        "hotel_booking_new['children']=hotel_booking_new['children'].fillna(0)"
      ]
    },
    {
      "cell_type": "code",
      "execution_count": null,
      "metadata": {
        "id": "v0fix71j-Dk-",
        "colab": {
          "base_uri": "https://localhost:8080/"
        },
        "outputId": "9ed9fd8f-5f47-43c9-8151-520978859f8b"
      },
      "outputs": [
        {
          "output_type": "execute_result",
          "data": {
            "text/plain": [
              "hotel                                  0\n",
              "is_canceled                            0\n",
              "lead_time                              0\n",
              "arrival_date_year                      0\n",
              "arrival_date_month                     0\n",
              "arrival_date_week_number               0\n",
              "arrival_date_day_of_month              0\n",
              "stays_in_weekend_nights                0\n",
              "stays_in_week_nights                   0\n",
              "adults                                 0\n",
              "children                               0\n",
              "babies                                 0\n",
              "meal                                   0\n",
              "country                              488\n",
              "market_segment                         0\n",
              "distribution_channel                   0\n",
              "is_repeated_guest                      0\n",
              "previous_cancellations                 0\n",
              "previous_bookings_not_canceled         0\n",
              "reserved_room_type                     0\n",
              "assigned_room_type                     0\n",
              "booking_changes                        0\n",
              "deposit_type                           0\n",
              "agent                              16340\n",
              "company                           112593\n",
              "days_in_waiting_list                   0\n",
              "customer_type                          0\n",
              "adr                                    0\n",
              "required_car_parking_spaces            0\n",
              "total_of_special_requests              0\n",
              "reservation_status                     0\n",
              "reservation_status_date                0\n",
              "dtype: int64"
            ]
          },
          "metadata": {},
          "execution_count": 11
        }
      ],
      "source": [
        "'''after replacing children null values with 0 again checking how many columns has null value to fix them'''\n",
        "# finding the total NaN values\n",
        "hotel_booking_new.isnull().sum()"
      ]
    },
    {
      "cell_type": "code",
      "execution_count": null,
      "metadata": {
        "id": "4TgjoVITeEgF"
      },
      "outputs": [],
      "source": [
        "'''we are adding two columns children and babies to get their total numbers in one column name as kids'''\n",
        "#  adding children and babies in one column\n",
        "hotel_booking_new['Kids']=(hotel_booking_new['children']+hotel_booking_new['babies']).astype(int)"
      ]
    },
    {
      "cell_type": "code",
      "execution_count": null,
      "metadata": {
        "id": "0ZSU0x0ggaGB"
      },
      "outputs": [],
      "source": [
        "'''we can see that agents and comapnies has many null values so it is better to drop the columns'''\n",
        "''' we will also drop the column babies and children as we have added and made a new column as kids'''\n",
        "# droping the columns \n",
        "hotel_booking_new.drop(['babies','children','company','agent'],axis=1,inplace=True)"
      ]
    },
    {
      "cell_type": "code",
      "execution_count": null,
      "metadata": {
        "id": "Zxwug-Kx9vnG"
      },
      "outputs": [],
      "source": [
        "''' we can see country column has some null value so its better to droping the rows in which there are NaN values '''\n",
        "# droping the columns\n",
        "country_Nan=hotel_booking_new[hotel_booking_new['country'].isna()]\n",
        "hotel_booking_new.drop(country_Nan.index,inplace=True)"
      ]
    },
    {
      "cell_type": "code",
      "execution_count": null,
      "metadata": {
        "id": "ckO-lNRrA6-o",
        "colab": {
          "base_uri": "https://localhost:8080/"
        },
        "outputId": "5c44f1b9-82ea-4ccc-aafe-a03ef9ebbb8b"
      },
      "outputs": [
        {
          "output_type": "stream",
          "name": "stdout",
          "text": [
            "<class 'pandas.core.frame.DataFrame'>\n",
            "Int64Index: 118902 entries, 0 to 119389\n",
            "Data columns (total 29 columns):\n",
            " #   Column                          Non-Null Count   Dtype  \n",
            "---  ------                          --------------   -----  \n",
            " 0   hotel                           118902 non-null  object \n",
            " 1   is_canceled                     118902 non-null  int64  \n",
            " 2   lead_time                       118902 non-null  int64  \n",
            " 3   arrival_date_year               118902 non-null  int64  \n",
            " 4   arrival_date_month              118902 non-null  object \n",
            " 5   arrival_date_week_number        118902 non-null  int64  \n",
            " 6   arrival_date_day_of_month       118902 non-null  int64  \n",
            " 7   stays_in_weekend_nights         118902 non-null  int64  \n",
            " 8   stays_in_week_nights            118902 non-null  int64  \n",
            " 9   adults                          118902 non-null  int64  \n",
            " 10  meal                            118902 non-null  object \n",
            " 11  country                         118902 non-null  object \n",
            " 12  market_segment                  118902 non-null  object \n",
            " 13  distribution_channel            118902 non-null  object \n",
            " 14  is_repeated_guest               118902 non-null  int64  \n",
            " 15  previous_cancellations          118902 non-null  int64  \n",
            " 16  previous_bookings_not_canceled  118902 non-null  int64  \n",
            " 17  reserved_room_type              118902 non-null  object \n",
            " 18  assigned_room_type              118902 non-null  object \n",
            " 19  booking_changes                 118902 non-null  int64  \n",
            " 20  deposit_type                    118902 non-null  object \n",
            " 21  days_in_waiting_list            118902 non-null  int64  \n",
            " 22  customer_type                   118902 non-null  object \n",
            " 23  adr                             118902 non-null  float64\n",
            " 24  required_car_parking_spaces     118902 non-null  int64  \n",
            " 25  total_of_special_requests       118902 non-null  int64  \n",
            " 26  reservation_status              118902 non-null  object \n",
            " 27  reservation_status_date         118902 non-null  object \n",
            " 28  Kids                            118902 non-null  int64  \n",
            "dtypes: float64(1), int64(16), object(12)\n",
            "memory usage: 27.2+ MB\n"
          ]
        }
      ],
      "source": [
        "'''checking the information of the dataframe after cleaning if there are any null values are left or not and also the types of the columns'''\n",
        "# information for dataframe\n",
        "hotel_booking_new.info()"
      ]
    },
    {
      "cell_type": "markdown",
      "metadata": {
        "id": "1w6R1Hq_Xknt"
      },
      "source": [
        "**Dropping of rows in which no guests have arrived in the hotels**"
      ]
    },
    {
      "cell_type": "code",
      "execution_count": null,
      "metadata": {
        "id": "rVeXwSXHWNiq"
      },
      "outputs": [],
      "source": [
        "'''finding the hotels in which no guest have arrived'''\n",
        "no_guests=hotel_booking_new[(hotel_booking_new['adults']+hotel_booking_new['Kids'])==0]"
      ]
    },
    {
      "cell_type": "code",
      "execution_count": null,
      "metadata": {
        "id": "xISd5zUzYSYr"
      },
      "outputs": [],
      "source": [
        "# dropping row with zero quests\n",
        "hotel_booking_new= hotel_booking_new.drop(no_guests.index)"
      ]
    },
    {
      "cell_type": "code",
      "execution_count": null,
      "metadata": {
        "id": "htMY3BaRZycM",
        "colab": {
          "base_uri": "https://localhost:8080/"
        },
        "outputId": "14dfad1c-d838-40f4-efce-fec457e59bed"
      },
      "outputs": [
        {
          "output_type": "execute_result",
          "data": {
            "text/plain": [
              "(118732, 29)"
            ]
          },
          "metadata": {},
          "execution_count": 18
        }
      ],
      "source": [
        "# new shape of the dataframe\n",
        "hotel_booking_new.shape"
      ]
    },
    {
      "cell_type": "markdown",
      "source": [
        "Analysing and visulisation of the data with number of questions "
      ],
      "metadata": {
        "id": "dcMM_eL99Ze4"
      }
    },
    {
      "cell_type": "markdown",
      "metadata": {
        "id": "PlZGtyCKJwT_"
      },
      "source": [
        " Q1.***What is the booking percentage between Resort Hotel and City Hotel?**"
      ]
    },
    {
      "cell_type": "code",
      "execution_count": null,
      "metadata": {
        "id": "2_3Cd-vaNpse",
        "colab": {
          "base_uri": "https://localhost:8080/"
        },
        "outputId": "1147af00-4555-4dfa-ac90-f3519fe08263"
      },
      "outputs": [
        {
          "output_type": "stream",
          "name": "stdout",
          "text": [
            "City Hotel      79147\n",
            "Resort Hotel    39585\n",
            "Name: hotel, dtype: int64\n",
            "\n",
            "total number of hotels is 118732\n"
          ]
        }
      ],
      "source": [
        "# finding the number of hotels and its types\n",
        "num_of_hotel=hotel_booking_new['hotel'].value_counts()\n",
        "print(num_of_hotel)\n",
        "print()\n",
        "total_hotels=num_of_hotel.sum()\n",
        "print(f'total number of hotels is {total_hotels}')"
      ]
    },
    {
      "cell_type": "markdown",
      "source": [
        "***we can see that total number of hotels booked are 118732 in which number of city hotel are 79147 and resort hotel are 39585***"
      ],
      "metadata": {
        "id": "7o11kElGBAMf"
      }
    },
    {
      "cell_type": "markdown",
      "source": [
        "**Plotting a pie chart for booking percentage of type of hotels**"
      ],
      "metadata": {
        "id": "69TpODYPC0Da"
      }
    },
    {
      "cell_type": "code",
      "source": [
        "# plotting pie chart\n",
        "num_of_hotel.plot.pie(fontsize=15,autopct='%1.2f%%',figsize=(8,5),colors=['r','g'],ylabel='',explode=[0.2,0],shadow=True,startangle = 60)\n",
        "plt.title('Booking Percentage of Hotels',fontsize=15)\n",
        "plt.show()"
      ],
      "metadata": {
        "colab": {
          "base_uri": "https://localhost:8080/",
          "height": 321
        },
        "id": "ZMDiCjU4-lyw",
        "outputId": "cfea5668-dfc7-49bc-99a9-0cb0629c5fb5"
      },
      "execution_count": null,
      "outputs": [
        {
          "output_type": "display_data",
          "data": {
            "text/plain": [
              "<Figure size 576x360 with 1 Axes>"
            ],
            "image/png": "[encoded data removed]"
          },
          "metadata": {}
        }
      ]
    },
    {
      "cell_type": "markdown",
      "source": [
        "***We can see 2/3 guests prefer city hotels over resorts***"
      ],
      "metadata": {
        "id": "dKR19sTGDlEg"
      }
    },
    {
      "cell_type": "markdown",
      "metadata": {
        "id": "kOevHKyDFjQ0"
      },
      "source": [
        "**Q2. Finding the Yearly bookings for each year given in the dataframe**"
      ]
    },
    {
      "cell_type": "code",
      "execution_count": null,
      "metadata": {
        "id": "g3mCZIQOH1xy",
        "colab": {
          "base_uri": "https://localhost:8080/"
        },
        "outputId": "24385c9d-b52d-4029-e917-a2b2964b0c63"
      },
      "outputs": [
        {
          "output_type": "execute_result",
          "data": {
            "text/plain": [
              "2016    56357\n",
              "2017    40541\n",
              "2015    21834\n",
              "Name: arrival_date_year, dtype: int64"
            ]
          },
          "metadata": {},
          "execution_count": 21
        }
      ],
      "source": [
        "# Total count of arrival date year\n",
        "hotel_booking_new['arrival_date_year'].value_counts() "
      ]
    },
    {
      "cell_type": "markdown",
      "source": [
        "***Total guests arrived in hotels are 2015 is 21834, 2016 is 56357 and in 2017 is 40541.***"
      ],
      "metadata": {
        "id": "07rTM7PvE7Cg"
      }
    },
    {
      "cell_type": "code",
      "source": [
        "# finding the total number of bookings in each years for city and resort hotels\n",
        "tot_num_book= hotel_booking_new.groupby(['hotel'])['arrival_date_year'].value_counts()\n",
        "tot_num_book"
      ],
      "metadata": {
        "colab": {
          "base_uri": "https://localhost:8080/"
        },
        "id": "V0NPOSZb40Vp",
        "outputId": "6a459734-af8f-4ae0-e69a-68674234bf0d"
      },
      "execution_count": null,
      "outputs": [
        {
          "output_type": "execute_result",
          "data": {
            "text/plain": [
              "hotel         arrival_date_year\n",
              "City Hotel    2016                 38058\n",
              "              2017                 27446\n",
              "              2015                 13643\n",
              "Resort Hotel  2016                 18299\n",
              "              2017                 13095\n",
              "              2015                  8191\n",
              "Name: arrival_date_year, dtype: int64"
            ]
          },
          "metadata": {},
          "execution_count": 22
        }
      ]
    },
    {
      "cell_type": "markdown",
      "source": [
        "***Total number of booking in City hotel in year 2015 is 13643, 2016 is 38058 and 2017  is 27446.\n",
        "Total number of booking in Resort hotel in year 2015 is 8191, 2016 is 18299 and 2017 is 13095***"
      ],
      "metadata": {
        "id": "yYkxTKc5R9D2"
      }
    },
    {
      "cell_type": "code",
      "execution_count": null,
      "metadata": {
        "id": "14pouVeYIRND",
        "colab": {
          "base_uri": "https://localhost:8080/",
          "height": 313
        },
        "outputId": "78e93901-0071-48bc-87ef-50add793ea88"
      },
      "outputs": [
        {
          "output_type": "execute_result",
          "data": {
            "text/plain": [
              "Text(0.5, 1.0, 'Yearly bookings')"
            ]
          },
          "metadata": {},
          "execution_count": 23
        },
        {
          "output_type": "display_data",
          "data": {
            "text/plain": [
              "<Figure size 720x288 with 1 Axes>"
            ],
            "image/png": "[encoded data removed]"
          },
          "metadata": {
            "needs_background": "light"
          }
        }
      ],
      "source": [
        "# ploting a bargraph for yearly bookings of city and resort hotels\n",
        "plt.rcParams['figure.figsize']=(10,4)\n",
        "sns.countplot(x='arrival_date_year',data=hotel_booking_new,hue='hotel').set_title('Yearly bookings')\n"
      ]
    },
    {
      "cell_type": "markdown",
      "source": [
        "***It could be seen from the visual aid that the trend from 2015 to 2016 is increasing.\n",
        "While the average rate of inflation in the number of guests opting for resorts increased by 63%, the number of guests in city hotels esclated to 266% of the previous year.\n",
        "2017, on the other hand showed a downward tajectory in the daily footfall in both kinds of hotel, showing are decline of 29% on an average.***\n"
      ],
      "metadata": {
        "id": "faPmG6sim4BL"
      }
    },
    {
      "cell_type": "markdown",
      "metadata": {
        "id": "pdLZiq6Ax1Z-"
      },
      "source": [
        "**Q3. Bookings that were not cancelled.**"
      ]
    },
    {
      "cell_type": "code",
      "source": [
        "# yearly bookings of hotels which were not cancelled\n",
        "not_canceled=hotel_booking_new[hotel_booking_new['is_canceled']==0]\n",
        "r=hotel_booking_new[hotel_booking_new['is_canceled']==0]"
      ],
      "metadata": {
        "id": "7RivN9b3g-IU"
      },
      "execution_count": null,
      "outputs": []
    },
    {
      "cell_type": "code",
      "source": [
        "# number of arrivals for city hotels and resort hotels in 2015,2016 and 2017\n",
        "r.groupby(['arrival_date_year'])['hotel'].value_counts()"
      ],
      "metadata": {
        "colab": {
          "base_uri": "https://localhost:8080/"
        },
        "id": "sbWR9dahsUHf",
        "outputId": "a72e1db9-73d6-4c5f-e491-a5406eb9a874"
      },
      "execution_count": null,
      "outputs": [
        {
          "output_type": "execute_result",
          "data": {
            "text/plain": [
              "arrival_date_year  hotel       \n",
              "2015               City Hotel       7654\n",
              "                   Resort Hotel     6071\n",
              "2016               City Hotel      22662\n",
              "                   Resort Hotel    13389\n",
              "2017               City Hotel      15766\n",
              "                   Resort Hotel     9048\n",
              "Name: hotel, dtype: int64"
            ]
          },
          "metadata": {},
          "execution_count": 25
        }
      ]
    },
    {
      "cell_type": "code",
      "execution_count": null,
      "metadata": {
        "id": "UR5BpzF4rY09",
        "colab": {
          "base_uri": "https://localhost:8080/",
          "height": 351
        },
        "outputId": "06389c9f-f252-4f6d-bbad-af9a2d549f02"
      },
      "outputs": [
        {
          "output_type": "display_data",
          "data": {
            "text/plain": [
              "<Figure size 720x360 with 1 Axes>"
            ],
            "image/png": "[encoded data removed]"
          },
          "metadata": {
            "needs_background": "light"
          }
        }
      ],
      "source": [
        "# graphical representation for  yearly non canceletion hotels\n",
        "plt.rcParams['figure.figsize']=(10,5)\n",
        "sns.countplot(x='arrival_date_year',data=not_canceled,hue='hotel').set_title('Yearly Bookings')\n",
        "plt.show()"
      ]
    },
    {
      "cell_type": "code",
      "execution_count": null,
      "metadata": {
        "id": "QEjrGpIhIdMH",
        "colab": {
          "base_uri": "https://localhost:8080/",
          "height": 351
        },
        "outputId": "19fb9017-96b2-4fb7-c04b-9c1496a4e3e5"
      },
      "outputs": [
        {
          "output_type": "display_data",
          "data": {
            "text/plain": [
              "<Figure size 720x360 with 1 Axes>"
            ],
            "image/png": "[encoded data removed]"
          },
          "metadata": {
            "needs_background": "light"
          }
        }
      ],
      "source": [
        "# graphical representation for  yearly cancelled hotels\n",
        "canceled=hotel_booking_new[hotel_booking_new['is_canceled']!=0]\n",
        "plt.rcParams['figure.figsize']=(10,5)\n",
        "sns.countplot(x='arrival_date_year',data=canceled,hue='hotel').set_title('Yearly Cancellation')\n",
        "plt.show()"
      ]
    },
    {
      "cell_type": "markdown",
      "source": [
        "In 2015, The city hotels' section saw an average non cancellation rate of 0.56, while resorts had the rate around resort 0.76 \n",
        "The same for 2016 would be 0.61 and 0.72 for city hotels' and resorts' respectively.\n",
        "As for 2017, the non cancellation rates were 0.57 and 0.70 for city hotels' and resorts' respectively.\n",
        "It has been observed that guests are more likely to not cancel on bookings with a resort.***"
      ],
      "metadata": {
        "id": "J3uC0F4yj_2c"
      }
    },
    {
      "cell_type": "code",
      "execution_count": null,
      "metadata": {
        "id": "h_JaHSrQ3AWV",
        "colab": {
          "base_uri": "https://localhost:8080/"
        },
        "outputId": "d38122c0-5f9d-4452-9a7e-f8c72003617d"
      },
      "outputs": [
        {
          "output_type": "execute_result",
          "data": {
            "text/plain": [
              "array([0, 1])"
            ]
          },
          "metadata": {},
          "execution_count": 28
        }
      ],
      "source": [
        "hotel_booking_new['is_canceled'].unique()"
      ]
    },
    {
      "cell_type": "code",
      "execution_count": null,
      "metadata": {
        "id": "7agRM5hy3lUZ"
      },
      "outputs": [],
      "source": [
        "hotel_booking_new['is_canceled'].replace({0:'No',1:'Yes'},inplace= True)"
      ]
    },
    {
      "cell_type": "code",
      "execution_count": null,
      "metadata": {
        "id": "rON_FJIYB4Bb",
        "colab": {
          "base_uri": "https://localhost:8080/",
          "height": 350
        },
        "outputId": "767d868a-fe77-4105-e610-305e40e2badc"
      },
      "outputs": [
        {
          "output_type": "display_data",
          "data": {
            "text/plain": [
              "<Figure size 720x360 with 1 Axes>"
            ],
            "image/png": "[encoded data removed]"
          },
          "metadata": {
            "needs_background": "light"
          }
        }
      ],
      "source": [
        "sns.countplot(hue =\"is_canceled\",data= hotel_booking_new, x='hotel').set_title('Cancellation')\n",
        "plt.show()"
      ]
    },
    {
      "cell_type": "markdown",
      "source": [
        "***In this graph we can see that number of cancellation and number of non cacellation is much more in City Hotel as compared to Resort Hotel***"
      ],
      "metadata": {
        "id": "MC2vq7xPbk05"
      }
    },
    {
      "cell_type": "markdown",
      "metadata": {
        "id": "INimkQ_idfnT"
      },
      "source": [
        "Q3.***Monthly footfall in different types of hotels?***"
      ]
    },
    {
      "cell_type": "code",
      "execution_count": null,
      "metadata": {
        "id": "KtEp3t-j-_Pq",
        "colab": {
          "base_uri": "https://localhost:8080/"
        },
        "outputId": "53f7d896-3c93-489c-96d0-20d9a9083c72"
      },
      "outputs": [
        {
          "output_type": "execute_result",
          "data": {
            "text/plain": [
              "hotel         arrival_date_month\n",
              "City Hotel    August                8967\n",
              "              May                   8221\n",
              "              July                  8071\n",
              "              June                  7885\n",
              "              October               7580\n",
              "              April                 7469\n",
              "              September             7392\n",
              "              March                 6434\n",
              "              February              4950\n",
              "              November              4334\n",
              "              December              4114\n",
              "              January               3730\n",
              "Resort Hotel  August                4873\n",
              "              July                  4540\n",
              "              April                 3569\n",
              "              May                   3547\n",
              "              October               3502\n",
              "              March                 3279\n",
              "              September             3067\n",
              "              February              3047\n",
              "              June                  3032\n",
              "              December              2596\n",
              "              November              2397\n",
              "              January               2136\n",
              "Name: arrival_date_month, dtype: int64"
            ]
          },
          "metadata": {},
          "execution_count": 31
        }
      ],
      "source": [
        "hotel_booking_new.groupby(['hotel'])['arrival_date_month'].value_counts()"
      ]
    },
    {
      "cell_type": "code",
      "execution_count": null,
      "metadata": {
        "id": "7mh7q-LBAczu",
        "colab": {
          "base_uri": "https://localhost:8080/",
          "height": 422
        },
        "outputId": "7e1b064a-7759-43d1-8944-a87ff41da76f"
      },
      "outputs": [
        {
          "output_type": "execute_result",
          "data": {
            "text/plain": [
              "Text(0.5, 1.0, 'Busiest month')"
            ]
          },
          "metadata": {},
          "execution_count": 32
        },
        {
          "output_type": "display_data",
          "data": {
            "text/plain": [
              "<Figure size 1296x432 with 1 Axes>"
            ],
            "image/png": "[encoded data removed]"
          },
          "metadata": {
            "needs_background": "light"
          }
        }
      ],
      "source": [
        "plt.figure(figsize=(18,6))\n",
        "sns.countplot(x='arrival_date_month', hue='hotel', data= hotel_booking_new).set_title('Busiest month')"
      ]
    },
    {
      "cell_type": "markdown",
      "source": [
        "***The trajectory of the graph is in the shape of a BELL CURVE. This suggest that the middle of the year are some of the busiest time, peaking at August, over the period of 3 years.***"
      ],
      "metadata": {
        "id": "D5Q_dMUJpiUK"
      }
    },
    {
      "cell_type": "markdown",
      "metadata": {
        "id": "tNHqBXCWdiw6"
      },
      "source": [
        "***Q4.Nationality of the guests.***\n"
      ]
    },
    {
      "cell_type": "code",
      "execution_count": null,
      "metadata": {
        "id": "WyOPfTU2_rem",
        "colab": {
          "base_uri": "https://localhost:8080/"
        },
        "outputId": "95c3ca74-ce4a-4627-d4a5-650d902d7793"
      },
      "outputs": [
        {
          "output_type": "execute_result",
          "data": {
            "text/plain": [
              "['PRT', 'GBR', 'FRA', 'ESP', 'DEU', 'ITA', 'IRL', 'BEL', 'BRA', 'NLD']"
            ]
          },
          "metadata": {},
          "execution_count": 33
        }
      ],
      "source": [
        "top10=hotel_booking_new['country'].value_counts().head(10).index.tolist()\n",
        "top10"
      ]
    },
    {
      "cell_type": "code",
      "execution_count": null,
      "metadata": {
        "id": "UZd-flTw8Hc5"
      },
      "outputs": [],
      "source": [
        "top_10=hotel_booking_new[hotel_booking_new['country'].isin(top10)]"
      ]
    },
    {
      "cell_type": "code",
      "execution_count": null,
      "metadata": {
        "id": "iYJsV_PO5Jwd",
        "colab": {
          "base_uri": "https://localhost:8080/",
          "height": 537
        },
        "outputId": "b43aaf4a-7702-4b07-fb1b-f335da80fb89"
      },
      "outputs": [
        {
          "output_type": "execute_result",
          "data": {
            "text/plain": [
              "Text(0.5, 1.0, ' Top countries with maximum hotel bookings')"
            ]
          },
          "metadata": {},
          "execution_count": 35
        },
        {
          "output_type": "display_data",
          "data": {
            "text/plain": [
              "<Figure size 1080x576 with 1 Axes>"
            ],
            "image/png": "[encoded data removed]"
          },
          "metadata": {
            "needs_background": "light"
          }
        }
      ],
      "source": [
        "plt.rcParams['figure.figsize']=(15,8)\n",
        "plt.xlabel('country',fontsize=15)\n",
        "plt.ylabel('counts',fontsize=15)\n",
        "sns.countplot(x='country',hue='hotel',data=top_10).set_title(' Top countries with maximum hotel bookings',fontsize=15)"
      ]
    },
    {
      "cell_type": "markdown",
      "source": [
        "***The visual aid suggests that Portuguese are the most popular guests at both the type of hotels. Other prominent nationalities are British, Espanol, Irish, French, etc., in the same order.\n",
        "Aside from visitors from The Great Britain and Ireland, guests mostly prefer to stay at city hotels.***"
      ],
      "metadata": {
        "id": "JyeolyCeeRd6"
      }
    },
    {
      "cell_type": "markdown",
      "metadata": {
        "id": "lTBz7beedlFA"
      },
      "source": [
        "***Q.5 Maximum number of nights guest stays in the hotel?***\n"
      ]
    },
    {
      "cell_type": "code",
      "execution_count": null,
      "metadata": {
        "id": "rdI4mSCCVIn5",
        "colab": {
          "base_uri": "https://localhost:8080/"
        },
        "outputId": "3445bef5-cdab-4121-ef04-e0c387f3c6e2"
      },
      "outputs": [
        {
          "output_type": "execute_result",
          "data": {
            "text/plain": [
              "16"
            ]
          },
          "metadata": {},
          "execution_count": 36
        }
      ],
      "source": [
        "hotel_booking_new['stays_in_weekend_nights'].agg('max')"
      ]
    },
    {
      "cell_type": "code",
      "execution_count": null,
      "metadata": {
        "id": "TrW_BrhBOlGB",
        "colab": {
          "base_uri": "https://localhost:8080/"
        },
        "outputId": "58fa268a-f879-4724-8e2b-6ae070d2f16a"
      },
      "outputs": [
        {
          "output_type": "execute_result",
          "data": {
            "text/plain": [
              "40"
            ]
          },
          "metadata": {},
          "execution_count": 37
        }
      ],
      "source": [
        "hotel_booking_new['stays_in_week_nights'].agg('max')"
      ]
    },
    {
      "cell_type": "markdown",
      "source": [
        "Q.6 ADR V/s Arrival Month."
      ],
      "metadata": {
        "id": "_4RcGDpPuOGY"
      }
    },
    {
      "cell_type": "code",
      "execution_count": null,
      "metadata": {
        "id": "TzbOo0HVOfw7",
        "colab": {
          "base_uri": "https://localhost:8080/",
          "height": 379
        },
        "outputId": "95fc5d9c-6302-4cb8-88b3-1c84501f4d10"
      },
      "outputs": [
        {
          "output_type": "display_data",
          "data": {
            "text/plain": [
              "<Figure size 720x360 with 1 Axes>"
            ],
            "image/png": "[encoded data removed]"
          },
          "metadata": {
            "needs_background": "light"
          }
        }
      ],
      "source": [
        "plt.rcParams['figure.figsize']= (10,5)\n",
        "sns.lineplot(x='arrival_date_month',y='adr',hue='hotel',data=hotel_booking_new,marker='D',markersize=10)\n",
        "plt.xticks(rotation='90')\n",
        "plt.show()"
      ]
    },
    {
      "cell_type": "markdown",
      "source": [
        "***It has been observed that the average cost of staying for a guest in city hotels remains somewhat constant, fluctuating within a range of 100 to 120.\n",
        "Whereas in the case of Resorts, there is a spiked in the month of August. The global minima for the same is observed from January to March and then from October to November. The local maxima at December suggests an influx of guests for the occassion of The New Year.***"
      ],
      "metadata": {
        "id": "hBvkiF9phRbg"
      }
    },
    {
      "cell_type": "code",
      "execution_count": null,
      "metadata": {
        "id": "kgh3h1ddNv9V",
        "colab": {
          "base_uri": "https://localhost:8080/",
          "height": 335
        },
        "outputId": "f42f6bae-ca95-47b2-a10f-060c7d76c17d"
      },
      "outputs": [
        {
          "output_type": "display_data",
          "data": {
            "text/plain": [
              "<Figure size 720x360 with 1 Axes>"
            ],
            "image/png": "[encoded data removed]"
          },
          "metadata": {
            "needs_background": "light"
          }
        }
      ],
      "source": [
        "sns.lineplot(x='arrival_date_day_of_month',y='adr',hue='hotel',data=hotel_booking_new)\n",
        "plt.legend(loc=\"lower right\")\n",
        "plt.grid()"
      ]
    },
    {
      "cell_type": "markdown",
      "source": [
        "***On a cursory glance, we can observe that City hotels have higher ADR compare to Resorts.\n",
        "We can see that the end of month is the busiest time thusly leading to higher ADR in both the type of hotels.\n",
        "It would be justified from the graph that begining of the month (starting from day 2 to day 9) are the quitest time leading to lower ADR.***"
      ],
      "metadata": {
        "id": "Ru4rindzj1Kf"
      }
    },
    {
      "cell_type": "markdown",
      "metadata": {
        "id": "amtGxDFGdnsM"
      },
      "source": [
        "Q.9 ***Which was the most booked accommodation type (Single, Couple, Family)?***"
      ]
    },
    {
      "cell_type": "code",
      "source": [
        "hotel_booking_new['adults'].unique()"
      ],
      "metadata": {
        "id": "uAWhWPoCMlN8",
        "colab": {
          "base_uri": "https://localhost:8080/"
        },
        "outputId": "24fdf1f0-e1a4-4a5f-8dd8-8aac1e6cdf42"
      },
      "execution_count": null,
      "outputs": [
        {
          "output_type": "execute_result",
          "data": {
            "text/plain": [
              "array([ 2,  1,  3,  4, 40, 26, 50, 27, 55, 20,  6,  5, 10,  0])"
            ]
          },
          "metadata": {},
          "execution_count": 40
        }
      ]
    },
    {
      "cell_type": "code",
      "source": [
        "booked_1=hotel_booking_new[hotel_booking_new['adults']==1]\n",
        "booked_2=hotel_booking_new[hotel_booking_new['adults']==2]\n",
        "booked_3=hotel_booking_new[hotel_booking_new['adults']>2]"
      ],
      "metadata": {
        "id": "XKRWXE-3WKdV"
      },
      "execution_count": null,
      "outputs": []
    },
    {
      "cell_type": "code",
      "source": [
        "booked_3.head(2)\n",
        "b3=booked_3.copy()\n",
        "b3['fam']=b3['adults']+b3['Kids']"
      ],
      "metadata": {
        "id": "C57ixQOg31rU"
      },
      "execution_count": null,
      "outputs": []
    },
    {
      "cell_type": "code",
      "source": [
        "b2=b3[['fam','hotel']]\n",
        "fd=b2.groupby(['hotel'])['fam'].count()\n",
        "fd=fd.rename('family')"
      ],
      "metadata": {
        "id": "CvY8jzc87Y3D"
      },
      "execution_count": null,
      "outputs": []
    },
    {
      "cell_type": "code",
      "source": [
        "sing1=booked_1[['adults','hotel']]\n",
        "p=sing1.groupby(['hotel'])['adults'].value_counts()\n",
        "p=p.droplevel(level=1)\n",
        "p=p.rename('single')"
      ],
      "metadata": {
        "id": "6aqWc5MtUTFs"
      },
      "execution_count": null,
      "outputs": []
    },
    {
      "cell_type": "code",
      "source": [
        "ring=booked_2[['adults','hotel']]\n",
        "ri=ring.groupby(['hotel'])['adults'].value_counts()\n",
        "ri=ri.droplevel(level=1)\n",
        "ri=ri.rename('couple')"
      ],
      "metadata": {
        "id": "Q4zoNLx3Ppiy"
      },
      "execution_count": null,
      "outputs": []
    },
    {
      "cell_type": "code",
      "source": [
        "df=pd.concat([p,ri,fd],axis=1)\n",
        "df"
      ],
      "metadata": {
        "id": "i5vKPbqA6AtD",
        "colab": {
          "base_uri": "https://localhost:8080/",
          "height": 143
        },
        "outputId": "5b341d03-5f2e-4d00-eeee-1bd751d9073d"
      },
      "execution_count": null,
      "outputs": [
        {
          "output_type": "execute_result",
          "data": {
            "text/plain": [
              "              single  couple  family\n",
              "hotel                               \n",
              "City Hotel     15878   58240    4806\n",
              "Resort Hotel    6857   31258    1470"
            ],
            "text/html": [
              "\n",
              "  <div id=\"df-7fcc956d-66d8-4577-aa63-7b45df3470b3\">\n",
              "    <div class=\"colab-df-container\">\n",
              "      <div>\n",
              "<style scoped>\n",
              "    .dataframe tbody tr th:only-of-type {\n",
              "        vertical-align: middle;\n",
              "    }\n",
              "\n",
              "    .dataframe tbody tr th {\n",
              "        vertical-align: top;\n",
              "    }\n",
              "\n",
              "    .dataframe thead th {\n",
              "        text-align: right;\n",
              "    }\n",
              "</style>\n",
              "<table border=\"1\" class=\"dataframe\">\n",
              "  <thead>\n",
              "    <tr style=\"text-align: right;\">\n",
              "      <th></th>\n",
              "      <th>single</th>\n",
              "      <th>couple</th>\n",
              "      <th>family</th>\n",
              "    </tr>\n",
              "    <tr>\n",
              "      <th>hotel</th>\n",
              "      <th></th>\n",
              "      <th></th>\n",
              "      <th></th>\n",
              "    </tr>\n",
              "  </thead>\n",
              "  <tbody>\n",
              "    <tr>\n",
              "      <th>City Hotel</th>\n",
              "      <td>15878</td>\n",
              "      <td>58240</td>\n",
              "      <td>4806</td>\n",
              "    </tr>\n",
              "    <tr>\n",
              "      <th>Resort Hotel</th>\n",
              "      <td>6857</td>\n",
              "      <td>31258</td>\n",
              "      <td>1470</td>\n",
              "    </tr>\n",
              "  </tbody>\n",
              "</table>\n",
              "</div>\n",
              "      <button class=\"colab-df-convert\" onclick=\"convertToInteractive('df-7fcc956d-66d8-4577-aa63-7b45df3470b3')\"\n",
              "              title=\"Convert this dataframe to an interactive table.\"\n",
              "              style=\"display:none;\">\n",
              "        \n",
              "  <svg xmlns=\"http://www.w3.org/2000/svg\" height=\"24px\"viewBox=\"0 0 24 24\"\n",
              "       width=\"24px\">\n",
              "    <path d=\"M0 0h24v24H0V0z\" fill=\"none\"/>\n",
              "    <path d=\"M18.56 5.44l.94 2.06.94-2.06 2.06-.94-2.06-.94-.94-2.06-.94 2.06-2.06.94zm-11 1L8.5 8.5l.94-2.06 2.06-.94-2.06-.94L8.5 2.5l-.94 2.06-2.06.94zm10 10l.94 2.06.94-2.06 2.06-.94-2.06-.94-.94-2.06-.94 2.06-2.06.94z\"/><path d=\"M17.41 7.96l-1.37-1.37c-.4-.4-.92-.59-1.43-.59-.52 0-1.04.2-1.43.59L10.3 9.45l-7.72 7.72c-.78.78-.78 2.05 0 2.83L4 21.41c.39.39.9.59 1.41.59.51 0 1.02-.2 1.41-.59l7.78-7.78 2.81-2.81c.8-.78.8-2.07 0-2.86zM5.41 20L4 18.59l7.72-7.72 1.47 1.35L5.41 20z\"/>\n",
              "  </svg>\n",
              "      </button>\n",
              "      \n",
              "  <style>\n",
              "    .colab-df-container {\n",
              "      display:flex;\n",
              "      flex-wrap:wrap;\n",
              "      gap: 12px;\n",
              "    }\n",
              "\n",
              "    .colab-df-convert {\n",
              "      background-color: #E8F0FE;\n",
              "      border: none;\n",
              "      border-radius: 50%;\n",
              "      cursor: pointer;\n",
              "      display: none;\n",
              "      fill: #1967D2;\n",
              "      height: 32px;\n",
              "      padding: 0 0 0 0;\n",
              "      width: 32px;\n",
              "    }\n",
              "\n",
              "    .colab-df-convert:hover {\n",
              "      background-color: #E2EBFA;\n",
              "      box-shadow: 0px 1px 2px rgba(60, 64, 67, 0.3), 0px 1px 3px 1px rgba(60, 64, 67, 0.15);\n",
              "      fill: #174EA6;\n",
              "    }\n",
              "\n",
              "    [theme=dark] .colab-df-convert {\n",
              "      background-color: #3B4455;\n",
              "      fill: #D2E3FC;\n",
              "    }\n",
              "\n",
              "    [theme=dark] .colab-df-convert:hover {\n",
              "      background-color: #434B5C;\n",
              "      box-shadow: 0px 1px 3px 1px rgba(0, 0, 0, 0.15);\n",
              "      filter: drop-shadow(0px 1px 2px rgba(0, 0, 0, 0.3));\n",
              "      fill: #FFFFFF;\n",
              "    }\n",
              "  </style>\n",
              "\n",
              "      <script>\n",
              "        const buttonEl =\n",
              "          document.querySelector('#df-7fcc956d-66d8-4577-aa63-7b45df3470b3 button.colab-df-convert');\n",
              "        buttonEl.style.display =\n",
              "          google.colab.kernel.accessAllowed ? 'block' : 'none';\n",
              "\n",
              "        async function convertToInteractive(key) {\n",
              "          const element = document.querySelector('#df-7fcc956d-66d8-4577-aa63-7b45df3470b3');\n",
              "          const dataTable =\n",
              "            await google.colab.kernel.invokeFunction('convertToInteractive',\n",
              "                                                     [key], {});\n",
              "          if (!dataTable) return;\n",
              "\n",
              "          const docLinkHtml = 'Like what you see? Visit the ' +\n",
              "            '<a target=\"_blank\" href=https://colab.research.google.com/notebooks/data_table.ipynb>data table notebook</a>'\n",
              "            + ' to learn more about interactive tables.';\n",
              "          element.innerHTML = '';\n",
              "          dataTable['output_type'] = 'display_data';\n",
              "          await google.colab.output.renderOutput(dataTable, element);\n",
              "          const docLink = document.createElement('div');\n",
              "          docLink.innerHTML = docLinkHtml;\n",
              "          element.appendChild(docLink);\n",
              "        }\n",
              "      </script>\n",
              "    </div>\n",
              "  </div>\n",
              "  "
            ]
          },
          "metadata": {},
          "execution_count": 46
        }
      ]
    },
    {
      "cell_type": "code",
      "source": [
        "df=df.transpose()\n",
        "df"
      ],
      "metadata": {
        "colab": {
          "base_uri": "https://localhost:8080/",
          "height": 143
        },
        "id": "jXC156-2xok6",
        "outputId": "b3ffd5dd-feca-4b32-8c29-4e3ffafe5e2f"
      },
      "execution_count": null,
      "outputs": [
        {
          "output_type": "execute_result",
          "data": {
            "text/plain": [
              "hotel   City Hotel  Resort Hotel\n",
              "single       15878          6857\n",
              "couple       58240         31258\n",
              "family        4806          1470"
            ],
            "text/html": [
              "\n",
              "  <div id=\"df-5c1e27bf-f85a-4ead-bff2-3703f65074e3\">\n",
              "    <div class=\"colab-df-container\">\n",
              "      <div>\n",
              "<style scoped>\n",
              "    .dataframe tbody tr th:only-of-type {\n",
              "        vertical-align: middle;\n",
              "    }\n",
              "\n",
              "    .dataframe tbody tr th {\n",
              "        vertical-align: top;\n",
              "    }\n",
              "\n",
              "    .dataframe thead th {\n",
              "        text-align: right;\n",
              "    }\n",
              "</style>\n",
              "<table border=\"1\" class=\"dataframe\">\n",
              "  <thead>\n",
              "    <tr style=\"text-align: right;\">\n",
              "      <th>hotel</th>\n",
              "      <th>City Hotel</th>\n",
              "      <th>Resort Hotel</th>\n",
              "    </tr>\n",
              "  </thead>\n",
              "  <tbody>\n",
              "    <tr>\n",
              "      <th>single</th>\n",
              "      <td>15878</td>\n",
              "      <td>6857</td>\n",
              "    </tr>\n",
              "    <tr>\n",
              "      <th>couple</th>\n",
              "      <td>58240</td>\n",
              "      <td>31258</td>\n",
              "    </tr>\n",
              "    <tr>\n",
              "      <th>family</th>\n",
              "      <td>4806</td>\n",
              "      <td>1470</td>\n",
              "    </tr>\n",
              "  </tbody>\n",
              "</table>\n",
              "</div>\n",
              "      <button class=\"colab-df-convert\" onclick=\"convertToInteractive('df-5c1e27bf-f85a-4ead-bff2-3703f65074e3')\"\n",
              "              title=\"Convert this dataframe to an interactive table.\"\n",
              "              style=\"display:none;\">\n",
              "        \n",
              "  <svg xmlns=\"http://www.w3.org/2000/svg\" height=\"24px\"viewBox=\"0 0 24 24\"\n",
              "       width=\"24px\">\n",
              "    <path d=\"M0 0h24v24H0V0z\" fill=\"none\"/>\n",
              "    <path d=\"M18.56 5.44l.94 2.06.94-2.06 2.06-.94-2.06-.94-.94-2.06-.94 2.06-2.06.94zm-11 1L8.5 8.5l.94-2.06 2.06-.94-2.06-.94L8.5 2.5l-.94 2.06-2.06.94zm10 10l.94 2.06.94-2.06 2.06-.94-2.06-.94-.94-2.06-.94 2.06-2.06.94z\"/><path d=\"M17.41 7.96l-1.37-1.37c-.4-.4-.92-.59-1.43-.59-.52 0-1.04.2-1.43.59L10.3 9.45l-7.72 7.72c-.78.78-.78 2.05 0 2.83L4 21.41c.39.39.9.59 1.41.59.51 0 1.02-.2 1.41-.59l7.78-7.78 2.81-2.81c.8-.78.8-2.07 0-2.86zM5.41 20L4 18.59l7.72-7.72 1.47 1.35L5.41 20z\"/>\n",
              "  </svg>\n",
              "      </button>\n",
              "      \n",
              "  <style>\n",
              "    .colab-df-container {\n",
              "      display:flex;\n",
              "      flex-wrap:wrap;\n",
              "      gap: 12px;\n",
              "    }\n",
              "\n",
              "    .colab-df-convert {\n",
              "      background-color: #E8F0FE;\n",
              "      border: none;\n",
              "      border-radius: 50%;\n",
              "      cursor: pointer;\n",
              "      display: none;\n",
              "      fill: #1967D2;\n",
              "      height: 32px;\n",
              "      padding: 0 0 0 0;\n",
              "      width: 32px;\n",
              "    }\n",
              "\n",
              "    .colab-df-convert:hover {\n",
              "      background-color: #E2EBFA;\n",
              "      box-shadow: 0px 1px 2px rgba(60, 64, 67, 0.3), 0px 1px 3px 1px rgba(60, 64, 67, 0.15);\n",
              "      fill: #174EA6;\n",
              "    }\n",
              "\n",
              "    [theme=dark] .colab-df-convert {\n",
              "      background-color: #3B4455;\n",
              "      fill: #D2E3FC;\n",
              "    }\n",
              "\n",
              "    [theme=dark] .colab-df-convert:hover {\n",
              "      background-color: #434B5C;\n",
              "      box-shadow: 0px 1px 3px 1px rgba(0, 0, 0, 0.15);\n",
              "      filter: drop-shadow(0px 1px 2px rgba(0, 0, 0, 0.3));\n",
              "      fill: #FFFFFF;\n",
              "    }\n",
              "  </style>\n",
              "\n",
              "      <script>\n",
              "        const buttonEl =\n",
              "          document.querySelector('#df-5c1e27bf-f85a-4ead-bff2-3703f65074e3 button.colab-df-convert');\n",
              "        buttonEl.style.display =\n",
              "          google.colab.kernel.accessAllowed ? 'block' : 'none';\n",
              "\n",
              "        async function convertToInteractive(key) {\n",
              "          const element = document.querySelector('#df-5c1e27bf-f85a-4ead-bff2-3703f65074e3');\n",
              "          const dataTable =\n",
              "            await google.colab.kernel.invokeFunction('convertToInteractive',\n",
              "                                                     [key], {});\n",
              "          if (!dataTable) return;\n",
              "\n",
              "          const docLinkHtml = 'Like what you see? Visit the ' +\n",
              "            '<a target=\"_blank\" href=https://colab.research.google.com/notebooks/data_table.ipynb>data table notebook</a>'\n",
              "            + ' to learn more about interactive tables.';\n",
              "          element.innerHTML = '';\n",
              "          dataTable['output_type'] = 'display_data';\n",
              "          await google.colab.output.renderOutput(dataTable, element);\n",
              "          const docLink = document.createElement('div');\n",
              "          docLink.innerHTML = docLinkHtml;\n",
              "          element.appendChild(docLink);\n",
              "        }\n",
              "      </script>\n",
              "    </div>\n",
              "  </div>\n",
              "  "
            ]
          },
          "metadata": {},
          "execution_count": 47
        }
      ]
    },
    {
      "cell_type": "code",
      "source": [
        "df.shape"
      ],
      "metadata": {
        "colab": {
          "base_uri": "https://localhost:8080/"
        },
        "id": "X70KoPg-1SHC",
        "outputId": "f500c44b-6f3e-4567-dfed-e17d963d4416"
      },
      "execution_count": null,
      "outputs": [
        {
          "output_type": "execute_result",
          "data": {
            "text/plain": [
              "(3, 2)"
            ]
          },
          "metadata": {},
          "execution_count": 48
        }
      ]
    },
    {
      "cell_type": "code",
      "source": [
        "x_axis=np.arange(len(df))\n",
        "x_axis"
      ],
      "metadata": {
        "colab": {
          "base_uri": "https://localhost:8080/"
        },
        "id": "xwJ5Mt02yTbB",
        "outputId": "8cc5d568-8b44-4f01-ced8-105cebfe3de4"
      },
      "execution_count": null,
      "outputs": [
        {
          "output_type": "execute_result",
          "data": {
            "text/plain": [
              "array([0, 1, 2])"
            ]
          },
          "metadata": {},
          "execution_count": 49
        }
      ]
    },
    {
      "cell_type": "code",
      "source": [
        "plt.bar(x_axis - 0.2, df['City Hotel'], 0.4, label = 'City Hotel')\n",
        "plt.bar(x_axis + 0.2, df['Resort Hotel'], 0.4, label = 'Resort Hotel')\n",
        "  \n",
        "plt.xticks(x_axis,df.index.tolist())\n",
        "plt.ylabel(\"Number of guests\")\n",
        "plt.title(\"Accomodations\")\n",
        "plt.legend()\n",
        "plt.show()"
      ],
      "metadata": {
        "colab": {
          "base_uri": "https://localhost:8080/",
          "height": 336
        },
        "id": "I_Q8Hz8-ACjg",
        "outputId": "4a1af7de-e273-41dc-ba72-614eb672425b"
      },
      "execution_count": null,
      "outputs": [
        {
          "output_type": "display_data",
          "data": {
            "text/plain": [
              "<Figure size 720x360 with 1 Axes>"
            ],
            "image/png": "[encoded data removed]"
          },
          "metadata": {
            "needs_background": "light"
          }
        }
      ]
    },
    {
      "cell_type": "markdown",
      "source": [
        "***Graph represents that the maximum booking of hotels are done by couple and lowest booking are done by family?***"
      ],
      "metadata": {
        "id": "e7b2APLFhcVk"
      }
    },
    {
      "cell_type": "code",
      "source": [
        "single_x=p.index.tolist()\n",
        "single_x=np.array(single_x)"
      ],
      "metadata": {
        "id": "lASk1C_Z9CyL"
      },
      "execution_count": null,
      "outputs": []
    },
    {
      "cell_type": "code",
      "source": [
        "single_y=p.tolist()"
      ],
      "metadata": {
        "id": "TVXpfvrY9PNZ"
      },
      "execution_count": null,
      "outputs": []
    },
    {
      "cell_type": "code",
      "source": [
        "couple_y=ri.tolist()"
      ],
      "metadata": {
        "id": "sQUqw8Yo9cdz"
      },
      "execution_count": null,
      "outputs": []
    },
    {
      "cell_type": "code",
      "source": [
        "fam_y=fd.tolist()"
      ],
      "metadata": {
        "id": "XUdHOvuA9nNR"
      },
      "execution_count": null,
      "outputs": []
    },
    {
      "cell_type": "code",
      "source": [
        "plt.rcParams['figure.figsize']=(20,8)\n",
        "plt.subplot(1,6,1)\n",
        "\n",
        "plt.bar(single_x,single_y,width=0.5,align='center',color='r')\n",
        "plt.xlabel('Single')\n",
        "plt.ylabel('no of quests')\n",
        "plt.subplot(1,6,3)\n",
        "plt.title(\"Acommadation type\")\n",
        "plt.bar(single_x,couple_y,width=0.5,align='center',color='g')\n",
        "plt.xlabel('Couple')\n",
        "plt.ylabel('no of quests')\n",
        "plt.subplot(1,6,5)\n",
        "plt.bar(single_x,fam_y,width=0.5,align='center',color='orange')\n",
        "plt.xlabel('family')\n",
        "plt.ylabel('no of quests')"
      ],
      "metadata": {
        "id": "CMeVFD2G-2O8",
        "colab": {
          "base_uri": "https://localhost:8080/",
          "height": 530
        },
        "outputId": "52882fe0-f407-452e-e7fe-7cbc18df3d6d"
      },
      "execution_count": null,
      "outputs": [
        {
          "output_type": "execute_result",
          "data": {
            "text/plain": [
              "Text(0, 0.5, 'no of quests')"
            ]
          },
          "metadata": {},
          "execution_count": 55
        },
        {
          "output_type": "display_data",
          "data": {
            "text/plain": [
              "<Figure size 1440x576 with 3 Axes>"
            ],
            "image/png": "[encoded data removed]"
          },
          "metadata": {
            "needs_background": "light"
          }
        }
      ]
    },
    {
      "cell_type": "markdown",
      "source": [
        "***While family type bookings were the least popular kind, the graph suggests that couples formed the largest topography of guests ranging to 75.5% of the total customer lists.***"
      ],
      "metadata": {
        "id": "zKYy-b7Pj3KZ"
      }
    },
    {
      "cell_type": "code",
      "source": [
        "hotel_booking_new['customer_type'].unique()"
      ],
      "metadata": {
        "id": "qJ9XrAI-TclP",
        "colab": {
          "base_uri": "https://localhost:8080/"
        },
        "outputId": "92f32eb8-e456-4da1-a89f-fe74bf182478"
      },
      "execution_count": null,
      "outputs": [
        {
          "output_type": "execute_result",
          "data": {
            "text/plain": [
              "array(['Transient', 'Contract', 'Transient-Party', 'Group'], dtype=object)"
            ]
          },
          "metadata": {},
          "execution_count": 56
        }
      ]
    },
    {
      "cell_type": "markdown",
      "metadata": {
        "id": "cC6-FIzd7EI1"
      },
      "source": [
        "Q9. Source of bookings."
      ]
    },
    {
      "cell_type": "code",
      "execution_count": null,
      "metadata": {
        "id": "v8LCvV9pQBhZ"
      },
      "outputs": [],
      "source": [
        "market_segment=hotel_booking_new['market_segment'].value_counts()\n",
        "w=market_segment.index.tolist()"
      ]
    },
    {
      "cell_type": "code",
      "execution_count": null,
      "metadata": {
        "id": "RK4itBNuLW3K",
        "colab": {
          "base_uri": "https://localhost:8080/"
        },
        "outputId": "723d8f06-bb17-4ab4-aea9-c3e9785a2ba6"
      },
      "outputs": [
        {
          "output_type": "execute_result",
          "data": {
            "text/plain": [
              "118732"
            ]
          },
          "metadata": {},
          "execution_count": 58
        }
      ],
      "source": [
        "v=hotel_booking_new['market_segment'].value_counts().tolist()\n",
        "sum=0\n",
        "for i in v:\n",
        "  sum=sum+i\n",
        "sum"
      ]
    },
    {
      "cell_type": "code",
      "execution_count": null,
      "metadata": {
        "id": "jClUQZTAQDxG",
        "colab": {
          "base_uri": "https://localhost:8080/"
        },
        "outputId": "ecc1d478-8bbd-4dd0-e73a-855e6f755b9a"
      },
      "outputs": [
        {
          "output_type": "execute_result",
          "data": {
            "text/plain": [
              "['47.4%', '20.3%', '16.7%', '10.5%', '4.3%', '0.6%', '0.2%', '0.0%']"
            ]
          },
          "metadata": {},
          "execution_count": 59
        }
      ],
      "source": [
        "tot=[str(round(i*100/sum,1))+\"%\" for i in v]\n",
        "# for i in v:\n",
        "#   tot.append(str(round(i*100/sum,1))+\"%\")\n",
        "tot"
      ]
    },
    {
      "cell_type": "code",
      "execution_count": null,
      "metadata": {
        "id": "Ajd8Zp5nLj6V",
        "colab": {
          "base_uri": "https://localhost:8080/"
        },
        "outputId": "f814467a-e83f-489b-bc38-f4573b9412e9"
      },
      "outputs": [
        {
          "output_type": "execute_result",
          "data": {
            "text/plain": [
              "[('Online TA', '47.4%'),\n",
              " ('Offline TA/TO', '20.3%'),\n",
              " ('Groups', '16.7%'),\n",
              " ('Direct', '10.5%'),\n",
              " ('Corporate', '4.3%'),\n",
              " ('Complementary', '0.6%'),\n",
              " ('Aviation', '0.2%'),\n",
              " ('Undefined', '0.0%')]"
            ]
          },
          "metadata": {},
          "execution_count": 60
        }
      ],
      "source": [
        "q=list(zip(w,tot))\n",
        "q"
      ]
    },
    {
      "cell_type": "code",
      "execution_count": null,
      "metadata": {
        "id": "gGDNTrv_MOfv",
        "colab": {
          "base_uri": "https://localhost:8080/"
        },
        "outputId": "04b849cc-5417-47b7-8d9e-cd06393dbd97"
      },
      "outputs": [
        {
          "output_type": "execute_result",
          "data": {
            "text/plain": [
              "[\"('Online TA'= '47.4%')\",\n",
              " \"('Offline TA/TO'= '20.3%')\",\n",
              " \"('Groups'= '16.7%')\",\n",
              " \"('Direct'= '10.5%')\",\n",
              " \"('Corporate'= '4.3%')\",\n",
              " \"('Complementary'= '0.6%')\",\n",
              " \"('Aviation'= '0.2%')\",\n",
              " \"('Undefined'= '0.0%')\"]"
            ]
          },
          "metadata": {},
          "execution_count": 61
        }
      ],
      "source": [
        "l=[str(i).replace(\",\",\"=\") for i in q ]\n",
        "# for i in q:\n",
        "#   n = str(i).replace(\",\",\"=\")\n",
        "#   l.append(n)\n",
        "l"
      ]
    },
    {
      "cell_type": "code",
      "source": [
        "t=[str(i) for i in l ]\n",
        "# for i in q:\n",
        "#   m = list(i)\n",
        "#   t.append(m)\n",
        "t"
      ],
      "metadata": {
        "colab": {
          "base_uri": "https://localhost:8080/"
        },
        "id": "ruVmfNtTsZau",
        "outputId": "d222cb80-4dec-4863-bbc7-13d00596388c"
      },
      "execution_count": null,
      "outputs": [
        {
          "output_type": "execute_result",
          "data": {
            "text/plain": [
              "[\"('Online TA'= '47.4%')\",\n",
              " \"('Offline TA/TO'= '20.3%')\",\n",
              " \"('Groups'= '16.7%')\",\n",
              " \"('Direct'= '10.5%')\",\n",
              " \"('Corporate'= '4.3%')\",\n",
              " \"('Complementary'= '0.6%')\",\n",
              " \"('Aviation'= '0.2%')\",\n",
              " \"('Undefined'= '0.0%')\"]"
            ]
          },
          "metadata": {},
          "execution_count": 62
        }
      ]
    },
    {
      "cell_type": "code",
      "source": [
        "\n",
        "g=[]\n",
        "for i in t:\n",
        "  j= i.replace(\"('\",\"\")\n",
        "  j=j.replace(\"')\",\"\")\n",
        "  j=j.replace(\"'\",\"\")\n",
        "  g.append(j)\n",
        "g"
      ],
      "metadata": {
        "colab": {
          "base_uri": "https://localhost:8080/"
        },
        "id": "jtqSP3Mr2JNu",
        "outputId": "8a80dded-0351-4d6c-d0f2-9d61aaf61652"
      },
      "execution_count": null,
      "outputs": [
        {
          "output_type": "execute_result",
          "data": {
            "text/plain": [
              "['Online TA= 47.4%',\n",
              " 'Offline TA/TO= 20.3%',\n",
              " 'Groups= 16.7%',\n",
              " 'Direct= 10.5%',\n",
              " 'Corporate= 4.3%',\n",
              " 'Complementary= 0.6%',\n",
              " 'Aviation= 0.2%',\n",
              " 'Undefined= 0.0%']"
            ]
          },
          "metadata": {},
          "execution_count": 63
        }
      ]
    },
    {
      "cell_type": "code",
      "execution_count": null,
      "metadata": {
        "id": "zzY3TN2ZSmvR",
        "colab": {
          "base_uri": "https://localhost:8080/",
          "height": 323
        },
        "outputId": "916f0e50-936c-441a-dd34-2ec756e9b0db"
      },
      "outputs": [
        {
          "output_type": "display_data",
          "data": {
            "text/plain": [
              "<Figure size 864x360 with 1 Axes>"
            ],
            "image/png": "[encoded data removed]"
          },
          "metadata": {}
        }
      ],
      "source": [
        "\n",
        "plt.rcParams['figure.figsize']=(12,5)\n",
        "plt.rcParams['font.size']=15\n",
        "patches=plt.pie(market_segment)\n",
        "plt.title('Percentage of Guests from different Market Segments')\n",
        "plt.legend(labels=g,loc='upper right',prop={'size':10})\n",
        "plt.axis('equal')\n",
        "plt.show()"
      ]
    },
    {
      "cell_type": "markdown",
      "source": [
        "***The maximum number of bookings were done through Online Agents (at 47.4%). Another prominent source of booking was done through Offline methods (at 20.3%).\n",
        "Other methods of booking include Groups, Direct, Corporate, etc., forming the remaining 32.3%***"
      ],
      "metadata": {
        "id": "y-PNnFfF5emp"
      }
    },
    {
      "cell_type": "markdown",
      "metadata": {
        "id": "rchrjRAq7LRz"
      },
      "source": [
        "Q10.***What is the relationship between lead time and cancellation?***\n"
      ]
    },
    {
      "cell_type": "code",
      "execution_count": null,
      "metadata": {
        "id": "Xkjkk7PqE2-B"
      },
      "outputs": [],
      "source": [
        "x=hotel_booking_new['hotel'].value_counts().sum()"
      ]
    },
    {
      "cell_type": "code",
      "execution_count": null,
      "metadata": {
        "id": "CznTah94aMUI",
        "colab": {
          "base_uri": "https://localhost:8080/",
          "height": 112
        },
        "outputId": "bc761faf-bc06-41ed-d6ff-254366a5dfba"
      },
      "outputs": [
        {
          "output_type": "execute_result",
          "data": {
            "text/plain": [
              "is_canceled  lead_time      No    Yes\n",
              "0                    0  5739.0  413.0\n",
              "1                    1  3064.0  316.0"
            ],
            "text/html": [
              "\n",
              "  <div id=\"df-7b2b5762-d7e1-4321-93ad-b2abd7d0153a\">\n",
              "    <div class=\"colab-df-container\">\n",
              "      <div>\n",
              "<style scoped>\n",
              "    .dataframe tbody tr th:only-of-type {\n",
              "        vertical-align: middle;\n",
              "    }\n",
              "\n",
              "    .dataframe tbody tr th {\n",
              "        vertical-align: top;\n",
              "    }\n",
              "\n",
              "    .dataframe thead th {\n",
              "        text-align: right;\n",
              "    }\n",
              "</style>\n",
              "<table border=\"1\" class=\"dataframe\">\n",
              "  <thead>\n",
              "    <tr style=\"text-align: right;\">\n",
              "      <th>is_canceled</th>\n",
              "      <th>lead_time</th>\n",
              "      <th>No</th>\n",
              "      <th>Yes</th>\n",
              "    </tr>\n",
              "  </thead>\n",
              "  <tbody>\n",
              "    <tr>\n",
              "      <th>0</th>\n",
              "      <td>0</td>\n",
              "      <td>5739.0</td>\n",
              "      <td>413.0</td>\n",
              "    </tr>\n",
              "    <tr>\n",
              "      <th>1</th>\n",
              "      <td>1</td>\n",
              "      <td>3064.0</td>\n",
              "      <td>316.0</td>\n",
              "    </tr>\n",
              "  </tbody>\n",
              "</table>\n",
              "</div>\n",
              "      <button class=\"colab-df-convert\" onclick=\"convertToInteractive('df-7b2b5762-d7e1-4321-93ad-b2abd7d0153a')\"\n",
              "              title=\"Convert this dataframe to an interactive table.\"\n",
              "              style=\"display:none;\">\n",
              "        \n",
              "  <svg xmlns=\"http://www.w3.org/2000/svg\" height=\"24px\"viewBox=\"0 0 24 24\"\n",
              "       width=\"24px\">\n",
              "    <path d=\"M0 0h24v24H0V0z\" fill=\"none\"/>\n",
              "    <path d=\"M18.56 5.44l.94 2.06.94-2.06 2.06-.94-2.06-.94-.94-2.06-.94 2.06-2.06.94zm-11 1L8.5 8.5l.94-2.06 2.06-.94-2.06-.94L8.5 2.5l-.94 2.06-2.06.94zm10 10l.94 2.06.94-2.06 2.06-.94-2.06-.94-.94-2.06-.94 2.06-2.06.94z\"/><path d=\"M17.41 7.96l-1.37-1.37c-.4-.4-.92-.59-1.43-.59-.52 0-1.04.2-1.43.59L10.3 9.45l-7.72 7.72c-.78.78-.78 2.05 0 2.83L4 21.41c.39.39.9.59 1.41.59.51 0 1.02-.2 1.41-.59l7.78-7.78 2.81-2.81c.8-.78.8-2.07 0-2.86zM5.41 20L4 18.59l7.72-7.72 1.47 1.35L5.41 20z\"/>\n",
              "  </svg>\n",
              "      </button>\n",
              "      \n",
              "  <style>\n",
              "    .colab-df-container {\n",
              "      display:flex;\n",
              "      flex-wrap:wrap;\n",
              "      gap: 12px;\n",
              "    }\n",
              "\n",
              "    .colab-df-convert {\n",
              "      background-color: #E8F0FE;\n",
              "      border: none;\n",
              "      border-radius: 50%;\n",
              "      cursor: pointer;\n",
              "      display: none;\n",
              "      fill: #1967D2;\n",
              "      height: 32px;\n",
              "      padding: 0 0 0 0;\n",
              "      width: 32px;\n",
              "    }\n",
              "\n",
              "    .colab-df-convert:hover {\n",
              "      background-color: #E2EBFA;\n",
              "      box-shadow: 0px 1px 2px rgba(60, 64, 67, 0.3), 0px 1px 3px 1px rgba(60, 64, 67, 0.15);\n",
              "      fill: #174EA6;\n",
              "    }\n",
              "\n",
              "    [theme=dark] .colab-df-convert {\n",
              "      background-color: #3B4455;\n",
              "      fill: #D2E3FC;\n",
              "    }\n",
              "\n",
              "    [theme=dark] .colab-df-convert:hover {\n",
              "      background-color: #434B5C;\n",
              "      box-shadow: 0px 1px 3px 1px rgba(0, 0, 0, 0.15);\n",
              "      filter: drop-shadow(0px 1px 2px rgba(0, 0, 0, 0.3));\n",
              "      fill: #FFFFFF;\n",
              "    }\n",
              "  </style>\n",
              "\n",
              "      <script>\n",
              "        const buttonEl =\n",
              "          document.querySelector('#df-7b2b5762-d7e1-4321-93ad-b2abd7d0153a button.colab-df-convert');\n",
              "        buttonEl.style.display =\n",
              "          google.colab.kernel.accessAllowed ? 'block' : 'none';\n",
              "\n",
              "        async function convertToInteractive(key) {\n",
              "          const element = document.querySelector('#df-7b2b5762-d7e1-4321-93ad-b2abd7d0153a');\n",
              "          const dataTable =\n",
              "            await google.colab.kernel.invokeFunction('convertToInteractive',\n",
              "                                                     [key], {});\n",
              "          if (!dataTable) return;\n",
              "\n",
              "          const docLinkHtml = 'Like what you see? Visit the ' +\n",
              "            '<a target=\"_blank\" href=https://colab.research.google.com/notebooks/data_table.ipynb>data table notebook</a>'\n",
              "            + ' to learn more about interactive tables.';\n",
              "          element.innerHTML = '';\n",
              "          dataTable['output_type'] = 'display_data';\n",
              "          await google.colab.output.renderOutput(dataTable, element);\n",
              "          const docLink = document.createElement('div');\n",
              "          docLink.innerHTML = docLinkHtml;\n",
              "          element.appendChild(docLink);\n",
              "        }\n",
              "      </script>\n",
              "    </div>\n",
              "  </div>\n",
              "  "
            ]
          },
          "metadata": {},
          "execution_count": 66
        }
      ],
      "source": [
        "rel_lead_canc=hotel_booking_new.groupby(['lead_time','is_canceled'])['hotel'].size().unstack().reset_index()\n",
        "rel_lead_canc.head(2)"
      ]
    },
    {
      "cell_type": "code",
      "execution_count": null,
      "metadata": {
        "id": "GZQqtUpO_czr"
      },
      "outputs": [],
      "source": [
        "plt.rcParams['figure.figsize']=(15,8)\n",
        "lead_time=rel_lead_canc.loc[:,['lead_time']]\n",
        "lt=lead_time.lead_time.to_list()[0:151]"
      ]
    },
    {
      "cell_type": "code",
      "execution_count": null,
      "metadata": {
        "id": "11U-qU547uya"
      },
      "outputs": [],
      "source": [
        "No=rel_lead_canc.No.fillna(0)[0:151]\n",
        "Yes=rel_lead_canc.Yes.fillna(0)[0:151]"
      ]
    },
    {
      "cell_type": "code",
      "execution_count": null,
      "metadata": {
        "id": "hXEO91Bz8Qkc",
        "colab": {
          "base_uri": "https://localhost:8080/",
          "height": 540
        },
        "outputId": "2354fe65-dbdc-4bc3-d54a-f50fe3d468f0"
      },
      "outputs": [
        {
          "output_type": "display_data",
          "data": {
            "text/plain": [
              "<Figure size 1800x720 with 1 Axes>"
            ],
            "image/png": "[encoded data removed]"
          },
          "metadata": {
            "needs_background": "light"
          }
        }
      ],
      "source": [
        "plt.rcParams['figure.figsize']=(25,10)\n",
        "plt.plot(lt,Yes,color='r')\n",
        "plt.plot(lt,No,color='k')\n",
        "plt.xlabel('Lead Time')\n",
        "plt.ylabel('no of hotels')\n",
        "plt.legend(title='is canceled',labels=['Yes','No'])\n",
        "plt.title('relation between lead time and cancellation')\n",
        "plt.show()"
      ]
    },
    {
      "cell_type": "markdown",
      "source": [
        "***On a cursory glance it is visible that, majority of the guests book their prefer rooms as late as possible within a margin of 20 days \n",
        "It has also been obseved that guests are likely to cancel more when they book their rooms of with a span of 80 days or more as their lead time(almost 50%)***"
      ],
      "metadata": {
        "id": "h8tuj9IQ6CX-"
      }
    },
    {
      "cell_type": "markdown",
      "metadata": {
        "id": "Ku-vYftb-lSv"
      },
      "source": [
        "Q.12.***Market segment has any impact on repeated customer?***"
      ]
    },
    {
      "cell_type": "code",
      "execution_count": null,
      "metadata": {
        "id": "JhK5BGIjBgT4"
      },
      "outputs": [],
      "source": [
        "hotel_booking_new['is_repeated_guest'].replace({0:'No',1:'Yes'},inplace=True)"
      ]
    },
    {
      "cell_type": "code",
      "execution_count": null,
      "metadata": {
        "id": "3eunkH3yA6Yy"
      },
      "outputs": [],
      "source": [
        "repeated_guest=hotel_booking_new[hotel_booking_new['is_repeated_guest']=='Yes']\n",
        "# not_repeated_quest=hotel_booking_new[hotel_booking_new['is_repeated_guest']=='No']\n",
        "repeated_guests=repeated_guest.groupby(['market_segment'])['hotel'].count()"
      ]
    },
    {
      "cell_type": "code",
      "source": [
        "15/38\n"
      ],
      "metadata": {
        "colab": {
          "base_uri": "https://localhost:8080/"
        },
        "id": "sRareKL4W-jY",
        "outputId": "a4fb8287-2ceb-4ed8-9c0c-af95133ed99a"
      },
      "execution_count": null,
      "outputs": [
        {
          "output_type": "execute_result",
          "data": {
            "text/plain": [
              "0.39473684210526316"
            ]
          },
          "metadata": {},
          "execution_count": 113
        }
      ]
    },
    {
      "cell_type": "code",
      "execution_count": null,
      "metadata": {
        "id": "vrLW-axqBHLD",
        "colab": {
          "base_uri": "https://localhost:8080/",
          "height": 614
        },
        "outputId": "25e8b8b8-9366-4130-e95e-3e08699b5735"
      },
      "outputs": [
        {
          "output_type": "display_data",
          "data": {
            "text/plain": [
              "<Figure size 720x576 with 1 Axes>"
            ],
            "image/png": "[encoded data removed]"
          },
          "metadata": {
            "needs_background": "light"
          }
        }
      ],
      "source": [
        "plt.rcParams['figure.figsize']=(10,8)\n",
        "plt.xticks(rotation=90)\n",
        "sns.countplot(x='market_segment',data=repeated_guest)\n",
        "plt.show()"
      ]
    },
    {
      "cell_type": "markdown",
      "source": [
        "***Corporates are the largest customer base for hotels amounting for almost 40% of the market share, with the follower ups being Direct bookings, Online Travel agencies,etc.*** "
      ],
      "metadata": {
        "id": "Zj_pKOVkxlp2"
      }
    },
    {
      "cell_type": "markdown",
      "source": [
        "Q.13. Required car parking spaces."
      ],
      "metadata": {
        "id": "lWdDYve7yEfo"
      }
    },
    {
      "cell_type": "code",
      "execution_count": null,
      "metadata": {
        "id": "kIFoKoOv2-KK",
        "colab": {
          "base_uri": "https://localhost:8080/"
        },
        "outputId": "6b342d2c-d573-4b90-9c79-9f2cda85ba6d"
      },
      "outputs": [
        {
          "output_type": "execute_result",
          "data": {
            "text/plain": [
              "0    111429\n",
              "1      7270\n",
              "2        28\n",
              "3         3\n",
              "8         2\n",
              "Name: required_car_parking_spaces, dtype: int64"
            ]
          },
          "metadata": {},
          "execution_count": 74
        }
      ],
      "source": [
        "hotel_booking_new['required_car_parking_spaces'].value_counts()\n"
      ]
    },
    {
      "cell_type": "code",
      "execution_count": null,
      "metadata": {
        "id": "AMunuhseMNPP"
      },
      "outputs": [],
      "source": [
        "x_car=hotel_booking_new['required_car_parking_spaces'].value_counts().index.tolist()\n",
        "y_car=hotel_booking_new['required_car_parking_spaces'].value_counts().tolist()"
      ]
    },
    {
      "cell_type": "code",
      "execution_count": null,
      "metadata": {
        "id": "K-KHiCG4MlY3",
        "colab": {
          "base_uri": "https://localhost:8080/",
          "height": 527
        },
        "outputId": "fb191ae4-59f1-4234-8908-96542a7e3f65"
      },
      "outputs": [
        {
          "output_type": "display_data",
          "data": {
            "text/plain": [
              "<Figure size 720x576 with 1 Axes>"
            ],
            "image/png": "[encoded data removed]"
          },
          "metadata": {
            "needs_background": "light"
          }
        }
      ],
      "source": [
        "plt.rcParams['figure.figsize']=(10,8)\n",
        "plt.plot(x_car,y_car,marker='D',ls='dotted')\n",
        "plt.ylabel('Count')\n",
        "plt.xlabel(\"no of parkings\")\n",
        "plt.title('Required car parking spaces')\n",
        "plt.show()"
      ]
    },
    {
      "cell_type": "markdown",
      "source": [
        "***We can see that maximum customers doesnot requires Parking spaces.***"
      ],
      "metadata": {
        "id": "4s4g1zZq8fPf"
      }
    },
    {
      "cell_type": "code",
      "execution_count": null,
      "metadata": {
        "id": "l7tTtPYLK8Rv",
        "colab": {
          "base_uri": "https://localhost:8080/",
          "height": 525
        },
        "outputId": "4f20502c-4e07-4e3e-ba3a-15a1de4dc421"
      },
      "outputs": [
        {
          "output_type": "execute_result",
          "data": {
            "text/plain": [
              "<matplotlib.axes._subplots.AxesSubplot at 0x7fc79c990490>"
            ]
          },
          "metadata": {},
          "execution_count": 77
        },
        {
          "output_type": "display_data",
          "data": {
            "text/plain": [
              "<Figure size 720x576 with 1 Axes>"
            ],
            "image/png": "[encoded data removed]"
          },
          "metadata": {
            "needs_background": "light"
          }
        }
      ],
      "source": [
        "sns.countplot(x='required_car_parking_spaces',hue='hotel',data= hotel_booking_new)"
      ]
    },
    {
      "cell_type": "markdown",
      "source": [
        "***In both Resort and city hotels we observe maximum customers donot require parking spaces, suggesting that majority of guests are travellers staying for a short visit.***"
      ],
      "metadata": {
        "id": "qLJIcXx-Veyh"
      }
    },
    {
      "cell_type": "markdown",
      "source": [
        "Q14.***How long people stay in a hotel?***"
      ],
      "metadata": {
        "id": "56IlVNzVXpsN"
      }
    },
    {
      "cell_type": "code",
      "execution_count": null,
      "metadata": {
        "id": "wVTU_yrI5W_P",
        "colab": {
          "base_uri": "https://localhost:8080/"
        },
        "outputId": "f4ded07d-aff0-4f6b-dd35-e295c50c3a8c"
      },
      "outputs": [
        {
          "output_type": "execute_result",
          "data": {
            "text/plain": [
              "Index(['hotel', 'is_canceled', 'lead_time', 'arrival_date_year',\n",
              "       'arrival_date_month', 'arrival_date_week_number',\n",
              "       'arrival_date_day_of_month', 'stays_in_weekend_nights',\n",
              "       'stays_in_week_nights', 'adults', 'meal', 'country', 'market_segment',\n",
              "       'distribution_channel', 'is_repeated_guest', 'previous_cancellations',\n",
              "       'previous_bookings_not_canceled', 'reserved_room_type',\n",
              "       'assigned_room_type', 'booking_changes', 'deposit_type',\n",
              "       'days_in_waiting_list', 'customer_type', 'adr',\n",
              "       'required_car_parking_spaces', 'total_of_special_requests',\n",
              "       'reservation_status', 'reservation_status_date', 'Kids'],\n",
              "      dtype='object')"
            ]
          },
          "metadata": {},
          "execution_count": 78
        }
      ],
      "source": [
        "hotel_booking_new.columns"
      ]
    },
    {
      "cell_type": "code",
      "execution_count": null,
      "metadata": {
        "id": "mXWcD9Vee0-T",
        "colab": {
          "base_uri": "https://localhost:8080/"
        },
        "outputId": "e4a63a76-6956-48a2-b569-a04e70f98c4d"
      },
      "outputs": [
        {
          "output_type": "execute_result",
          "data": {
            "text/plain": [
              "array(['Check-Out', 'Canceled', 'No-Show'], dtype=object)"
            ]
          },
          "metadata": {},
          "execution_count": 79
        }
      ],
      "source": [
        "hotel_booking_new['reservation_status'].unique()"
      ]
    },
    {
      "cell_type": "code",
      "execution_count": null,
      "metadata": {
        "id": "Z2zA9lLMLiRP",
        "colab": {
          "base_uri": "https://localhost:8080/",
          "height": 206
        },
        "outputId": "90489c25-f4f4-46f3-9e07-327b77a22105"
      },
      "outputs": [
        {
          "output_type": "execute_result",
          "data": {
            "text/plain": [
              "  reservation_status_date  arrival_date_day_of_month arrival_date_month  \\\n",
              "0              2015-07-01                          1               July   \n",
              "1              2015-07-01                          1               July   \n",
              "2              2015-07-02                          1               July   \n",
              "3              2015-07-02                          1               July   \n",
              "4              2015-07-03                          1               July   \n",
              "\n",
              "   arrival_date_year  \n",
              "0               2015  \n",
              "1               2015  \n",
              "2               2015  \n",
              "3               2015  \n",
              "4               2015  "
            ],
            "text/html": [
              "\n",
              "  <div id=\"df-fc4e813b-9a6f-4737-9321-c51214d01f5b\">\n",
              "    <div class=\"colab-df-container\">\n",
              "      <div>\n",
              "<style scoped>\n",
              "    .dataframe tbody tr th:only-of-type {\n",
              "        vertical-align: middle;\n",
              "    }\n",
              "\n",
              "    .dataframe tbody tr th {\n",
              "        vertical-align: top;\n",
              "    }\n",
              "\n",
              "    .dataframe thead th {\n",
              "        text-align: right;\n",
              "    }\n",
              "</style>\n",
              "<table border=\"1\" class=\"dataframe\">\n",
              "  <thead>\n",
              "    <tr style=\"text-align: right;\">\n",
              "      <th></th>\n",
              "      <th>reservation_status_date</th>\n",
              "      <th>arrival_date_day_of_month</th>\n",
              "      <th>arrival_date_month</th>\n",
              "      <th>arrival_date_year</th>\n",
              "    </tr>\n",
              "  </thead>\n",
              "  <tbody>\n",
              "    <tr>\n",
              "      <th>0</th>\n",
              "      <td>2015-07-01</td>\n",
              "      <td>1</td>\n",
              "      <td>July</td>\n",
              "      <td>2015</td>\n",
              "    </tr>\n",
              "    <tr>\n",
              "      <th>1</th>\n",
              "      <td>2015-07-01</td>\n",
              "      <td>1</td>\n",
              "      <td>July</td>\n",
              "      <td>2015</td>\n",
              "    </tr>\n",
              "    <tr>\n",
              "      <th>2</th>\n",
              "      <td>2015-07-02</td>\n",
              "      <td>1</td>\n",
              "      <td>July</td>\n",
              "      <td>2015</td>\n",
              "    </tr>\n",
              "    <tr>\n",
              "      <th>3</th>\n",
              "      <td>2015-07-02</td>\n",
              "      <td>1</td>\n",
              "      <td>July</td>\n",
              "      <td>2015</td>\n",
              "    </tr>\n",
              "    <tr>\n",
              "      <th>4</th>\n",
              "      <td>2015-07-03</td>\n",
              "      <td>1</td>\n",
              "      <td>July</td>\n",
              "      <td>2015</td>\n",
              "    </tr>\n",
              "  </tbody>\n",
              "</table>\n",
              "</div>\n",
              "      <button class=\"colab-df-convert\" onclick=\"convertToInteractive('df-fc4e813b-9a6f-4737-9321-c51214d01f5b')\"\n",
              "              title=\"Convert this dataframe to an interactive table.\"\n",
              "              style=\"display:none;\">\n",
              "        \n",
              "  <svg xmlns=\"http://www.w3.org/2000/svg\" height=\"24px\"viewBox=\"0 0 24 24\"\n",
              "       width=\"24px\">\n",
              "    <path d=\"M0 0h24v24H0V0z\" fill=\"none\"/>\n",
              "    <path d=\"M18.56 5.44l.94 2.06.94-2.06 2.06-.94-2.06-.94-.94-2.06-.94 2.06-2.06.94zm-11 1L8.5 8.5l.94-2.06 2.06-.94-2.06-.94L8.5 2.5l-.94 2.06-2.06.94zm10 10l.94 2.06.94-2.06 2.06-.94-2.06-.94-.94-2.06-.94 2.06-2.06.94z\"/><path d=\"M17.41 7.96l-1.37-1.37c-.4-.4-.92-.59-1.43-.59-.52 0-1.04.2-1.43.59L10.3 9.45l-7.72 7.72c-.78.78-.78 2.05 0 2.83L4 21.41c.39.39.9.59 1.41.59.51 0 1.02-.2 1.41-.59l7.78-7.78 2.81-2.81c.8-.78.8-2.07 0-2.86zM5.41 20L4 18.59l7.72-7.72 1.47 1.35L5.41 20z\"/>\n",
              "  </svg>\n",
              "      </button>\n",
              "      \n",
              "  <style>\n",
              "    .colab-df-container {\n",
              "      display:flex;\n",
              "      flex-wrap:wrap;\n",
              "      gap: 12px;\n",
              "    }\n",
              "\n",
              "    .colab-df-convert {\n",
              "      background-color: #E8F0FE;\n",
              "      border: none;\n",
              "      border-radius: 50%;\n",
              "      cursor: pointer;\n",
              "      display: none;\n",
              "      fill: #1967D2;\n",
              "      height: 32px;\n",
              "      padding: 0 0 0 0;\n",
              "      width: 32px;\n",
              "    }\n",
              "\n",
              "    .colab-df-convert:hover {\n",
              "      background-color: #E2EBFA;\n",
              "      box-shadow: 0px 1px 2px rgba(60, 64, 67, 0.3), 0px 1px 3px 1px rgba(60, 64, 67, 0.15);\n",
              "      fill: #174EA6;\n",
              "    }\n",
              "\n",
              "    [theme=dark] .colab-df-convert {\n",
              "      background-color: #3B4455;\n",
              "      fill: #D2E3FC;\n",
              "    }\n",
              "\n",
              "    [theme=dark] .colab-df-convert:hover {\n",
              "      background-color: #434B5C;\n",
              "      box-shadow: 0px 1px 3px 1px rgba(0, 0, 0, 0.15);\n",
              "      filter: drop-shadow(0px 1px 2px rgba(0, 0, 0, 0.3));\n",
              "      fill: #FFFFFF;\n",
              "    }\n",
              "  </style>\n",
              "\n",
              "      <script>\n",
              "        const buttonEl =\n",
              "          document.querySelector('#df-fc4e813b-9a6f-4737-9321-c51214d01f5b button.colab-df-convert');\n",
              "        buttonEl.style.display =\n",
              "          google.colab.kernel.accessAllowed ? 'block' : 'none';\n",
              "\n",
              "        async function convertToInteractive(key) {\n",
              "          const element = document.querySelector('#df-fc4e813b-9a6f-4737-9321-c51214d01f5b');\n",
              "          const dataTable =\n",
              "            await google.colab.kernel.invokeFunction('convertToInteractive',\n",
              "                                                     [key], {});\n",
              "          if (!dataTable) return;\n",
              "\n",
              "          const docLinkHtml = 'Like what you see? Visit the ' +\n",
              "            '<a target=\"_blank\" href=https://colab.research.google.com/notebooks/data_table.ipynb>data table notebook</a>'\n",
              "            + ' to learn more about interactive tables.';\n",
              "          element.innerHTML = '';\n",
              "          dataTable['output_type'] = 'display_data';\n",
              "          await google.colab.output.renderOutput(dataTable, element);\n",
              "          const docLink = document.createElement('div');\n",
              "          docLink.innerHTML = docLinkHtml;\n",
              "          element.appendChild(docLink);\n",
              "        }\n",
              "      </script>\n",
              "    </div>\n",
              "  </div>\n",
              "  "
            ]
          },
          "metadata": {},
          "execution_count": 80
        }
      ],
      "source": [
        "check_out=hotel_booking_new[hotel_booking_new['reservation_status']=='Check-Out']\n",
        "check_out=check_out[['reservation_status_date','arrival_date_day_of_month','arrival_date_month','arrival_date_year']]\n",
        "check_out.head()"
      ]
    },
    {
      "cell_type": "code",
      "execution_count": null,
      "metadata": {
        "id": "pUPoW6n760nG"
      },
      "outputs": [],
      "source": [
        "from datetime import datetime\n",
        "check_out['reservation_status_date']=pd.to_datetime(check_out['reservation_status_date'], format='%Y-%m-%d')\n",
        "check_out['reservation_status_date']\n",
        "check_in=check_out.iloc[:,1:]\n",
        "day=check_in['arrival_date_day_of_month'].tolist()\n",
        "month=check_in['arrival_date_month'].tolist()\n",
        "year=check_in['arrival_date_year'].tolist()\n"
      ]
    },
    {
      "cell_type": "code",
      "execution_count": null,
      "metadata": {
        "id": "evyqRlsP5E_6",
        "colab": {
          "base_uri": "https://localhost:8080/"
        },
        "outputId": "71c24640-7635-45f1-ecdb-8e23dc21271a"
      },
      "outputs": [
        {
          "output_type": "execute_result",
          "data": {
            "text/plain": [
              "array([['1', 'July', '2015'],\n",
              "       ['1', 'July', '2015'],\n",
              "       ['1', 'July', '2015'],\n",
              "       ...,\n",
              "       ['31', 'August', '2017'],\n",
              "       ['31', 'August', '2017'],\n",
              "       ['29', 'August', '2017']], dtype='<U21')"
            ]
          },
          "metadata": {},
          "execution_count": 82
        }
      ],
      "source": [
        "check_in_date=list(zip(day,month,year))\n",
        "check_in_date=np.array(check_in_date)\n",
        "check_in_date"
      ]
    },
    {
      "cell_type": "code",
      "execution_count": null,
      "metadata": {
        "id": "vLi9NVVIDdA1"
      },
      "outputs": [],
      "source": [
        "check_date=[]\n",
        "for i in check_in_date:\n",
        "  v=i[2]+'-'+i[1][:3]+'-'+i[0]\n",
        "  check_date.append(datetime.strptime(v,'%Y-%b-%d'))\n"
      ]
    },
    {
      "cell_type": "code",
      "execution_count": null,
      "metadata": {
        "id": "zP9PUu_m46b8"
      },
      "outputs": [],
      "source": [
        "check_out['arrival_date']=check_date"
      ]
    },
    {
      "cell_type": "code",
      "execution_count": null,
      "metadata": {
        "id": "cv0zYtkQU1pT",
        "colab": {
          "base_uri": "https://localhost:8080/",
          "height": 206
        },
        "outputId": "dac05271-e851-4504-f6e4-ce1d12d4742d"
      },
      "outputs": [
        {
          "output_type": "execute_result",
          "data": {
            "text/plain": [
              "  reservation_status_date  arrival_date_day_of_month arrival_date_month  \\\n",
              "0              2015-07-01                          1               July   \n",
              "1              2015-07-01                          1               July   \n",
              "2              2015-07-02                          1               July   \n",
              "3              2015-07-02                          1               July   \n",
              "4              2015-07-03                          1               July   \n",
              "\n",
              "   arrival_date_year arrival_date  \n",
              "0               2015   2015-07-01  \n",
              "1               2015   2015-07-01  \n",
              "2               2015   2015-07-01  \n",
              "3               2015   2015-07-01  \n",
              "4               2015   2015-07-01  "
            ],
            "text/html": [
              "\n",
              "  <div id=\"df-5dd3265b-abbf-4809-b748-055b9a0ea226\">\n",
              "    <div class=\"colab-df-container\">\n",
              "      <div>\n",
              "<style scoped>\n",
              "    .dataframe tbody tr th:only-of-type {\n",
              "        vertical-align: middle;\n",
              "    }\n",
              "\n",
              "    .dataframe tbody tr th {\n",
              "        vertical-align: top;\n",
              "    }\n",
              "\n",
              "    .dataframe thead th {\n",
              "        text-align: right;\n",
              "    }\n",
              "</style>\n",
              "<table border=\"1\" class=\"dataframe\">\n",
              "  <thead>\n",
              "    <tr style=\"text-align: right;\">\n",
              "      <th></th>\n",
              "      <th>reservation_status_date</th>\n",
              "      <th>arrival_date_day_of_month</th>\n",
              "      <th>arrival_date_month</th>\n",
              "      <th>arrival_date_year</th>\n",
              "      <th>arrival_date</th>\n",
              "    </tr>\n",
              "  </thead>\n",
              "  <tbody>\n",
              "    <tr>\n",
              "      <th>0</th>\n",
              "      <td>2015-07-01</td>\n",
              "      <td>1</td>\n",
              "      <td>July</td>\n",
              "      <td>2015</td>\n",
              "      <td>2015-07-01</td>\n",
              "    </tr>\n",
              "    <tr>\n",
              "      <th>1</th>\n",
              "      <td>2015-07-01</td>\n",
              "      <td>1</td>\n",
              "      <td>July</td>\n",
              "      <td>2015</td>\n",
              "      <td>2015-07-01</td>\n",
              "    </tr>\n",
              "    <tr>\n",
              "      <th>2</th>\n",
              "      <td>2015-07-02</td>\n",
              "      <td>1</td>\n",
              "      <td>July</td>\n",
              "      <td>2015</td>\n",
              "      <td>2015-07-01</td>\n",
              "    </tr>\n",
              "    <tr>\n",
              "      <th>3</th>\n",
              "      <td>2015-07-02</td>\n",
              "      <td>1</td>\n",
              "      <td>July</td>\n",
              "      <td>2015</td>\n",
              "      <td>2015-07-01</td>\n",
              "    </tr>\n",
              "    <tr>\n",
              "      <th>4</th>\n",
              "      <td>2015-07-03</td>\n",
              "      <td>1</td>\n",
              "      <td>July</td>\n",
              "      <td>2015</td>\n",
              "      <td>2015-07-01</td>\n",
              "    </tr>\n",
              "  </tbody>\n",
              "</table>\n",
              "</div>\n",
              "      <button class=\"colab-df-convert\" onclick=\"convertToInteractive('df-5dd3265b-abbf-4809-b748-055b9a0ea226')\"\n",
              "              title=\"Convert this dataframe to an interactive table.\"\n",
              "              style=\"display:none;\">\n",
              "        \n",
              "  <svg xmlns=\"http://www.w3.org/2000/svg\" height=\"24px\"viewBox=\"0 0 24 24\"\n",
              "       width=\"24px\">\n",
              "    <path d=\"M0 0h24v24H0V0z\" fill=\"none\"/>\n",
              "    <path d=\"M18.56 5.44l.94 2.06.94-2.06 2.06-.94-2.06-.94-.94-2.06-.94 2.06-2.06.94zm-11 1L8.5 8.5l.94-2.06 2.06-.94-2.06-.94L8.5 2.5l-.94 2.06-2.06.94zm10 10l.94 2.06.94-2.06 2.06-.94-2.06-.94-.94-2.06-.94 2.06-2.06.94z\"/><path d=\"M17.41 7.96l-1.37-1.37c-.4-.4-.92-.59-1.43-.59-.52 0-1.04.2-1.43.59L10.3 9.45l-7.72 7.72c-.78.78-.78 2.05 0 2.83L4 21.41c.39.39.9.59 1.41.59.51 0 1.02-.2 1.41-.59l7.78-7.78 2.81-2.81c.8-.78.8-2.07 0-2.86zM5.41 20L4 18.59l7.72-7.72 1.47 1.35L5.41 20z\"/>\n",
              "  </svg>\n",
              "      </button>\n",
              "      \n",
              "  <style>\n",
              "    .colab-df-container {\n",
              "      display:flex;\n",
              "      flex-wrap:wrap;\n",
              "      gap: 12px;\n",
              "    }\n",
              "\n",
              "    .colab-df-convert {\n",
              "      background-color: #E8F0FE;\n",
              "      border: none;\n",
              "      border-radius: 50%;\n",
              "      cursor: pointer;\n",
              "      display: none;\n",
              "      fill: #1967D2;\n",
              "      height: 32px;\n",
              "      padding: 0 0 0 0;\n",
              "      width: 32px;\n",
              "    }\n",
              "\n",
              "    .colab-df-convert:hover {\n",
              "      background-color: #E2EBFA;\n",
              "      box-shadow: 0px 1px 2px rgba(60, 64, 67, 0.3), 0px 1px 3px 1px rgba(60, 64, 67, 0.15);\n",
              "      fill: #174EA6;\n",
              "    }\n",
              "\n",
              "    [theme=dark] .colab-df-convert {\n",
              "      background-color: #3B4455;\n",
              "      fill: #D2E3FC;\n",
              "    }\n",
              "\n",
              "    [theme=dark] .colab-df-convert:hover {\n",
              "      background-color: #434B5C;\n",
              "      box-shadow: 0px 1px 3px 1px rgba(0, 0, 0, 0.15);\n",
              "      filter: drop-shadow(0px 1px 2px rgba(0, 0, 0, 0.3));\n",
              "      fill: #FFFFFF;\n",
              "    }\n",
              "  </style>\n",
              "\n",
              "      <script>\n",
              "        const buttonEl =\n",
              "          document.querySelector('#df-5dd3265b-abbf-4809-b748-055b9a0ea226 button.colab-df-convert');\n",
              "        buttonEl.style.display =\n",
              "          google.colab.kernel.accessAllowed ? 'block' : 'none';\n",
              "\n",
              "        async function convertToInteractive(key) {\n",
              "          const element = document.querySelector('#df-5dd3265b-abbf-4809-b748-055b9a0ea226');\n",
              "          const dataTable =\n",
              "            await google.colab.kernel.invokeFunction('convertToInteractive',\n",
              "                                                     [key], {});\n",
              "          if (!dataTable) return;\n",
              "\n",
              "          const docLinkHtml = 'Like what you see? Visit the ' +\n",
              "            '<a target=\"_blank\" href=https://colab.research.google.com/notebooks/data_table.ipynb>data table notebook</a>'\n",
              "            + ' to learn more about interactive tables.';\n",
              "          element.innerHTML = '';\n",
              "          dataTable['output_type'] = 'display_data';\n",
              "          await google.colab.output.renderOutput(dataTable, element);\n",
              "          const docLink = document.createElement('div');\n",
              "          docLink.innerHTML = docLinkHtml;\n",
              "          element.appendChild(docLink);\n",
              "        }\n",
              "      </script>\n",
              "    </div>\n",
              "  </div>\n",
              "  "
            ]
          },
          "metadata": {},
          "execution_count": 85
        }
      ],
      "source": [
        "check_out.head()"
      ]
    },
    {
      "cell_type": "code",
      "execution_count": null,
      "metadata": {
        "id": "nN_vjOZA55YY"
      },
      "outputs": [],
      "source": [
        "check_in_out=check_out.drop(check_out.iloc[:,1:4],axis=1)\n",
        "check_in_out=check_in_out.assign(Total_stay= lambda x:(x['reservation_status_date']-x['arrival_date']))\n",
        "check_in_out['adr']=hotel_booking_new['adr']\n",
        "check_in_out=check_in_out[check_in_out['adr']>1]"
      ]
    },
    {
      "cell_type": "code",
      "execution_count": null,
      "metadata": {
        "id": "TKO2RCT-ZtGM"
      },
      "outputs": [],
      "source": [
        "# check_in_out['Total_stay'].unique()"
      ]
    },
    {
      "cell_type": "code",
      "source": [
        "stay_list=check_in_out[\"Total_stay\"].tolist()"
      ],
      "metadata": {
        "id": "84TzcQkFWnUA"
      },
      "execution_count": null,
      "outputs": []
    },
    {
      "cell_type": "code",
      "execution_count": null,
      "metadata": {
        "id": "WkQu4oRNWG9O",
        "colab": {
          "base_uri": "https://localhost:8080/"
        },
        "outputId": "ad45bd2c-f37e-4411-b0f8-f34a3bbb1f62"
      },
      "outputs": [
        {
          "output_type": "execute_result",
          "data": {
            "text/plain": [
              "{0,\n",
              " 1,\n",
              " 2,\n",
              " 3,\n",
              " 4,\n",
              " 5,\n",
              " 6,\n",
              " 7,\n",
              " 8,\n",
              " 9,\n",
              " 10,\n",
              " 11,\n",
              " 12,\n",
              " 13,\n",
              " 14,\n",
              " 15,\n",
              " 16,\n",
              " 17,\n",
              " 18,\n",
              " 19,\n",
              " 20,\n",
              " 21,\n",
              " 22,\n",
              " 23,\n",
              " 24,\n",
              " 25,\n",
              " 28,\n",
              " 29,\n",
              " 30,\n",
              " 34,\n",
              " 35,\n",
              " 42,\n",
              " 45,\n",
              " 56}"
            ]
          },
          "metadata": {},
          "execution_count": 89
        }
      ],
      "source": [
        "vv=[]\n",
        "for i in str(stay_list).split(\",\"):\n",
        "  vv.append(int(i[12:14]))\n",
        "set(vv)"
      ]
    },
    {
      "cell_type": "code",
      "execution_count": null,
      "metadata": {
        "id": "kI92NjDRYgOJ"
      },
      "outputs": [],
      "source": [
        "check_in_out['Total_stay1']=vv\n",
        "c=check_in_out['Total_stay1']"
      ]
    },
    {
      "cell_type": "code",
      "execution_count": null,
      "metadata": {
        "id": "WA_pMHSz536P"
      },
      "outputs": [],
      "source": [
        "mean=check_in_out.groupby([c])['adr'].mean()"
      ]
    },
    {
      "cell_type": "code",
      "execution_count": null,
      "metadata": {
        "id": "XARmblxDWZ0X"
      },
      "outputs": [],
      "source": [
        "ry=mean.tolist()"
      ]
    },
    {
      "cell_type": "code",
      "execution_count": null,
      "metadata": {
        "id": "cZUnfm6C_gmR"
      },
      "outputs": [],
      "source": [
        "tx=mean.index.tolist()"
      ]
    },
    {
      "cell_type": "code",
      "execution_count": null,
      "metadata": {
        "id": "Cu31uukSBDP_",
        "colab": {
          "base_uri": "https://localhost:8080/",
          "height": 488
        },
        "outputId": "32be451b-6546-4a6e-8c9a-1f2c1f8297fd"
      },
      "outputs": [
        {
          "output_type": "display_data",
          "data": {
            "text/plain": [
              "<Figure size 720x576 with 1 Axes>"
            ],
            "image/png": "[encoded data removed]"
          },
          "metadata": {
            "needs_background": "light"
          }
        }
      ],
      "source": [
        "plt.grid()\n",
        "plt.plot(tx,ry)\n",
        "plt.show()"
      ]
    },
    {
      "cell_type": "markdown",
      "source": [
        "We can observe from the graph that first 25 days average daily rate is very high after that average daily rate decrease sharply till 30 then we can see inclination and after that adr reduces"
      ],
      "metadata": {
        "id": "0_SYp1XfYsG3"
      }
    },
    {
      "cell_type": "code",
      "execution_count": null,
      "metadata": {
        "id": "cOcjg57zC7eM",
        "colab": {
          "base_uri": "https://localhost:8080/"
        },
        "outputId": "fb0cd99c-e75d-4da4-8e04-bad496097dd6"
      },
      "outputs": [
        {
          "output_type": "execute_result",
          "data": {
            "text/plain": [
              "0       0.000000\n",
              "1      95.230944\n",
              "2      97.911907\n",
              "3     105.255594\n",
              "4     105.040611\n",
              "5     113.423395\n",
              "6     120.236710\n",
              "7     103.526099\n",
              "8     114.536560\n",
              "9     114.661661\n",
              "10    108.331061\n",
              "11    108.697321\n",
              "12    106.708909\n",
              "13    112.207554\n",
              "14     95.019780\n",
              "15     96.162254\n",
              "16     94.694750\n",
              "17     95.355000\n",
              "18     78.929429\n",
              "19     99.495455\n",
              "20     76.225000\n",
              "21     77.982676\n",
              "22     81.266154\n",
              "23     60.762500\n",
              "24     83.590000\n",
              "25     58.608378\n",
              "26     73.790000\n",
              "27     79.700000\n",
              "28     59.823529\n",
              "29     95.523077\n",
              "30     76.310769\n",
              "Name: adr, dtype: float64"
            ]
          },
          "metadata": {},
          "execution_count": 119
        }
      ],
      "source": [
        "x=hotel_booking_new['stays_in_week_nights']+hotel_booking_new['stays_in_weekend_nights']\n",
        "y=hotel_booking_new.groupby([x])['adr'].mean()[0:31]\n",
        "y"
      ]
    },
    {
      "cell_type": "code",
      "execution_count": null,
      "metadata": {
        "id": "n1hQOa0hDYoB"
      },
      "outputs": [],
      "source": [
        "r=y.tolist()\n",
        "q=y.index"
      ]
    },
    {
      "cell_type": "code",
      "source": [
        "plt.plot(q,r)"
      ],
      "metadata": {
        "id": "wvYQ33oFNRYr",
        "colab": {
          "base_uri": "https://localhost:8080/",
          "height": 505
        },
        "outputId": "46bbdf79-7f99-4ea8-9b1e-e1e97751f0da"
      },
      "execution_count": null,
      "outputs": [
        {
          "output_type": "execute_result",
          "data": {
            "text/plain": [
              "[<matplotlib.lines.Line2D at 0x7fc796d66fd0>]"
            ]
          },
          "metadata": {},
          "execution_count": 122
        },
        {
          "output_type": "display_data",
          "data": {
            "text/plain": [
              "<Figure size 720x576 with 1 Axes>"
            ],
            "image/png": "[encoded data removed]"
          },
          "metadata": {
            "needs_background": "light"
          }
        }
      ]
    },
    {
      "cell_type": "markdown",
      "source": [
        "A large no of guests prefer to stay at a hotel for 5 to 15 days. Another local maxima can be observed at the 30 day interval suggeting a monthly stint."
      ],
      "metadata": {
        "id": "XEnx3II-hSTY"
      }
    },
    {
      "cell_type": "markdown",
      "source": [
        "Prefered meals types."
      ],
      "metadata": {
        "id": "-58rIX30lWOp"
      }
    },
    {
      "cell_type": "markdown",
      "source": [
        "BB means bed and breakfast.\n",
        "• HB means half board, in\n",
        "which breakfast and dinner\n",
        "are included.\n",
        "• FB means full board, in which\n",
        "breakfast, lunch and dinner\n",
        "are included.\n",
        "• SC means, self-catering (no\n",
        "meals are included)."
      ],
      "metadata": {
        "id": "skAbAyKLmlW9"
      }
    },
    {
      "cell_type": "code",
      "source": [
        "hotel_booking_new.columns"
      ],
      "metadata": {
        "id": "Nc3LxAjdwjjo",
        "colab": {
          "base_uri": "https://localhost:8080/"
        },
        "outputId": "238d3ae9-07cc-4fe9-9269-630cb9007177"
      },
      "execution_count": null,
      "outputs": [
        {
          "output_type": "execute_result",
          "data": {
            "text/plain": [
              "Index(['hotel', 'is_canceled', 'lead_time', 'arrival_date_year',\n",
              "       'arrival_date_month', 'arrival_date_week_number',\n",
              "       'arrival_date_day_of_month', 'stays_in_weekend_nights',\n",
              "       'stays_in_week_nights', 'adults', 'meal', 'country', 'market_segment',\n",
              "       'distribution_channel', 'is_repeated_guest', 'previous_cancellations',\n",
              "       'previous_bookings_not_canceled', 'reserved_room_type',\n",
              "       'assigned_room_type', 'booking_changes', 'deposit_type',\n",
              "       'days_in_waiting_list', 'customer_type', 'adr',\n",
              "       'required_car_parking_spaces', 'total_of_special_requests',\n",
              "       'reservation_status', 'reservation_status_date', 'Kids'],\n",
              "      dtype='object')"
            ]
          },
          "metadata": {},
          "execution_count": 98
        }
      ]
    },
    {
      "cell_type": "code",
      "source": [
        "hotel_booking_new['meal'].unique()"
      ],
      "metadata": {
        "id": "SKZW6KdVOj96",
        "colab": {
          "base_uri": "https://localhost:8080/"
        },
        "outputId": "9fe84112-1280-46a4-b685-c479170db2e3"
      },
      "execution_count": null,
      "outputs": [
        {
          "output_type": "execute_result",
          "data": {
            "text/plain": [
              "array(['BB', 'FB', 'HB', 'SC', 'Undefined'], dtype=object)"
            ]
          },
          "metadata": {},
          "execution_count": 99
        }
      ]
    },
    {
      "cell_type": "code",
      "source": [
        "u=hotel_booking_new['meal'].value_counts()\n",
        "u.plot(kind='bar',xlabel='Type of meals',ylabel='no of guests',color=['red','g','b','k','y'],title='meal prefered')"
      ],
      "metadata": {
        "id": "UrEYCliEPB0R",
        "colab": {
          "base_uri": "https://localhost:8080/",
          "height": 606
        },
        "outputId": "cb0383d7-ed83-4c51-aecd-bb3fa0d8e16a"
      },
      "execution_count": null,
      "outputs": [
        {
          "output_type": "execute_result",
          "data": {
            "text/plain": [
              "<matplotlib.axes._subplots.AxesSubplot at 0x7fc79c719c90>"
            ]
          },
          "metadata": {},
          "execution_count": 100
        },
        {
          "output_type": "display_data",
          "data": {
            "text/plain": [
              "<Figure size 720x576 with 1 Axes>"
            ],
            "image/png": "[encoded data removed]"
          },
          "metadata": {
            "needs_background": "light"
          }
        }
      ]
    },
    {
      "cell_type": "markdown",
      "source": [
        "***As majority of the guests are staying for a short stint of upto 10 days they prefer to have (breakfast only) type meal, hence opting for BB. This demography suggests that guest are intrested in visiting places , thusly not staying at the hotel for majority of time. Other popular option for fooding include HB, SC and FB.***"
      ],
      "metadata": {
        "id": "nOgQJmfMojmF"
      }
    }
  ],
  "metadata": {
    "colab": {
      "collapsed_sections": [],
      "name": "Hotel Booking Analysis - Souvik Capstone Project.ipynb",
      "provenance": [],
      "include_colab_link": true
    },
    "kernelspec": {
      "display_name": "Python 3",
      "language": "python",
      "name": "python3"
    },
    "language_info": {
      "codemirror_mode": {
        "name": "ipython",
        "version": 3
      },
      "file_extension": ".py",
      "mimetype": "text/x-python",
      "name": "python",
      "nbconvert_exporter": "python",
      "pygments_lexer": "ipython3",
      "version": "3.6.6"
    }
  },
  "nbformat": 4,
  "nbformat_minor": 0
}