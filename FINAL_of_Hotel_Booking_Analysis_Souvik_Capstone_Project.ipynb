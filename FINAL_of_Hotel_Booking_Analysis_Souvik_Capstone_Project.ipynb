{
  "cells": [
    {
      "cell_type": "markdown",
      "metadata": {
        "id": "view-in-github",
        "colab_type": "text"
      },
      "source": [
        "<a href=\"https://colab.research.google.com/github/Souvik0651/hotel_booking_analysis/blob/main/FINAL_of_Hotel_Booking_Analysis_Souvik_Capstone_Project.ipynb\" target=\"_parent\"><img src=\"https://colab.research.google.com/assets/colab-badge.svg\" alt=\"Open In Colab\"/></a>"
      ]
    },
    {
      "cell_type": "markdown",
      "metadata": {
        "id": "Y06xIdG26kRF"
      },
      "source": [
        "## <b> Have you ever wondered when the best time of year to book a hotel room is? Or the optimal length of stay in order to get the best daily rate? What if you wanted to predict whether or not a hotel was likely to receive a disproportionately high number of special requests? This hotel booking dataset can help you explore those questions!\n",
        "\n",
        "## <b>This data set contains booking information for a city hotel and a resort hotel, and includes information such as when the booking was made, length of stay, the number of adults, children, and/or babies, and the number of available parking spaces, among other things. All personally identifying information has been removed from the data. </b>\n",
        "\n",
        "## <b> Explore and analyze the data to discover important factors that govern the bookings. </b>"
      ]
    },
    {
      "cell_type": "markdown",
      "metadata": {
        "id": "Ukj6SbiBPOiR"
      },
      "source": [
        " **Importing Pandas Numpy matplotlib and seabornin the notebook**"
      ]
    },
    {
      "cell_type": "code",
      "execution_count": 157,
      "metadata": {
        "id": "xMWA85P7Kgj1"
      },
      "outputs": [],
      "source": [
        "#import numpy and pandas library\n",
        "import numpy as np      \n",
        "import pandas as pd    "
      ]
    },
    {
      "cell_type": "code",
      "execution_count": 158,
      "metadata": {
        "id": "37L5_uUHS66o"
      },
      "outputs": [],
      "source": [
        "#import matplotlib and seaborn\n",
        "import matplotlib.pyplot as plt\n",
        "import seaborn as sns"
      ]
    },
    {
      "cell_type": "markdown",
      "metadata": {
        "id": "vpE-ekmqQFBC"
      },
      "source": [
        " **Loading the Hotel Bookings.csv kept in the Drive**"
      ]
    },
    {
      "cell_type": "code",
      "execution_count": 159,
      "metadata": {
        "id": "iO7xofL4LF14",
        "colab": {
          "base_uri": "https://localhost:8080/"
        },
        "outputId": "290a446d-972c-4d09-b69e-bd9c9f5769c8"
      },
      "outputs": [
        {
          "output_type": "stream",
          "name": "stdout",
          "text": [
            "Drive already mounted at /content/drive; to attempt to forcibly remount, call drive.mount(\"/content/drive\", force_remount=True).\n"
          ]
        }
      ],
      "source": [
        "#mounting the csv file in colab notebook\n",
        "from google.colab import drive    \n",
        "drive.mount('/content/drive')"
      ]
    },
    {
      "cell_type": "code",
      "execution_count": 160,
      "metadata": {
        "id": "dByMsuzT8Tnw"
      },
      "outputs": [],
      "source": [
        "#loading the csv file from drive\n",
        "hotel_booking_df=pd.read_csv('/content/drive/MyDrive/Colab Notebooks/Capstone project -1/Hotel Bookings.csv')"
      ]
    },
    {
      "cell_type": "markdown",
      "source": [
        "Data exploration is the first step of data analysis used to explore and visualize data to uncover insights from the start or identify areas or patterns to dig into more"
      ],
      "metadata": {
        "id": "ff7TScTh6PZC"
      }
    },
    {
      "cell_type": "code",
      "execution_count": 161,
      "metadata": {
        "id": "xWbzDBw8Mw9r",
        "colab": {
          "base_uri": "https://localhost:8080/",
          "height": 386
        },
        "outputId": "c632cb55-ead3-4231-db71-95782e00bd85"
      },
      "outputs": [
        {
          "output_type": "execute_result",
          "data": {
            "text/plain": [
              "          hotel  is_canceled  lead_time  arrival_date_year arrival_date_month  \\\n",
              "0  Resort Hotel            0        342               2015               July   \n",
              "1  Resort Hotel            0        737               2015               July   \n",
              "2  Resort Hotel            0          7               2015               July   \n",
              "3  Resort Hotel            0         13               2015               July   \n",
              "4  Resort Hotel            0         14               2015               July   \n",
              "\n",
              "   arrival_date_week_number  arrival_date_day_of_month  \\\n",
              "0                        27                          1   \n",
              "1                        27                          1   \n",
              "2                        27                          1   \n",
              "3                        27                          1   \n",
              "4                        27                          1   \n",
              "\n",
              "   stays_in_weekend_nights  stays_in_week_nights  adults  ...  deposit_type  \\\n",
              "0                        0                     0       2  ...    No Deposit   \n",
              "1                        0                     0       2  ...    No Deposit   \n",
              "2                        0                     1       1  ...    No Deposit   \n",
              "3                        0                     1       1  ...    No Deposit   \n",
              "4                        0                     2       2  ...    No Deposit   \n",
              "\n",
              "   agent company days_in_waiting_list customer_type   adr  \\\n",
              "0    NaN     NaN                    0     Transient   0.0   \n",
              "1    NaN     NaN                    0     Transient   0.0   \n",
              "2    NaN     NaN                    0     Transient  75.0   \n",
              "3  304.0     NaN                    0     Transient  75.0   \n",
              "4  240.0     NaN                    0     Transient  98.0   \n",
              "\n",
              "   required_car_parking_spaces  total_of_special_requests  reservation_status  \\\n",
              "0                            0                          0           Check-Out   \n",
              "1                            0                          0           Check-Out   \n",
              "2                            0                          0           Check-Out   \n",
              "3                            0                          0           Check-Out   \n",
              "4                            0                          1           Check-Out   \n",
              "\n",
              "  reservation_status_date  \n",
              "0              2015-07-01  \n",
              "1              2015-07-01  \n",
              "2              2015-07-02  \n",
              "3              2015-07-02  \n",
              "4              2015-07-03  \n",
              "\n",
              "[5 rows x 32 columns]"
            ],
            "text/html": [
              "\n",
              "  <div id=\"df-1a5873ca-770e-4b8c-ae46-d7c5502f6bb7\">\n",
              "    <div class=\"colab-df-container\">\n",
              "      <div>\n",
              "<style scoped>\n",
              "    .dataframe tbody tr th:only-of-type {\n",
              "        vertical-align: middle;\n",
              "    }\n",
              "\n",
              "    .dataframe tbody tr th {\n",
              "        vertical-align: top;\n",
              "    }\n",
              "\n",
              "    .dataframe thead th {\n",
              "        text-align: right;\n",
              "    }\n",
              "</style>\n",
              "<table border=\"1\" class=\"dataframe\">\n",
              "  <thead>\n",
              "    <tr style=\"text-align: right;\">\n",
              "      <th></th>\n",
              "      <th>hotel</th>\n",
              "      <th>is_canceled</th>\n",
              "      <th>lead_time</th>\n",
              "      <th>arrival_date_year</th>\n",
              "      <th>arrival_date_month</th>\n",
              "      <th>arrival_date_week_number</th>\n",
              "      <th>arrival_date_day_of_month</th>\n",
              "      <th>stays_in_weekend_nights</th>\n",
              "      <th>stays_in_week_nights</th>\n",
              "      <th>adults</th>\n",
              "      <th>...</th>\n",
              "      <th>deposit_type</th>\n",
              "      <th>agent</th>\n",
              "      <th>company</th>\n",
              "      <th>days_in_waiting_list</th>\n",
              "      <th>customer_type</th>\n",
              "      <th>adr</th>\n",
              "      <th>required_car_parking_spaces</th>\n",
              "      <th>total_of_special_requests</th>\n",
              "      <th>reservation_status</th>\n",
              "      <th>reservation_status_date</th>\n",
              "    </tr>\n",
              "  </thead>\n",
              "  <tbody>\n",
              "    <tr>\n",
              "      <th>0</th>\n",
              "      <td>Resort Hotel</td>\n",
              "      <td>0</td>\n",
              "      <td>342</td>\n",
              "      <td>2015</td>\n",
              "      <td>July</td>\n",
              "      <td>27</td>\n",
              "      <td>1</td>\n",
              "      <td>0</td>\n",
              "      <td>0</td>\n",
              "      <td>2</td>\n",
              "      <td>...</td>\n",
              "      <td>No Deposit</td>\n",
              "      <td>NaN</td>\n",
              "      <td>NaN</td>\n",
              "      <td>0</td>\n",
              "      <td>Transient</td>\n",
              "      <td>0.0</td>\n",
              "      <td>0</td>\n",
              "      <td>0</td>\n",
              "      <td>Check-Out</td>\n",
              "      <td>2015-07-01</td>\n",
              "    </tr>\n",
              "    <tr>\n",
              "      <th>1</th>\n",
              "      <td>Resort Hotel</td>\n",
              "      <td>0</td>\n",
              "      <td>737</td>\n",
              "      <td>2015</td>\n",
              "      <td>July</td>\n",
              "      <td>27</td>\n",
              "      <td>1</td>\n",
              "      <td>0</td>\n",
              "      <td>0</td>\n",
              "      <td>2</td>\n",
              "      <td>...</td>\n",
              "      <td>No Deposit</td>\n",
              "      <td>NaN</td>\n",
              "      <td>NaN</td>\n",
              "      <td>0</td>\n",
              "      <td>Transient</td>\n",
              "      <td>0.0</td>\n",
              "      <td>0</td>\n",
              "      <td>0</td>\n",
              "      <td>Check-Out</td>\n",
              "      <td>2015-07-01</td>\n",
              "    </tr>\n",
              "    <tr>\n",
              "      <th>2</th>\n",
              "      <td>Resort Hotel</td>\n",
              "      <td>0</td>\n",
              "      <td>7</td>\n",
              "      <td>2015</td>\n",
              "      <td>July</td>\n",
              "      <td>27</td>\n",
              "      <td>1</td>\n",
              "      <td>0</td>\n",
              "      <td>1</td>\n",
              "      <td>1</td>\n",
              "      <td>...</td>\n",
              "      <td>No Deposit</td>\n",
              "      <td>NaN</td>\n",
              "      <td>NaN</td>\n",
              "      <td>0</td>\n",
              "      <td>Transient</td>\n",
              "      <td>75.0</td>\n",
              "      <td>0</td>\n",
              "      <td>0</td>\n",
              "      <td>Check-Out</td>\n",
              "      <td>2015-07-02</td>\n",
              "    </tr>\n",
              "    <tr>\n",
              "      <th>3</th>\n",
              "      <td>Resort Hotel</td>\n",
              "      <td>0</td>\n",
              "      <td>13</td>\n",
              "      <td>2015</td>\n",
              "      <td>July</td>\n",
              "      <td>27</td>\n",
              "      <td>1</td>\n",
              "      <td>0</td>\n",
              "      <td>1</td>\n",
              "      <td>1</td>\n",
              "      <td>...</td>\n",
              "      <td>No Deposit</td>\n",
              "      <td>304.0</td>\n",
              "      <td>NaN</td>\n",
              "      <td>0</td>\n",
              "      <td>Transient</td>\n",
              "      <td>75.0</td>\n",
              "      <td>0</td>\n",
              "      <td>0</td>\n",
              "      <td>Check-Out</td>\n",
              "      <td>2015-07-02</td>\n",
              "    </tr>\n",
              "    <tr>\n",
              "      <th>4</th>\n",
              "      <td>Resort Hotel</td>\n",
              "      <td>0</td>\n",
              "      <td>14</td>\n",
              "      <td>2015</td>\n",
              "      <td>July</td>\n",
              "      <td>27</td>\n",
              "      <td>1</td>\n",
              "      <td>0</td>\n",
              "      <td>2</td>\n",
              "      <td>2</td>\n",
              "      <td>...</td>\n",
              "      <td>No Deposit</td>\n",
              "      <td>240.0</td>\n",
              "      <td>NaN</td>\n",
              "      <td>0</td>\n",
              "      <td>Transient</td>\n",
              "      <td>98.0</td>\n",
              "      <td>0</td>\n",
              "      <td>1</td>\n",
              "      <td>Check-Out</td>\n",
              "      <td>2015-07-03</td>\n",
              "    </tr>\n",
              "  </tbody>\n",
              "</table>\n",
              "<p>5 rows × 32 columns</p>\n",
              "</div>\n",
              "      <button class=\"colab-df-convert\" onclick=\"convertToInteractive('df-1a5873ca-770e-4b8c-ae46-d7c5502f6bb7')\"\n",
              "              title=\"Convert this dataframe to an interactive table.\"\n",
              "              style=\"display:none;\">\n",
              "        \n",
              "  <svg xmlns=\"http://www.w3.org/2000/svg\" height=\"24px\"viewBox=\"0 0 24 24\"\n",
              "       width=\"24px\">\n",
              "    <path d=\"M0 0h24v24H0V0z\" fill=\"none\"/>\n",
              "    <path d=\"M18.56 5.44l.94 2.06.94-2.06 2.06-.94-2.06-.94-.94-2.06-.94 2.06-2.06.94zm-11 1L8.5 8.5l.94-2.06 2.06-.94-2.06-.94L8.5 2.5l-.94 2.06-2.06.94zm10 10l.94 2.06.94-2.06 2.06-.94-2.06-.94-.94-2.06-.94 2.06-2.06.94z\"/><path d=\"M17.41 7.96l-1.37-1.37c-.4-.4-.92-.59-1.43-.59-.52 0-1.04.2-1.43.59L10.3 9.45l-7.72 7.72c-.78.78-.78 2.05 0 2.83L4 21.41c.39.39.9.59 1.41.59.51 0 1.02-.2 1.41-.59l7.78-7.78 2.81-2.81c.8-.78.8-2.07 0-2.86zM5.41 20L4 18.59l7.72-7.72 1.47 1.35L5.41 20z\"/>\n",
              "  </svg>\n",
              "      </button>\n",
              "      \n",
              "  <style>\n",
              "    .colab-df-container {\n",
              "      display:flex;\n",
              "      flex-wrap:wrap;\n",
              "      gap: 12px;\n",
              "    }\n",
              "\n",
              "    .colab-df-convert {\n",
              "      background-color: #E8F0FE;\n",
              "      border: none;\n",
              "      border-radius: 50%;\n",
              "      cursor: pointer;\n",
              "      display: none;\n",
              "      fill: #1967D2;\n",
              "      height: 32px;\n",
              "      padding: 0 0 0 0;\n",
              "      width: 32px;\n",
              "    }\n",
              "\n",
              "    .colab-df-convert:hover {\n",
              "      background-color: #E2EBFA;\n",
              "      box-shadow: 0px 1px 2px rgba(60, 64, 67, 0.3), 0px 1px 3px 1px rgba(60, 64, 67, 0.15);\n",
              "      fill: #174EA6;\n",
              "    }\n",
              "\n",
              "    [theme=dark] .colab-df-convert {\n",
              "      background-color: #3B4455;\n",
              "      fill: #D2E3FC;\n",
              "    }\n",
              "\n",
              "    [theme=dark] .colab-df-convert:hover {\n",
              "      background-color: #434B5C;\n",
              "      box-shadow: 0px 1px 3px 1px rgba(0, 0, 0, 0.15);\n",
              "      filter: drop-shadow(0px 1px 2px rgba(0, 0, 0, 0.3));\n",
              "      fill: #FFFFFF;\n",
              "    }\n",
              "  </style>\n",
              "\n",
              "      <script>\n",
              "        const buttonEl =\n",
              "          document.querySelector('#df-1a5873ca-770e-4b8c-ae46-d7c5502f6bb7 button.colab-df-convert');\n",
              "        buttonEl.style.display =\n",
              "          google.colab.kernel.accessAllowed ? 'block' : 'none';\n",
              "\n",
              "        async function convertToInteractive(key) {\n",
              "          const element = document.querySelector('#df-1a5873ca-770e-4b8c-ae46-d7c5502f6bb7');\n",
              "          const dataTable =\n",
              "            await google.colab.kernel.invokeFunction('convertToInteractive',\n",
              "                                                     [key], {});\n",
              "          if (!dataTable) return;\n",
              "\n",
              "          const docLinkHtml = 'Like what you see? Visit the ' +\n",
              "            '<a target=\"_blank\" href=https://colab.research.google.com/notebooks/data_table.ipynb>data table notebook</a>'\n",
              "            + ' to learn more about interactive tables.';\n",
              "          element.innerHTML = '';\n",
              "          dataTable['output_type'] = 'display_data';\n",
              "          await google.colab.output.renderOutput(dataTable, element);\n",
              "          const docLink = document.createElement('div');\n",
              "          docLink.innerHTML = docLinkHtml;\n",
              "          element.appendChild(docLink);\n",
              "        }\n",
              "      </script>\n",
              "    </div>\n",
              "  </div>\n",
              "  "
            ]
          },
          "metadata": {},
          "execution_count": 161
        }
      ],
      "source": [
        "# viewing the top five row of the file \n",
        "hotel_booking_df.head()"
      ]
    },
    {
      "cell_type": "code",
      "execution_count": 162,
      "metadata": {
        "id": "eo_UrdqgK6tC",
        "colab": {
          "base_uri": "https://localhost:8080/"
        },
        "outputId": "d2dd4d43-15f0-4d6b-8d6b-7c581c8736ed"
      },
      "outputs": [
        {
          "output_type": "execute_result",
          "data": {
            "text/plain": [
              "(119390, 32)"
            ]
          },
          "metadata": {},
          "execution_count": 162
        }
      ],
      "source": [
        "# finding the shape of the dataframe\n",
        "hotel_booking_df.shape"
      ]
    },
    {
      "cell_type": "code",
      "execution_count": 163,
      "metadata": {
        "id": "PlNdpU5BNLn5",
        "colab": {
          "base_uri": "https://localhost:8080/"
        },
        "outputId": "4a00213f-af87-4af2-86b4-4bf8801ea2ec"
      },
      "outputs": [
        {
          "output_type": "stream",
          "name": "stdout",
          "text": [
            "<class 'pandas.core.frame.DataFrame'>\n",
            "RangeIndex: 119390 entries, 0 to 119389\n",
            "Data columns (total 32 columns):\n",
            " #   Column                          Non-Null Count   Dtype  \n",
            "---  ------                          --------------   -----  \n",
            " 0   hotel                           119390 non-null  object \n",
            " 1   is_canceled                     119390 non-null  int64  \n",
            " 2   lead_time                       119390 non-null  int64  \n",
            " 3   arrival_date_year               119390 non-null  int64  \n",
            " 4   arrival_date_month              119390 non-null  object \n",
            " 5   arrival_date_week_number        119390 non-null  int64  \n",
            " 6   arrival_date_day_of_month       119390 non-null  int64  \n",
            " 7   stays_in_weekend_nights         119390 non-null  int64  \n",
            " 8   stays_in_week_nights            119390 non-null  int64  \n",
            " 9   adults                          119390 non-null  int64  \n",
            " 10  children                        119386 non-null  float64\n",
            " 11  babies                          119390 non-null  int64  \n",
            " 12  meal                            119390 non-null  object \n",
            " 13  country                         118902 non-null  object \n",
            " 14  market_segment                  119390 non-null  object \n",
            " 15  distribution_channel            119390 non-null  object \n",
            " 16  is_repeated_guest               119390 non-null  int64  \n",
            " 17  previous_cancellations          119390 non-null  int64  \n",
            " 18  previous_bookings_not_canceled  119390 non-null  int64  \n",
            " 19  reserved_room_type              119390 non-null  object \n",
            " 20  assigned_room_type              119390 non-null  object \n",
            " 21  booking_changes                 119390 non-null  int64  \n",
            " 22  deposit_type                    119390 non-null  object \n",
            " 23  agent                           103050 non-null  float64\n",
            " 24  company                         6797 non-null    float64\n",
            " 25  days_in_waiting_list            119390 non-null  int64  \n",
            " 26  customer_type                   119390 non-null  object \n",
            " 27  adr                             119390 non-null  float64\n",
            " 28  required_car_parking_spaces     119390 non-null  int64  \n",
            " 29  total_of_special_requests       119390 non-null  int64  \n",
            " 30  reservation_status              119390 non-null  object \n",
            " 31  reservation_status_date         119390 non-null  object \n",
            "dtypes: float64(4), int64(16), object(12)\n",
            "memory usage: 29.1+ MB\n"
          ]
        }
      ],
      "source": [
        "# total information of dataframe\n",
        "hotel_booking_df.info()"
      ]
    },
    {
      "cell_type": "markdown",
      "source": [
        "**Data preprocessing means data cleaning data trasformation and data reduction which will enhance the performance and understanding of a dataframe**"
      ],
      "metadata": {
        "id": "hhFHMd_Y6CqZ"
      }
    },
    {
      "cell_type": "markdown",
      "metadata": {
        "id": "s9eG2s6ImdFC"
      },
      "source": [
        "**Making a copy of a original dataframe so that we work on the copy dataframe and the original data frame doesnot get affected**"
      ]
    },
    {
      "cell_type": "code",
      "execution_count": 164,
      "metadata": {
        "id": "mIhhmrTSjhVt"
      },
      "outputs": [],
      "source": [
        "# making a copy of original dataframe \n",
        "hotel_booking_new= hotel_booking_df.copy()"
      ]
    },
    {
      "cell_type": "markdown",
      "metadata": {
        "id": "7dXPXNBogIub"
      },
      "source": [
        "**Data cleaning for better understanding of DataFrame**"
      ]
    },
    {
      "cell_type": "code",
      "execution_count": 165,
      "metadata": {
        "id": "B9LtvFzgNzDL",
        "colab": {
          "base_uri": "https://localhost:8080/"
        },
        "outputId": "8ad93584-3369-4026-a80e-390b451484c4"
      },
      "outputs": [
        {
          "output_type": "execute_result",
          "data": {
            "text/plain": [
              "hotel                                  0\n",
              "is_canceled                            0\n",
              "lead_time                              0\n",
              "arrival_date_year                      0\n",
              "arrival_date_month                     0\n",
              "arrival_date_week_number               0\n",
              "arrival_date_day_of_month              0\n",
              "stays_in_weekend_nights                0\n",
              "stays_in_week_nights                   0\n",
              "adults                                 0\n",
              "children                               4\n",
              "babies                                 0\n",
              "meal                                   0\n",
              "country                              488\n",
              "market_segment                         0\n",
              "distribution_channel                   0\n",
              "is_repeated_guest                      0\n",
              "previous_cancellations                 0\n",
              "previous_bookings_not_canceled         0\n",
              "reserved_room_type                     0\n",
              "assigned_room_type                     0\n",
              "booking_changes                        0\n",
              "deposit_type                           0\n",
              "agent                              16340\n",
              "company                           112593\n",
              "days_in_waiting_list                   0\n",
              "customer_type                          0\n",
              "adr                                    0\n",
              "required_car_parking_spaces            0\n",
              "total_of_special_requests              0\n",
              "reservation_status                     0\n",
              "reservation_status_date                0\n",
              "dtype: int64"
            ]
          },
          "metadata": {},
          "execution_count": 165
        }
      ],
      "source": [
        "# finding the null values\n",
        "hotel_booking_new.isnull().sum()"
      ]
    },
    {
      "cell_type": "code",
      "execution_count": 166,
      "metadata": {
        "id": "5wZV5apOCQ8Y"
      },
      "outputs": [],
      "source": [
        "'''we can see that children has only four null values so we are replacing the null values with 0'''\n",
        "# replacing NaN value for children column\n",
        "hotel_booking_new['children']=hotel_booking_new['children'].fillna(0)"
      ]
    },
    {
      "cell_type": "code",
      "execution_count": 167,
      "metadata": {
        "id": "v0fix71j-Dk-",
        "colab": {
          "base_uri": "https://localhost:8080/"
        },
        "outputId": "097af2f9-4366-4082-d92e-bd2c4156ddde"
      },
      "outputs": [
        {
          "output_type": "execute_result",
          "data": {
            "text/plain": [
              "hotel                                  0\n",
              "is_canceled                            0\n",
              "lead_time                              0\n",
              "arrival_date_year                      0\n",
              "arrival_date_month                     0\n",
              "arrival_date_week_number               0\n",
              "arrival_date_day_of_month              0\n",
              "stays_in_weekend_nights                0\n",
              "stays_in_week_nights                   0\n",
              "adults                                 0\n",
              "children                               0\n",
              "babies                                 0\n",
              "meal                                   0\n",
              "country                              488\n",
              "market_segment                         0\n",
              "distribution_channel                   0\n",
              "is_repeated_guest                      0\n",
              "previous_cancellations                 0\n",
              "previous_bookings_not_canceled         0\n",
              "reserved_room_type                     0\n",
              "assigned_room_type                     0\n",
              "booking_changes                        0\n",
              "deposit_type                           0\n",
              "agent                              16340\n",
              "company                           112593\n",
              "days_in_waiting_list                   0\n",
              "customer_type                          0\n",
              "adr                                    0\n",
              "required_car_parking_spaces            0\n",
              "total_of_special_requests              0\n",
              "reservation_status                     0\n",
              "reservation_status_date                0\n",
              "dtype: int64"
            ]
          },
          "metadata": {},
          "execution_count": 167
        }
      ],
      "source": [
        "'''after replacing children null values with 0 again checking how many columns has null value to fix them'''\n",
        "# finding the total NaN values\n",
        "hotel_booking_new.isnull().sum()"
      ]
    },
    {
      "cell_type": "code",
      "execution_count": 168,
      "metadata": {
        "id": "4TgjoVITeEgF"
      },
      "outputs": [],
      "source": [
        "'''we are adding two columns children and babies to get their total numbers in one column name as kids'''\n",
        "#  adding children and babies in one column\n",
        "hotel_booking_new['Kids']=(hotel_booking_new['children']+hotel_booking_new['babies']).astype(int)"
      ]
    },
    {
      "cell_type": "code",
      "execution_count": 169,
      "metadata": {
        "id": "0ZSU0x0ggaGB"
      },
      "outputs": [],
      "source": [
        "'''we can see that agents and comapnies has many null values so it is better to drop the columns'''\n",
        "''' we will also drop the column babies and children as we have added and made a new column as kids'''\n",
        "# droping the columns \n",
        "hotel_booking_new.drop(['babies','children','company','agent'],axis=1,inplace=True)"
      ]
    },
    {
      "cell_type": "code",
      "execution_count": 170,
      "metadata": {
        "id": "Zxwug-Kx9vnG"
      },
      "outputs": [],
      "source": [
        "''' we can see country column has some null value so its better to droping the rows in which there are NaN values '''\n",
        "# droping the columns\n",
        "country_Nan=hotel_booking_new[hotel_booking_new['country'].isna()]\n",
        "hotel_booking_new.drop(country_Nan.index,inplace=True)"
      ]
    },
    {
      "cell_type": "code",
      "execution_count": 171,
      "metadata": {
        "id": "ckO-lNRrA6-o",
        "colab": {
          "base_uri": "https://localhost:8080/"
        },
        "outputId": "7366669d-e8a9-4ddb-fd77-206efbaee5d3"
      },
      "outputs": [
        {
          "output_type": "execute_result",
          "data": {
            "text/plain": [
              "hotel                             0\n",
              "is_canceled                       0\n",
              "lead_time                         0\n",
              "arrival_date_year                 0\n",
              "arrival_date_month                0\n",
              "arrival_date_week_number          0\n",
              "arrival_date_day_of_month         0\n",
              "stays_in_weekend_nights           0\n",
              "stays_in_week_nights              0\n",
              "adults                            0\n",
              "meal                              0\n",
              "country                           0\n",
              "market_segment                    0\n",
              "distribution_channel              0\n",
              "is_repeated_guest                 0\n",
              "previous_cancellations            0\n",
              "previous_bookings_not_canceled    0\n",
              "reserved_room_type                0\n",
              "assigned_room_type                0\n",
              "booking_changes                   0\n",
              "deposit_type                      0\n",
              "days_in_waiting_list              0\n",
              "customer_type                     0\n",
              "adr                               0\n",
              "required_car_parking_spaces       0\n",
              "total_of_special_requests         0\n",
              "reservation_status                0\n",
              "reservation_status_date           0\n",
              "Kids                              0\n",
              "dtype: int64"
            ]
          },
          "metadata": {},
          "execution_count": 171
        }
      ],
      "source": [
        "'''checking the information of the dataframe after cleaning if there are any null values are left or not and also the types of the columns'''\n",
        "# information for dataframe\n",
        "hotel_booking_new.isnull().sum()"
      ]
    },
    {
      "cell_type": "markdown",
      "metadata": {
        "id": "1w6R1Hq_Xknt"
      },
      "source": [
        "**Dropping of rows in which no guests have arrived in the hotels**"
      ]
    },
    {
      "cell_type": "code",
      "execution_count": 172,
      "metadata": {
        "id": "rVeXwSXHWNiq"
      },
      "outputs": [],
      "source": [
        "'''finding the hotels in which no guest have arrived'''\n",
        "no_guests=hotel_booking_new[(hotel_booking_new['adults']+hotel_booking_new['Kids'])==0]"
      ]
    },
    {
      "cell_type": "code",
      "execution_count": 173,
      "metadata": {
        "id": "xISd5zUzYSYr"
      },
      "outputs": [],
      "source": [
        "# dropping row with zero quests\n",
        "hotel_booking_new= hotel_booking_new.drop(no_guests.index)"
      ]
    },
    {
      "cell_type": "code",
      "execution_count": 174,
      "metadata": {
        "id": "htMY3BaRZycM",
        "colab": {
          "base_uri": "https://localhost:8080/"
        },
        "outputId": "f0df7098-22d0-4185-ef74-6725d616c3c9"
      },
      "outputs": [
        {
          "output_type": "execute_result",
          "data": {
            "text/plain": [
              "(118732, 29)"
            ]
          },
          "metadata": {},
          "execution_count": 174
        }
      ],
      "source": [
        "# new shape of the dataframe\n",
        "hotel_booking_new.shape"
      ]
    },
    {
      "cell_type": "code",
      "source": [
        "hotel_booking_new['is_canceled'].replace({0:'No',1:'Yes'},inplace= True)\n",
        "hotel_booking_new['is_canceled'].unique()"
      ],
      "metadata": {
        "colab": {
          "base_uri": "https://localhost:8080/"
        },
        "id": "VimsAiohj9O2",
        "outputId": "1eac80c8-970b-4f47-bbec-baf0a0eec0e3"
      },
      "execution_count": 175,
      "outputs": [
        {
          "output_type": "execute_result",
          "data": {
            "text/plain": [
              "array(['No', 'Yes'], dtype=object)"
            ]
          },
          "metadata": {},
          "execution_count": 175
        }
      ]
    },
    {
      "cell_type": "markdown",
      "source": [
        "# ***Analysing and visulisation of the data with number of questions***"
      ],
      "metadata": {
        "id": "dcMM_eL99Ze4"
      }
    },
    {
      "cell_type": "markdown",
      "metadata": {
        "id": "PlZGtyCKJwT_"
      },
      "source": [
        "# ***Q1. What is the booking percentage between Resort Hotel and City Hotel?***"
      ]
    },
    {
      "cell_type": "code",
      "execution_count": 176,
      "metadata": {
        "id": "2_3Cd-vaNpse",
        "colab": {
          "base_uri": "https://localhost:8080/"
        },
        "outputId": "97bb3a87-84b7-45e2-9fb3-3ecc4d494ffd"
      },
      "outputs": [
        {
          "output_type": "stream",
          "name": "stdout",
          "text": [
            "City Hotel      79147\n",
            "Resort Hotel    39585\n",
            "Name: hotel, dtype: int64\n",
            "\n",
            "total number of hotels is 118732\n"
          ]
        }
      ],
      "source": [
        "# finding the number of hotels and its types\n",
        "num_of_hotel=hotel_booking_new['hotel'].value_counts()\n",
        "print(num_of_hotel)\n",
        "print()\n",
        "total_hotels=num_of_hotel.sum()\n",
        "print(f'total number of hotels is {total_hotels}')"
      ]
    },
    {
      "cell_type": "markdown",
      "source": [
        "***we can see that total number of hotels booked are 118732 in which number of city hotel are 79147 and resort hotel are 39585***"
      ],
      "metadata": {
        "id": "7o11kElGBAMf"
      }
    },
    {
      "cell_type": "markdown",
      "source": [
        "**Plotting a pie chart for booking percentage of type of hotels**"
      ],
      "metadata": {
        "id": "69TpODYPC0Da"
      }
    },
    {
      "cell_type": "code",
      "source": [
        "# plotting pie chart\n",
        "plt.rcParams['figure.figsize']=(15,10)\n",
        "num_of_hotel.plot.pie(fontsize=15,autopct='%1.2f%%',figsize=(8,5),colors=['r','g'],ylabel='',explode=[0.05,0],shadow=True)\n",
        "plt.title('Booking Percentage of Hotels',fontsize=15)\n",
        "plt.show()"
      ],
      "metadata": {
        "colab": {
          "base_uri": "https://localhost:8080/",
          "height": 321
        },
        "id": "ZMDiCjU4-lyw",
        "outputId": "f882d81e-6e1d-4c0e-e933-475f4dafb985"
      },
      "execution_count": 177,
      "outputs": [
        {
          "output_type": "display_data",
          "data": {
            "text/plain": [
              "<Figure size 576x360 with 1 Axes>"
            ],
            "image/png": "[encoded data removed]"
          },
          "metadata": {}
        }
      ]
    },
    {
      "cell_type": "markdown",
      "source": [
        "***We can see 2/3 guests prefer city hotels over resorts***"
      ],
      "metadata": {
        "id": "dKR19sTGDlEg"
      }
    },
    {
      "cell_type": "markdown",
      "metadata": {
        "id": "kOevHKyDFjQ0"
      },
      "source": [
        "# ***Q2. Finding the Yearly bookings for each year given in the dataframe***"
      ]
    },
    {
      "cell_type": "code",
      "execution_count": 178,
      "metadata": {
        "id": "g3mCZIQOH1xy",
        "colab": {
          "base_uri": "https://localhost:8080/"
        },
        "outputId": "8bf167d3-74f2-4786-d210-f5fc6880a6f0"
      },
      "outputs": [
        {
          "output_type": "execute_result",
          "data": {
            "text/plain": [
              "2016    56357\n",
              "2017    40541\n",
              "2015    21834\n",
              "Name: arrival_date_year, dtype: int64"
            ]
          },
          "metadata": {},
          "execution_count": 178
        }
      ],
      "source": [
        "# Total count of arrival date year\n",
        "hotel_booking_new['arrival_date_year'].value_counts() "
      ]
    },
    {
      "cell_type": "markdown",
      "source": [
        "***Total guests arrived in hotels are 2015 is 21834, 2016 is 56357 and in 2017 is 40541.***"
      ],
      "metadata": {
        "id": "07rTM7PvE7Cg"
      }
    },
    {
      "cell_type": "code",
      "source": [
        "# finding the total number of bookings in each years for city and resort hotels\n",
        "tot_num_book= hotel_booking_new.groupby(['hotel'])['arrival_date_year'].value_counts()\n",
        "tot_num_book"
      ],
      "metadata": {
        "colab": {
          "base_uri": "https://localhost:8080/"
        },
        "id": "V0NPOSZb40Vp",
        "outputId": "68832b7d-d6c3-4b56-8f9c-d3f9deac27e9"
      },
      "execution_count": 179,
      "outputs": [
        {
          "output_type": "execute_result",
          "data": {
            "text/plain": [
              "hotel         arrival_date_year\n",
              "City Hotel    2016                 38058\n",
              "              2017                 27446\n",
              "              2015                 13643\n",
              "Resort Hotel  2016                 18299\n",
              "              2017                 13095\n",
              "              2015                  8191\n",
              "Name: arrival_date_year, dtype: int64"
            ]
          },
          "metadata": {},
          "execution_count": 179
        }
      ]
    },
    {
      "cell_type": "markdown",
      "source": [
        "***Total number of booking in City hotel in year 2015 is 13643, 2016 is 38058 and 2017  is 27446.\n",
        "Total number of booking in Resort hotel in year 2015 is 8191, 2016 is 18299 and 2017 is 13095***"
      ],
      "metadata": {
        "id": "yYkxTKc5R9D2"
      }
    },
    {
      "cell_type": "code",
      "execution_count": 180,
      "metadata": {
        "id": "14pouVeYIRND",
        "colab": {
          "base_uri": "https://localhost:8080/",
          "height": 328
        },
        "outputId": "806993f3-955b-4f64-babe-ad1f60ae397f"
      },
      "outputs": [
        {
          "output_type": "execute_result",
          "data": {
            "text/plain": [
              "Text(0.5, 1.0, 'Yearly bookings')"
            ]
          },
          "metadata": {},
          "execution_count": 180
        },
        {
          "output_type": "display_data",
          "data": {
            "text/plain": [
              "<Figure size 720x288 with 1 Axes>"
            ],
            "image/png": "[encoded data removed]"
          },
          "metadata": {
            "needs_background": "light"
          }
        }
      ],
      "source": [
        "# ploting a bargraph for yearly bookings of city and resort hotels\n",
        "plt.rcParams['figure.figsize']=(10,4)\n",
        "sns.countplot(x='arrival_date_year',data=hotel_booking_new,hue='hotel').set_title('Yearly bookings')\n"
      ]
    },
    {
      "cell_type": "markdown",
      "source": [
        "***It could be seen from the visual aid that the trend from 2015 to 2016 is increasing.\n",
        "While the average rate of inflation in the number of guests opting for resorts increased by 63%, the number of guests in city hotels esclated to 266% of the previous year.\n",
        "2017, on the other hand showed a downward tajectory in the daily footfall in both kinds of hotel, showing are decline of 29% on an average.***\n"
      ],
      "metadata": {
        "id": "faPmG6sim4BL"
      }
    },
    {
      "cell_type": "markdown",
      "source": [
        "#***Q3. Bookings that were not canceled.***"
      ],
      "metadata": {
        "id": "scqY1LItZ8Zl"
      }
    },
    {
      "cell_type": "code",
      "source": [
        "# yearly bookings of hotels which were not cancelled\n",
        "not_canceled=hotel_booking_new[hotel_booking_new['is_canceled']=='No']\n",
        "r=hotel_booking_new[hotel_booking_new['is_canceled']=='No']"
      ],
      "metadata": {
        "id": "7RivN9b3g-IU"
      },
      "execution_count": 181,
      "outputs": []
    },
    {
      "cell_type": "code",
      "source": [
        "# number of arrivals for city hotels and resort hotels in 2015,2016 and 2017\n",
        "r.groupby(['arrival_date_year'])['hotel'].value_counts()"
      ],
      "metadata": {
        "colab": {
          "base_uri": "https://localhost:8080/"
        },
        "id": "sbWR9dahsUHf",
        "outputId": "6bcd1b16-a7e5-4fd3-dcc4-983713e90981"
      },
      "execution_count": 182,
      "outputs": [
        {
          "output_type": "execute_result",
          "data": {
            "text/plain": [
              "arrival_date_year  hotel       \n",
              "2015               City Hotel       7654\n",
              "                   Resort Hotel     6071\n",
              "2016               City Hotel      22662\n",
              "                   Resort Hotel    13389\n",
              "2017               City Hotel      15766\n",
              "                   Resort Hotel     9048\n",
              "Name: hotel, dtype: int64"
            ]
          },
          "metadata": {},
          "execution_count": 182
        }
      ]
    },
    {
      "cell_type": "code",
      "execution_count": 183,
      "metadata": {
        "id": "UR5BpzF4rY09",
        "colab": {
          "base_uri": "https://localhost:8080/",
          "height": 365
        },
        "outputId": "a3b63d2b-1bfc-4d15-c446-24c03ea27519"
      },
      "outputs": [
        {
          "output_type": "display_data",
          "data": {
            "text/plain": [
              "<Figure size 720x360 with 1 Axes>"
            ],
            "image/png": "[encoded data removed]"
          },
          "metadata": {
            "needs_background": "light"
          }
        }
      ],
      "source": [
        "# graphical representation for  yearly non canceletion hotels\n",
        "plt.rcParams['figure.figsize']=(10,5)\n",
        "sns.countplot(x='arrival_date_year',data=not_canceled,hue='hotel').set_title('Yearly Non Cancelation Hotels')\n",
        "plt.show()"
      ]
    },
    {
      "cell_type": "markdown",
      "source": [
        "***In 2015, The city hotels' section saw an average non cancellation rate of 0.56, while resorts had the rate around resort 0.76 \n",
        "The same for 2016 would be 0.61 and 0.72 for city hotels' and resorts' respectively.\n",
        "As for 2017, the non cancellation rates were 0.57 and 0.70 for city hotels' and resorts' respectively.\n",
        "It has been observed that guests are more likely to not cancel on bookings with a resort.***"
      ],
      "metadata": {
        "id": "J3uC0F4yj_2c"
      }
    },
    {
      "cell_type": "markdown",
      "metadata": {
        "id": "INimkQ_idfnT"
      },
      "source": [
        "#***Q4. Monthly footfall in different types of hotels?***"
      ]
    },
    {
      "cell_type": "code",
      "execution_count": 184,
      "metadata": {
        "id": "KtEp3t-j-_Pq",
        "colab": {
          "base_uri": "https://localhost:8080/"
        },
        "outputId": "bd4b6eb5-3c53-4edc-e932-f7f9431d7956"
      },
      "outputs": [
        {
          "output_type": "execute_result",
          "data": {
            "text/plain": [
              "hotel         arrival_date_month\n",
              "City Hotel    August                8967\n",
              "              May                   8221\n",
              "              July                  8071\n",
              "              June                  7885\n",
              "              October               7580\n",
              "              April                 7469\n",
              "              September             7392\n",
              "              March                 6434\n",
              "              February              4950\n",
              "              November              4334\n",
              "              December              4114\n",
              "              January               3730\n",
              "Resort Hotel  August                4873\n",
              "              July                  4540\n",
              "              April                 3569\n",
              "              May                   3547\n",
              "              October               3502\n",
              "              March                 3279\n",
              "              September             3067\n",
              "              February              3047\n",
              "              June                  3032\n",
              "              December              2596\n",
              "              November              2397\n",
              "              January               2136\n",
              "Name: arrival_date_month, dtype: int64"
            ]
          },
          "metadata": {},
          "execution_count": 184
        }
      ],
      "source": [
        "# groupby hotel with arrival date month and count number of quests comming per month\n",
        "hotel_booking_new.groupby(['hotel'])['arrival_date_month'].value_counts()"
      ]
    },
    {
      "cell_type": "code",
      "execution_count": 185,
      "metadata": {
        "id": "7mh7q-LBAczu",
        "colab": {
          "base_uri": "https://localhost:8080/",
          "height": 436
        },
        "outputId": "ecd6e120-8dd4-49f5-b4d2-bb13e708ee57"
      },
      "outputs": [
        {
          "output_type": "execute_result",
          "data": {
            "text/plain": [
              "Text(0.5, 1.0, 'Busiest month')"
            ]
          },
          "metadata": {},
          "execution_count": 185
        },
        {
          "output_type": "display_data",
          "data": {
            "text/plain": [
              "<Figure size 1296x432 with 1 Axes>"
            ],
            "image/png": "[encoded data removed]"
          },
          "metadata": {
            "needs_background": "light"
          }
        }
      ],
      "source": [
        "# ploting bar graph \n",
        "plt.figure(figsize=(18,6))\n",
        "sns.countplot(x='arrival_date_month', hue='hotel', data= hotel_booking_new).set_title('Busiest month')"
      ]
    },
    {
      "cell_type": "markdown",
      "source": [
        "**The trajectory of the graph is in the shape of a BELL CURVE. This suggest that the middle of the year are some of the busiest time, peaking at August, over the period of 3 years.**"
      ],
      "metadata": {
        "id": "D5Q_dMUJpiUK"
      }
    },
    {
      "cell_type": "markdown",
      "metadata": {
        "id": "tNHqBXCWdiw6"
      },
      "source": [
        "# ***Q5. Nationality of the guests.***\n"
      ]
    },
    {
      "cell_type": "code",
      "execution_count": 186,
      "metadata": {
        "id": "WyOPfTU2_rem",
        "colab": {
          "base_uri": "https://localhost:8080/"
        },
        "outputId": "aee41dc8-7aab-4d57-9bfa-9cfbe24aa263"
      },
      "outputs": [
        {
          "output_type": "execute_result",
          "data": {
            "text/plain": [
              "['PRT', 'GBR', 'FRA', 'ESP', 'DEU', 'ITA', 'IRL', 'BEL', 'BRA', 'NLD']"
            ]
          },
          "metadata": {},
          "execution_count": 186
        }
      ],
      "source": [
        "# getting top 10 countries with most bookings\n",
        "top10=hotel_booking_new['country'].value_counts().head(10).index.tolist()\n",
        "top10"
      ]
    },
    {
      "cell_type": "code",
      "execution_count": 187,
      "metadata": {
        "id": "UZd-flTw8Hc5"
      },
      "outputs": [],
      "source": [
        "top_10=hotel_booking_new[hotel_booking_new['country'].isin(top10)]"
      ]
    },
    {
      "cell_type": "code",
      "execution_count": 188,
      "metadata": {
        "id": "iYJsV_PO5Jwd",
        "colab": {
          "base_uri": "https://localhost:8080/",
          "height": 542
        },
        "outputId": "7fbcb58b-648e-48aa-f8ee-dd41b31f9c80"
      },
      "outputs": [
        {
          "output_type": "execute_result",
          "data": {
            "text/plain": [
              "Text(0.5, 1.0, ' Top countries with maximum hotel bookings')"
            ]
          },
          "metadata": {},
          "execution_count": 188
        },
        {
          "output_type": "display_data",
          "data": {
            "text/plain": [
              "<Figure size 1080x576 with 1 Axes>"
            ],
            "image/png": "[encoded data removed]"
          },
          "metadata": {
            "needs_background": "light"
          }
        }
      ],
      "source": [
        "# ploting countplot \n",
        "plt.rcParams['figure.figsize']=(15,8)\n",
        "plt.xlabel('country',fontsize=15)\n",
        "plt.ylabel('counts',fontsize=15)\n",
        "sns.countplot(x='country',hue='hotel',data=top_10).set_title(' Top countries with maximum hotel bookings',fontsize=15)"
      ]
    },
    {
      "cell_type": "markdown",
      "source": [
        "***The visual aid suggests that Portuguese are the most popular guests at both the type of hotels. Other prominent nationalities are British, Espanol, Irish, French, etc., in the same order. Aside from visitors from The Great Britain and Ireland, guests mostly prefer to stay at city hotels.***"
      ],
      "metadata": {
        "id": "JyeolyCeeRd6"
      }
    },
    {
      "cell_type": "markdown",
      "source": [
        "# ***Q6. ADR V/s Arrival Month.***"
      ],
      "metadata": {
        "id": "_4RcGDpPuOGY"
      }
    },
    {
      "cell_type": "code",
      "execution_count": 189,
      "metadata": {
        "id": "TzbOo0HVOfw7",
        "colab": {
          "base_uri": "https://localhost:8080/",
          "height": 430
        },
        "outputId": "4baf077e-85dc-40ec-c0d9-c781258187e4"
      },
      "outputs": [
        {
          "output_type": "execute_result",
          "data": {
            "text/plain": [
              "Text(0, 0.5, 'average daily rate')"
            ]
          },
          "metadata": {},
          "execution_count": 189
        },
        {
          "output_type": "display_data",
          "data": {
            "text/plain": [
              "<Figure size 720x360 with 1 Axes>"
            ],
            "image/png": "[encoded data removed]"
          },
          "metadata": {
            "needs_background": "light"
          }
        }
      ],
      "source": [
        "# ploting line plot\n",
        "plt.rcParams['figure.figsize']= (10,5)\n",
        "sns.lineplot(x='arrival_date_month',y='adr',hue='hotel',data=hotel_booking_new,marker='D',markersize=10)\n",
        "plt.xticks(rotation='90')\n",
        "plt.ylabel('average daily rate')"
      ]
    },
    {
      "cell_type": "markdown",
      "source": [
        "***It has been observed that the average cost of staying for a guest in city hotels remains somewhat constant, fluctuating within a range of 100 to 120.\n",
        "Whereas in the case of Resorts, there is a spiked in the month of August. The global minima for the same is observed from January to March and then from October to November. The local maxima at December suggests an influx of guests for the occassion of The New Year.***"
      ],
      "metadata": {
        "id": "hBvkiF9phRbg"
      }
    },
    {
      "cell_type": "markdown",
      "source": [
        "# ***Q.7 ADR VS Arrival Date.***"
      ],
      "metadata": {
        "id": "AVDaFyHibJd2"
      }
    },
    {
      "cell_type": "code",
      "execution_count": 190,
      "metadata": {
        "id": "kgh3h1ddNv9V",
        "colab": {
          "base_uri": "https://localhost:8080/",
          "height": 345
        },
        "outputId": "3fef945f-4041-4ee2-e188-70afd738eef2"
      },
      "outputs": [
        {
          "output_type": "display_data",
          "data": {
            "text/plain": [
              "<Figure size 720x360 with 1 Axes>"
            ],
            "image/png": "[encoded data removed]"
          },
          "metadata": {
            "needs_background": "light"
          }
        }
      ],
      "source": [
        "# ploting line plot\n",
        "sns.lineplot(x='arrival_date_day_of_month',y='adr',hue='hotel',data=hotel_booking_new)\n",
        "plt.legend(loc=\"lower right\")\n",
        "plt.ylabel(\"average daily rate\")\n",
        "plt.grid()"
      ]
    },
    {
      "cell_type": "markdown",
      "source": [
        "***On a cursory glance, we can observe that City hotels have higher ADR compare to Resorts.\n",
        "We can see that the end of month is the busiest time thusly leading to higher ADR in both the type of hotels.\n",
        "It would be justified from the graph that begining of the month (starting from day 2 to day 9) are the quitest time leading to lower ADR.***"
      ],
      "metadata": {
        "id": "Ru4rindzj1Kf"
      }
    },
    {
      "cell_type": "markdown",
      "metadata": {
        "id": "amtGxDFGdnsM"
      },
      "source": [
        "# Q.8 ***Which was the most booked accommodation type (Single, Couple, Family)?***"
      ]
    },
    {
      "cell_type": "code",
      "source": [
        "# unique values for adults\n",
        "hotel_booking_new['adults'].unique()"
      ],
      "metadata": {
        "id": "uAWhWPoCMlN8",
        "colab": {
          "base_uri": "https://localhost:8080/"
        },
        "outputId": "283f21e5-e8f8-4b0a-bdc8-bd7f29572505"
      },
      "execution_count": 191,
      "outputs": [
        {
          "output_type": "execute_result",
          "data": {
            "text/plain": [
              "array([ 2,  1,  3,  4, 40, 26, 50, 27, 55, 20,  6,  5, 10,  0])"
            ]
          },
          "metadata": {},
          "execution_count": 191
        }
      ]
    },
    {
      "cell_type": "code",
      "source": [
        "# differentiating adults column into three parts\n",
        "booked_1=hotel_booking_new[hotel_booking_new['adults']==1]\n",
        "booked_2=hotel_booking_new[hotel_booking_new['adults']==2]\n",
        "booked_3=hotel_booking_new[hotel_booking_new['adults']>2]"
      ],
      "metadata": {
        "id": "XKRWXE-3WKdV"
      },
      "execution_count": 192,
      "outputs": []
    },
    {
      "cell_type": "code",
      "source": [
        "# adding adults and kids as familiy and making new datafram\n",
        "booked_3.head(2)\n",
        "b3=booked_3.copy()\n",
        "b3['fam']=b3['adults']+b3['Kids']"
      ],
      "metadata": {
        "id": "C57ixQOg31rU"
      },
      "execution_count": 193,
      "outputs": []
    },
    {
      "cell_type": "code",
      "source": [
        "b2=b3[['fam','hotel']]\n",
        "fd=b2.groupby(['hotel'])['fam'].count()\n",
        "fd=fd.rename('family')"
      ],
      "metadata": {
        "id": "CvY8jzc87Y3D"
      },
      "execution_count": 194,
      "outputs": []
    },
    {
      "cell_type": "code",
      "source": [
        "# with single values in adult we are taking them as singles and making new datafram\n",
        "sing1=booked_1[['adults','hotel']]\n",
        "p=sing1.groupby(['hotel'])['adults'].value_counts()\n",
        "p=p.droplevel(level=1)\n",
        "p=p.rename('single')"
      ],
      "metadata": {
        "id": "6aqWc5MtUTFs"
      },
      "execution_count": 195,
      "outputs": []
    },
    {
      "cell_type": "code",
      "source": [
        "# with 2 adult we considering as couple and making new datafram\n",
        "ring=booked_2[['adults','hotel']]\n",
        "ri=ring.groupby(['hotel'])['adults'].value_counts()\n",
        "ri=ri.droplevel(level=1)\n",
        "ri=ri.rename('couple')"
      ],
      "metadata": {
        "id": "Q4zoNLx3Ppiy"
      },
      "execution_count": 196,
      "outputs": []
    },
    {
      "cell_type": "code",
      "source": [
        "# concating three dataframe \n",
        "df=pd.concat([p,ri,fd],axis=1)\n",
        "df"
      ],
      "metadata": {
        "id": "i5vKPbqA6AtD",
        "colab": {
          "base_uri": "https://localhost:8080/",
          "height": 143
        },
        "outputId": "551629f5-f9ab-4b96-fbe6-c8d9e92b8dfc"
      },
      "execution_count": 197,
      "outputs": [
        {
          "output_type": "execute_result",
          "data": {
            "text/plain": [
              "              single  couple  family\n",
              "hotel                               \n",
              "City Hotel     15878   58240    4806\n",
              "Resort Hotel    6857   31258    1470"
            ],
            "text/html": [
              "\n",
              "  <div id=\"df-e976ec02-177e-44aa-99f8-87b336b2c17e\">\n",
              "    <div class=\"colab-df-container\">\n",
              "      <div>\n",
              "<style scoped>\n",
              "    .dataframe tbody tr th:only-of-type {\n",
              "        vertical-align: middle;\n",
              "    }\n",
              "\n",
              "    .dataframe tbody tr th {\n",
              "        vertical-align: top;\n",
              "    }\n",
              "\n",
              "    .dataframe thead th {\n",
              "        text-align: right;\n",
              "    }\n",
              "</style>\n",
              "<table border=\"1\" class=\"dataframe\">\n",
              "  <thead>\n",
              "    <tr style=\"text-align: right;\">\n",
              "      <th></th>\n",
              "      <th>single</th>\n",
              "      <th>couple</th>\n",
              "      <th>family</th>\n",
              "    </tr>\n",
              "    <tr>\n",
              "      <th>hotel</th>\n",
              "      <th></th>\n",
              "      <th></th>\n",
              "      <th></th>\n",
              "    </tr>\n",
              "  </thead>\n",
              "  <tbody>\n",
              "    <tr>\n",
              "      <th>City Hotel</th>\n",
              "      <td>15878</td>\n",
              "      <td>58240</td>\n",
              "      <td>4806</td>\n",
              "    </tr>\n",
              "    <tr>\n",
              "      <th>Resort Hotel</th>\n",
              "      <td>6857</td>\n",
              "      <td>31258</td>\n",
              "      <td>1470</td>\n",
              "    </tr>\n",
              "  </tbody>\n",
              "</table>\n",
              "</div>\n",
              "      <button class=\"colab-df-convert\" onclick=\"convertToInteractive('df-e976ec02-177e-44aa-99f8-87b336b2c17e')\"\n",
              "              title=\"Convert this dataframe to an interactive table.\"\n",
              "              style=\"display:none;\">\n",
              "        \n",
              "  <svg xmlns=\"http://www.w3.org/2000/svg\" height=\"24px\"viewBox=\"0 0 24 24\"\n",
              "       width=\"24px\">\n",
              "    <path d=\"M0 0h24v24H0V0z\" fill=\"none\"/>\n",
              "    <path d=\"M18.56 5.44l.94 2.06.94-2.06 2.06-.94-2.06-.94-.94-2.06-.94 2.06-2.06.94zm-11 1L8.5 8.5l.94-2.06 2.06-.94-2.06-.94L8.5 2.5l-.94 2.06-2.06.94zm10 10l.94 2.06.94-2.06 2.06-.94-2.06-.94-.94-2.06-.94 2.06-2.06.94z\"/><path d=\"M17.41 7.96l-1.37-1.37c-.4-.4-.92-.59-1.43-.59-.52 0-1.04.2-1.43.59L10.3 9.45l-7.72 7.72c-.78.78-.78 2.05 0 2.83L4 21.41c.39.39.9.59 1.41.59.51 0 1.02-.2 1.41-.59l7.78-7.78 2.81-2.81c.8-.78.8-2.07 0-2.86zM5.41 20L4 18.59l7.72-7.72 1.47 1.35L5.41 20z\"/>\n",
              "  </svg>\n",
              "      </button>\n",
              "      \n",
              "  <style>\n",
              "    .colab-df-container {\n",
              "      display:flex;\n",
              "      flex-wrap:wrap;\n",
              "      gap: 12px;\n",
              "    }\n",
              "\n",
              "    .colab-df-convert {\n",
              "      background-color: #E8F0FE;\n",
              "      border: none;\n",
              "      border-radius: 50%;\n",
              "      cursor: pointer;\n",
              "      display: none;\n",
              "      fill: #1967D2;\n",
              "      height: 32px;\n",
              "      padding: 0 0 0 0;\n",
              "      width: 32px;\n",
              "    }\n",
              "\n",
              "    .colab-df-convert:hover {\n",
              "      background-color: #E2EBFA;\n",
              "      box-shadow: 0px 1px 2px rgba(60, 64, 67, 0.3), 0px 1px 3px 1px rgba(60, 64, 67, 0.15);\n",
              "      fill: #174EA6;\n",
              "    }\n",
              "\n",
              "    [theme=dark] .colab-df-convert {\n",
              "      background-color: #3B4455;\n",
              "      fill: #D2E3FC;\n",
              "    }\n",
              "\n",
              "    [theme=dark] .colab-df-convert:hover {\n",
              "      background-color: #434B5C;\n",
              "      box-shadow: 0px 1px 3px 1px rgba(0, 0, 0, 0.15);\n",
              "      filter: drop-shadow(0px 1px 2px rgba(0, 0, 0, 0.3));\n",
              "      fill: #FFFFFF;\n",
              "    }\n",
              "  </style>\n",
              "\n",
              "      <script>\n",
              "        const buttonEl =\n",
              "          document.querySelector('#df-e976ec02-177e-44aa-99f8-87b336b2c17e button.colab-df-convert');\n",
              "        buttonEl.style.display =\n",
              "          google.colab.kernel.accessAllowed ? 'block' : 'none';\n",
              "\n",
              "        async function convertToInteractive(key) {\n",
              "          const element = document.querySelector('#df-e976ec02-177e-44aa-99f8-87b336b2c17e');\n",
              "          const dataTable =\n",
              "            await google.colab.kernel.invokeFunction('convertToInteractive',\n",
              "                                                     [key], {});\n",
              "          if (!dataTable) return;\n",
              "\n",
              "          const docLinkHtml = 'Like what you see? Visit the ' +\n",
              "            '<a target=\"_blank\" href=https://colab.research.google.com/notebooks/data_table.ipynb>data table notebook</a>'\n",
              "            + ' to learn more about interactive tables.';\n",
              "          element.innerHTML = '';\n",
              "          dataTable['output_type'] = 'display_data';\n",
              "          await google.colab.output.renderOutput(dataTable, element);\n",
              "          const docLink = document.createElement('div');\n",
              "          docLink.innerHTML = docLinkHtml;\n",
              "          element.appendChild(docLink);\n",
              "        }\n",
              "      </script>\n",
              "    </div>\n",
              "  </div>\n",
              "  "
            ]
          },
          "metadata": {},
          "execution_count": 197
        }
      ]
    },
    {
      "cell_type": "code",
      "source": [
        "# transposing the dataframe to get rows as column\n",
        "df=df.transpose()\n",
        "df"
      ],
      "metadata": {
        "colab": {
          "base_uri": "https://localhost:8080/",
          "height": 143
        },
        "id": "jXC156-2xok6",
        "outputId": "ce42d9b2-c668-4505-a436-66879bd89eae"
      },
      "execution_count": 198,
      "outputs": [
        {
          "output_type": "execute_result",
          "data": {
            "text/plain": [
              "hotel   City Hotel  Resort Hotel\n",
              "single       15878          6857\n",
              "couple       58240         31258\n",
              "family        4806          1470"
            ],
            "text/html": [
              "\n",
              "  <div id=\"df-be0752dd-a9a7-4801-9972-e931d18dba69\">\n",
              "    <div class=\"colab-df-container\">\n",
              "      <div>\n",
              "<style scoped>\n",
              "    .dataframe tbody tr th:only-of-type {\n",
              "        vertical-align: middle;\n",
              "    }\n",
              "\n",
              "    .dataframe tbody tr th {\n",
              "        vertical-align: top;\n",
              "    }\n",
              "\n",
              "    .dataframe thead th {\n",
              "        text-align: right;\n",
              "    }\n",
              "</style>\n",
              "<table border=\"1\" class=\"dataframe\">\n",
              "  <thead>\n",
              "    <tr style=\"text-align: right;\">\n",
              "      <th>hotel</th>\n",
              "      <th>City Hotel</th>\n",
              "      <th>Resort Hotel</th>\n",
              "    </tr>\n",
              "  </thead>\n",
              "  <tbody>\n",
              "    <tr>\n",
              "      <th>single</th>\n",
              "      <td>15878</td>\n",
              "      <td>6857</td>\n",
              "    </tr>\n",
              "    <tr>\n",
              "      <th>couple</th>\n",
              "      <td>58240</td>\n",
              "      <td>31258</td>\n",
              "    </tr>\n",
              "    <tr>\n",
              "      <th>family</th>\n",
              "      <td>4806</td>\n",
              "      <td>1470</td>\n",
              "    </tr>\n",
              "  </tbody>\n",
              "</table>\n",
              "</div>\n",
              "      <button class=\"colab-df-convert\" onclick=\"convertToInteractive('df-be0752dd-a9a7-4801-9972-e931d18dba69')\"\n",
              "              title=\"Convert this dataframe to an interactive table.\"\n",
              "              style=\"display:none;\">\n",
              "        \n",
              "  <svg xmlns=\"http://www.w3.org/2000/svg\" height=\"24px\"viewBox=\"0 0 24 24\"\n",
              "       width=\"24px\">\n",
              "    <path d=\"M0 0h24v24H0V0z\" fill=\"none\"/>\n",
              "    <path d=\"M18.56 5.44l.94 2.06.94-2.06 2.06-.94-2.06-.94-.94-2.06-.94 2.06-2.06.94zm-11 1L8.5 8.5l.94-2.06 2.06-.94-2.06-.94L8.5 2.5l-.94 2.06-2.06.94zm10 10l.94 2.06.94-2.06 2.06-.94-2.06-.94-.94-2.06-.94 2.06-2.06.94z\"/><path d=\"M17.41 7.96l-1.37-1.37c-.4-.4-.92-.59-1.43-.59-.52 0-1.04.2-1.43.59L10.3 9.45l-7.72 7.72c-.78.78-.78 2.05 0 2.83L4 21.41c.39.39.9.59 1.41.59.51 0 1.02-.2 1.41-.59l7.78-7.78 2.81-2.81c.8-.78.8-2.07 0-2.86zM5.41 20L4 18.59l7.72-7.72 1.47 1.35L5.41 20z\"/>\n",
              "  </svg>\n",
              "      </button>\n",
              "      \n",
              "  <style>\n",
              "    .colab-df-container {\n",
              "      display:flex;\n",
              "      flex-wrap:wrap;\n",
              "      gap: 12px;\n",
              "    }\n",
              "\n",
              "    .colab-df-convert {\n",
              "      background-color: #E8F0FE;\n",
              "      border: none;\n",
              "      border-radius: 50%;\n",
              "      cursor: pointer;\n",
              "      display: none;\n",
              "      fill: #1967D2;\n",
              "      height: 32px;\n",
              "      padding: 0 0 0 0;\n",
              "      width: 32px;\n",
              "    }\n",
              "\n",
              "    .colab-df-convert:hover {\n",
              "      background-color: #E2EBFA;\n",
              "      box-shadow: 0px 1px 2px rgba(60, 64, 67, 0.3), 0px 1px 3px 1px rgba(60, 64, 67, 0.15);\n",
              "      fill: #174EA6;\n",
              "    }\n",
              "\n",
              "    [theme=dark] .colab-df-convert {\n",
              "      background-color: #3B4455;\n",
              "      fill: #D2E3FC;\n",
              "    }\n",
              "\n",
              "    [theme=dark] .colab-df-convert:hover {\n",
              "      background-color: #434B5C;\n",
              "      box-shadow: 0px 1px 3px 1px rgba(0, 0, 0, 0.15);\n",
              "      filter: drop-shadow(0px 1px 2px rgba(0, 0, 0, 0.3));\n",
              "      fill: #FFFFFF;\n",
              "    }\n",
              "  </style>\n",
              "\n",
              "      <script>\n",
              "        const buttonEl =\n",
              "          document.querySelector('#df-be0752dd-a9a7-4801-9972-e931d18dba69 button.colab-df-convert');\n",
              "        buttonEl.style.display =\n",
              "          google.colab.kernel.accessAllowed ? 'block' : 'none';\n",
              "\n",
              "        async function convertToInteractive(key) {\n",
              "          const element = document.querySelector('#df-be0752dd-a9a7-4801-9972-e931d18dba69');\n",
              "          const dataTable =\n",
              "            await google.colab.kernel.invokeFunction('convertToInteractive',\n",
              "                                                     [key], {});\n",
              "          if (!dataTable) return;\n",
              "\n",
              "          const docLinkHtml = 'Like what you see? Visit the ' +\n",
              "            '<a target=\"_blank\" href=https://colab.research.google.com/notebooks/data_table.ipynb>data table notebook</a>'\n",
              "            + ' to learn more about interactive tables.';\n",
              "          element.innerHTML = '';\n",
              "          dataTable['output_type'] = 'display_data';\n",
              "          await google.colab.output.renderOutput(dataTable, element);\n",
              "          const docLink = document.createElement('div');\n",
              "          docLink.innerHTML = docLinkHtml;\n",
              "          element.appendChild(docLink);\n",
              "        }\n",
              "      </script>\n",
              "    </div>\n",
              "  </div>\n",
              "  "
            ]
          },
          "metadata": {},
          "execution_count": 198
        }
      ]
    },
    {
      "cell_type": "code",
      "source": [
        "df.shape"
      ],
      "metadata": {
        "colab": {
          "base_uri": "https://localhost:8080/"
        },
        "id": "X70KoPg-1SHC",
        "outputId": "c6aa2f16-635e-4285-a404-54edf2d4ab89"
      },
      "execution_count": 199,
      "outputs": [
        {
          "output_type": "execute_result",
          "data": {
            "text/plain": [
              "(3, 2)"
            ]
          },
          "metadata": {},
          "execution_count": 199
        }
      ]
    },
    {
      "cell_type": "code",
      "source": [
        "x_axis=np.arange(len(df))\n",
        "x_axis"
      ],
      "metadata": {
        "colab": {
          "base_uri": "https://localhost:8080/"
        },
        "id": "xwJ5Mt02yTbB",
        "outputId": "d7053500-b132-4f86-ed90-49b773e2b21f"
      },
      "execution_count": 200,
      "outputs": [
        {
          "output_type": "execute_result",
          "data": {
            "text/plain": [
              "array([0, 1, 2])"
            ]
          },
          "metadata": {},
          "execution_count": 200
        }
      ]
    },
    {
      "cell_type": "code",
      "source": [
        "# plotiing the final graph\n",
        "plt.bar(x_axis - 0.2, df['City Hotel'], 0.4, label = 'City Hotel')\n",
        "plt.bar(x_axis + 0.2, df['Resort Hotel'], 0.4, label = 'Resort Hotel')\n",
        "  \n",
        "plt.xticks(x_axis,df.index.tolist())\n",
        "plt.ylabel(\"Number of guests\")\n",
        "plt.title(\"Accomodations\")\n",
        "plt.legend()\n",
        "plt.show()"
      ],
      "metadata": {
        "colab": {
          "base_uri": "https://localhost:8080/",
          "height": 345
        },
        "id": "I_Q8Hz8-ACjg",
        "outputId": "8b3ae66d-70b9-416a-f55b-297153992132"
      },
      "execution_count": 201,
      "outputs": [
        {
          "output_type": "display_data",
          "data": {
            "text/plain": [
              "<Figure size 720x360 with 1 Axes>"
            ],
            "image/png": "[encoded data removed]"
          },
          "metadata": {
            "needs_background": "light"
          }
        }
      ]
    },
    {
      "cell_type": "markdown",
      "source": [
        "***While family type bookings were the least popular kind, the graph suggests that couples formed the largest topography of guests ranging to 75.5% of the total customer lists.***"
      ],
      "metadata": {
        "id": "zKYy-b7Pj3KZ"
      }
    },
    {
      "cell_type": "markdown",
      "metadata": {
        "id": "cC6-FIzd7EI1"
      },
      "source": [
        "# **Q9. Source of bookings.**"
      ]
    },
    {
      "cell_type": "code",
      "execution_count": 202,
      "metadata": {
        "id": "v8LCvV9pQBhZ"
      },
      "outputs": [],
      "source": [
        "market_segment=hotel_booking_new['market_segment'].value_counts()\n",
        "w=market_segment.index.tolist()"
      ]
    },
    {
      "cell_type": "code",
      "execution_count": 203,
      "metadata": {
        "id": "RK4itBNuLW3K",
        "colab": {
          "base_uri": "https://localhost:8080/"
        },
        "outputId": "f0564e44-630b-4438-fff3-68701d395a43"
      },
      "outputs": [
        {
          "output_type": "execute_result",
          "data": {
            "text/plain": [
              "118732"
            ]
          },
          "metadata": {},
          "execution_count": 203
        }
      ],
      "source": [
        "v=hotel_booking_new['market_segment'].value_counts().tolist()\n",
        "sum=0\n",
        "for i in v:\n",
        "  sum=sum+i\n",
        "sum"
      ]
    },
    {
      "cell_type": "code",
      "execution_count": 204,
      "metadata": {
        "id": "jClUQZTAQDxG",
        "colab": {
          "base_uri": "https://localhost:8080/"
        },
        "outputId": "aa98320f-8e44-407d-b4b4-473469783016"
      },
      "outputs": [
        {
          "output_type": "execute_result",
          "data": {
            "text/plain": [
              "['47.4%', '20.3%', '16.7%', '10.5%', '4.3%', '0.6%', '0.2%', '0.0%']"
            ]
          },
          "metadata": {},
          "execution_count": 204
        }
      ],
      "source": [
        "tot=[str(round(i*100/sum,1))+\"%\" for i in v]\n",
        "# for i in v:\n",
        "#   tot.append(str(round(i*100/sum,1))+\"%\")\n",
        "tot"
      ]
    },
    {
      "cell_type": "code",
      "execution_count": 205,
      "metadata": {
        "id": "Ajd8Zp5nLj6V",
        "colab": {
          "base_uri": "https://localhost:8080/"
        },
        "outputId": "bd1fc0f8-cc8a-4f1f-ebee-5a216086f855"
      },
      "outputs": [
        {
          "output_type": "execute_result",
          "data": {
            "text/plain": [
              "[('Online TA', '47.4%'),\n",
              " ('Offline TA/TO', '20.3%'),\n",
              " ('Groups', '16.7%'),\n",
              " ('Direct', '10.5%'),\n",
              " ('Corporate', '4.3%'),\n",
              " ('Complementary', '0.6%'),\n",
              " ('Aviation', '0.2%'),\n",
              " ('Undefined', '0.0%')]"
            ]
          },
          "metadata": {},
          "execution_count": 205
        }
      ],
      "source": [
        "q=list(zip(w,tot))\n",
        "q"
      ]
    },
    {
      "cell_type": "code",
      "execution_count": 206,
      "metadata": {
        "id": "gGDNTrv_MOfv",
        "colab": {
          "base_uri": "https://localhost:8080/"
        },
        "outputId": "12a5121b-d5f2-4b86-c960-b85354f1bc2e"
      },
      "outputs": [
        {
          "output_type": "execute_result",
          "data": {
            "text/plain": [
              "[\"('Online TA'= '47.4%')\",\n",
              " \"('Offline TA/TO'= '20.3%')\",\n",
              " \"('Groups'= '16.7%')\",\n",
              " \"('Direct'= '10.5%')\",\n",
              " \"('Corporate'= '4.3%')\",\n",
              " \"('Complementary'= '0.6%')\",\n",
              " \"('Aviation'= '0.2%')\",\n",
              " \"('Undefined'= '0.0%')\"]"
            ]
          },
          "metadata": {},
          "execution_count": 206
        }
      ],
      "source": [
        "l=[str(i).replace(\",\",\"=\") for i in q ]\n",
        "# for i in q:\n",
        "#   n = str(i).replace(\",\",\"=\")\n",
        "#   l.append(n)\n",
        "l"
      ]
    },
    {
      "cell_type": "code",
      "source": [
        "t=[str(i) for i in l ]\n",
        "# for i in q:\n",
        "#   m = list(i)\n",
        "#   t.append(m)\n",
        "t"
      ],
      "metadata": {
        "colab": {
          "base_uri": "https://localhost:8080/"
        },
        "id": "ruVmfNtTsZau",
        "outputId": "83400395-2f26-402e-c15c-bee4a3d06bca"
      },
      "execution_count": 207,
      "outputs": [
        {
          "output_type": "execute_result",
          "data": {
            "text/plain": [
              "[\"('Online TA'= '47.4%')\",\n",
              " \"('Offline TA/TO'= '20.3%')\",\n",
              " \"('Groups'= '16.7%')\",\n",
              " \"('Direct'= '10.5%')\",\n",
              " \"('Corporate'= '4.3%')\",\n",
              " \"('Complementary'= '0.6%')\",\n",
              " \"('Aviation'= '0.2%')\",\n",
              " \"('Undefined'= '0.0%')\"]"
            ]
          },
          "metadata": {},
          "execution_count": 207
        }
      ]
    },
    {
      "cell_type": "code",
      "source": [
        "\n",
        "g=[]\n",
        "for i in t:\n",
        "  j= i.replace(\"('\",\"\")\n",
        "  j=j.replace(\"')\",\"\")\n",
        "  j=j.replace(\"'\",\"\")\n",
        "  g.append(j)\n",
        "g"
      ],
      "metadata": {
        "colab": {
          "base_uri": "https://localhost:8080/"
        },
        "id": "jtqSP3Mr2JNu",
        "outputId": "1f233c29-0ab5-42b9-9876-c44d3d839dbc"
      },
      "execution_count": 208,
      "outputs": [
        {
          "output_type": "execute_result",
          "data": {
            "text/plain": [
              "['Online TA= 47.4%',\n",
              " 'Offline TA/TO= 20.3%',\n",
              " 'Groups= 16.7%',\n",
              " 'Direct= 10.5%',\n",
              " 'Corporate= 4.3%',\n",
              " 'Complementary= 0.6%',\n",
              " 'Aviation= 0.2%',\n",
              " 'Undefined= 0.0%']"
            ]
          },
          "metadata": {},
          "execution_count": 208
        }
      ]
    },
    {
      "cell_type": "code",
      "execution_count": 209,
      "metadata": {
        "id": "zzY3TN2ZSmvR",
        "colab": {
          "base_uri": "https://localhost:8080/",
          "height": 323
        },
        "outputId": "dca6e959-a63e-47f9-82f0-857941ac0133"
      },
      "outputs": [
        {
          "output_type": "display_data",
          "data": {
            "text/plain": [
              "<Figure size 864x360 with 1 Axes>"
            ],
            "image/png": "[encoded data removed]"
          },
          "metadata": {}
        }
      ],
      "source": [
        "\n",
        "plt.rcParams['figure.figsize']=(12,5)\n",
        "plt.rcParams['font.size']=15\n",
        "patches=plt.pie(market_segment)\n",
        "plt.title('Percentage of Guests from different Market Segments')\n",
        "plt.legend(labels=g,loc='upper right',prop={'size':10})\n",
        "plt.axis('equal')\n",
        "plt.show()"
      ]
    },
    {
      "cell_type": "markdown",
      "source": [
        "***The maximum number of bookings were done through Online Agents (at 47.4%). Another prominent source of booking was done through Offline methods (at 20.3%).\n",
        "Other methods of booking include Groups, Direct, Corporate, etc., forming the remaining 32.3%***"
      ],
      "metadata": {
        "id": "y-PNnFfF5emp"
      }
    },
    {
      "cell_type": "markdown",
      "metadata": {
        "id": "rchrjRAq7LRz"
      },
      "source": [
        "# Q10.***What is the relationship between lead time and cancellation?***\n"
      ]
    },
    {
      "cell_type": "code",
      "execution_count": 265,
      "metadata": {
        "id": "Xkjkk7PqE2-B"
      },
      "outputs": [],
      "source": [
        "x=hotel_booking_new['hotel'].value_counts().sum()"
      ]
    },
    {
      "cell_type": "code",
      "execution_count": 266,
      "metadata": {
        "id": "CznTah94aMUI",
        "colab": {
          "base_uri": "https://localhost:8080/",
          "height": 112
        },
        "outputId": "53d2cd52-f836-4e62-c7cf-d0948526b850"
      },
      "outputs": [
        {
          "output_type": "execute_result",
          "data": {
            "text/plain": [
              "is_canceled  lead_time      No    Yes\n",
              "0                    0  5739.0  413.0\n",
              "1                    1  3064.0  316.0"
            ],
            "text/html": [
              "\n",
              "  <div id=\"df-525ea6f2-7648-4e04-b260-94c128cbbc0e\">\n",
              "    <div class=\"colab-df-container\">\n",
              "      <div>\n",
              "<style scoped>\n",
              "    .dataframe tbody tr th:only-of-type {\n",
              "        vertical-align: middle;\n",
              "    }\n",
              "\n",
              "    .dataframe tbody tr th {\n",
              "        vertical-align: top;\n",
              "    }\n",
              "\n",
              "    .dataframe thead th {\n",
              "        text-align: right;\n",
              "    }\n",
              "</style>\n",
              "<table border=\"1\" class=\"dataframe\">\n",
              "  <thead>\n",
              "    <tr style=\"text-align: right;\">\n",
              "      <th>is_canceled</th>\n",
              "      <th>lead_time</th>\n",
              "      <th>No</th>\n",
              "      <th>Yes</th>\n",
              "    </tr>\n",
              "  </thead>\n",
              "  <tbody>\n",
              "    <tr>\n",
              "      <th>0</th>\n",
              "      <td>0</td>\n",
              "      <td>5739.0</td>\n",
              "      <td>413.0</td>\n",
              "    </tr>\n",
              "    <tr>\n",
              "      <th>1</th>\n",
              "      <td>1</td>\n",
              "      <td>3064.0</td>\n",
              "      <td>316.0</td>\n",
              "    </tr>\n",
              "  </tbody>\n",
              "</table>\n",
              "</div>\n",
              "      <button class=\"colab-df-convert\" onclick=\"convertToInteractive('df-525ea6f2-7648-4e04-b260-94c128cbbc0e')\"\n",
              "              title=\"Convert this dataframe to an interactive table.\"\n",
              "              style=\"display:none;\">\n",
              "        \n",
              "  <svg xmlns=\"http://www.w3.org/2000/svg\" height=\"24px\"viewBox=\"0 0 24 24\"\n",
              "       width=\"24px\">\n",
              "    <path d=\"M0 0h24v24H0V0z\" fill=\"none\"/>\n",
              "    <path d=\"M18.56 5.44l.94 2.06.94-2.06 2.06-.94-2.06-.94-.94-2.06-.94 2.06-2.06.94zm-11 1L8.5 8.5l.94-2.06 2.06-.94-2.06-.94L8.5 2.5l-.94 2.06-2.06.94zm10 10l.94 2.06.94-2.06 2.06-.94-2.06-.94-.94-2.06-.94 2.06-2.06.94z\"/><path d=\"M17.41 7.96l-1.37-1.37c-.4-.4-.92-.59-1.43-.59-.52 0-1.04.2-1.43.59L10.3 9.45l-7.72 7.72c-.78.78-.78 2.05 0 2.83L4 21.41c.39.39.9.59 1.41.59.51 0 1.02-.2 1.41-.59l7.78-7.78 2.81-2.81c.8-.78.8-2.07 0-2.86zM5.41 20L4 18.59l7.72-7.72 1.47 1.35L5.41 20z\"/>\n",
              "  </svg>\n",
              "      </button>\n",
              "      \n",
              "  <style>\n",
              "    .colab-df-container {\n",
              "      display:flex;\n",
              "      flex-wrap:wrap;\n",
              "      gap: 12px;\n",
              "    }\n",
              "\n",
              "    .colab-df-convert {\n",
              "      background-color: #E8F0FE;\n",
              "      border: none;\n",
              "      border-radius: 50%;\n",
              "      cursor: pointer;\n",
              "      display: none;\n",
              "      fill: #1967D2;\n",
              "      height: 32px;\n",
              "      padding: 0 0 0 0;\n",
              "      width: 32px;\n",
              "    }\n",
              "\n",
              "    .colab-df-convert:hover {\n",
              "      background-color: #E2EBFA;\n",
              "      box-shadow: 0px 1px 2px rgba(60, 64, 67, 0.3), 0px 1px 3px 1px rgba(60, 64, 67, 0.15);\n",
              "      fill: #174EA6;\n",
              "    }\n",
              "\n",
              "    [theme=dark] .colab-df-convert {\n",
              "      background-color: #3B4455;\n",
              "      fill: #D2E3FC;\n",
              "    }\n",
              "\n",
              "    [theme=dark] .colab-df-convert:hover {\n",
              "      background-color: #434B5C;\n",
              "      box-shadow: 0px 1px 3px 1px rgba(0, 0, 0, 0.15);\n",
              "      filter: drop-shadow(0px 1px 2px rgba(0, 0, 0, 0.3));\n",
              "      fill: #FFFFFF;\n",
              "    }\n",
              "  </style>\n",
              "\n",
              "      <script>\n",
              "        const buttonEl =\n",
              "          document.querySelector('#df-525ea6f2-7648-4e04-b260-94c128cbbc0e button.colab-df-convert');\n",
              "        buttonEl.style.display =\n",
              "          google.colab.kernel.accessAllowed ? 'block' : 'none';\n",
              "\n",
              "        async function convertToInteractive(key) {\n",
              "          const element = document.querySelector('#df-525ea6f2-7648-4e04-b260-94c128cbbc0e');\n",
              "          const dataTable =\n",
              "            await google.colab.kernel.invokeFunction('convertToInteractive',\n",
              "                                                     [key], {});\n",
              "          if (!dataTable) return;\n",
              "\n",
              "          const docLinkHtml = 'Like what you see? Visit the ' +\n",
              "            '<a target=\"_blank\" href=https://colab.research.google.com/notebooks/data_table.ipynb>data table notebook</a>'\n",
              "            + ' to learn more about interactive tables.';\n",
              "          element.innerHTML = '';\n",
              "          dataTable['output_type'] = 'display_data';\n",
              "          await google.colab.output.renderOutput(dataTable, element);\n",
              "          const docLink = document.createElement('div');\n",
              "          docLink.innerHTML = docLinkHtml;\n",
              "          element.appendChild(docLink);\n",
              "        }\n",
              "      </script>\n",
              "    </div>\n",
              "  </div>\n",
              "  "
            ]
          },
          "metadata": {},
          "execution_count": 266
        }
      ],
      "source": [
        "rel_lead_canc=hotel_booking_new.groupby(['lead_time','is_canceled'])['hotel'].size().unstack().reset_index()\n",
        "rel_lead_canc.head(2)"
      ]
    },
    {
      "cell_type": "code",
      "execution_count": 267,
      "metadata": {
        "id": "GZQqtUpO_czr"
      },
      "outputs": [],
      "source": [
        "plt.rcParams['figure.figsize']=(15,8)\n",
        "lead_time=rel_lead_canc.loc[:,['lead_time']]\n",
        "lt=lead_time.lead_time.to_list()[0:151]"
      ]
    },
    {
      "cell_type": "code",
      "source": [
        "lead_time"
      ],
      "metadata": {
        "colab": {
          "base_uri": "https://localhost:8080/",
          "height": 424
        },
        "id": "yRnwKa27ieKq",
        "outputId": "4e46ef52-6172-4fad-9c93-6a835ec84715"
      },
      "execution_count": 268,
      "outputs": [
        {
          "output_type": "execute_result",
          "data": {
            "text/plain": [
              "is_canceled  lead_time\n",
              "0                    0\n",
              "1                    1\n",
              "2                    2\n",
              "3                    3\n",
              "4                    4\n",
              "..                 ...\n",
              "474                622\n",
              "475                626\n",
              "476                629\n",
              "477                709\n",
              "478                737\n",
              "\n",
              "[479 rows x 1 columns]"
            ],
            "text/html": [
              "\n",
              "  <div id=\"df-973aee30-c9ea-4f10-a727-0cf2ad32ac68\">\n",
              "    <div class=\"colab-df-container\">\n",
              "      <div>\n",
              "<style scoped>\n",
              "    .dataframe tbody tr th:only-of-type {\n",
              "        vertical-align: middle;\n",
              "    }\n",
              "\n",
              "    .dataframe tbody tr th {\n",
              "        vertical-align: top;\n",
              "    }\n",
              "\n",
              "    .dataframe thead th {\n",
              "        text-align: right;\n",
              "    }\n",
              "</style>\n",
              "<table border=\"1\" class=\"dataframe\">\n",
              "  <thead>\n",
              "    <tr style=\"text-align: right;\">\n",
              "      <th>is_canceled</th>\n",
              "      <th>lead_time</th>\n",
              "    </tr>\n",
              "  </thead>\n",
              "  <tbody>\n",
              "    <tr>\n",
              "      <th>0</th>\n",
              "      <td>0</td>\n",
              "    </tr>\n",
              "    <tr>\n",
              "      <th>1</th>\n",
              "      <td>1</td>\n",
              "    </tr>\n",
              "    <tr>\n",
              "      <th>2</th>\n",
              "      <td>2</td>\n",
              "    </tr>\n",
              "    <tr>\n",
              "      <th>3</th>\n",
              "      <td>3</td>\n",
              "    </tr>\n",
              "    <tr>\n",
              "      <th>4</th>\n",
              "      <td>4</td>\n",
              "    </tr>\n",
              "    <tr>\n",
              "      <th>...</th>\n",
              "      <td>...</td>\n",
              "    </tr>\n",
              "    <tr>\n",
              "      <th>474</th>\n",
              "      <td>622</td>\n",
              "    </tr>\n",
              "    <tr>\n",
              "      <th>475</th>\n",
              "      <td>626</td>\n",
              "    </tr>\n",
              "    <tr>\n",
              "      <th>476</th>\n",
              "      <td>629</td>\n",
              "    </tr>\n",
              "    <tr>\n",
              "      <th>477</th>\n",
              "      <td>709</td>\n",
              "    </tr>\n",
              "    <tr>\n",
              "      <th>478</th>\n",
              "      <td>737</td>\n",
              "    </tr>\n",
              "  </tbody>\n",
              "</table>\n",
              "<p>479 rows × 1 columns</p>\n",
              "</div>\n",
              "      <button class=\"colab-df-convert\" onclick=\"convertToInteractive('df-973aee30-c9ea-4f10-a727-0cf2ad32ac68')\"\n",
              "              title=\"Convert this dataframe to an interactive table.\"\n",
              "              style=\"display:none;\">\n",
              "        \n",
              "  <svg xmlns=\"http://www.w3.org/2000/svg\" height=\"24px\"viewBox=\"0 0 24 24\"\n",
              "       width=\"24px\">\n",
              "    <path d=\"M0 0h24v24H0V0z\" fill=\"none\"/>\n",
              "    <path d=\"M18.56 5.44l.94 2.06.94-2.06 2.06-.94-2.06-.94-.94-2.06-.94 2.06-2.06.94zm-11 1L8.5 8.5l.94-2.06 2.06-.94-2.06-.94L8.5 2.5l-.94 2.06-2.06.94zm10 10l.94 2.06.94-2.06 2.06-.94-2.06-.94-.94-2.06-.94 2.06-2.06.94z\"/><path d=\"M17.41 7.96l-1.37-1.37c-.4-.4-.92-.59-1.43-.59-.52 0-1.04.2-1.43.59L10.3 9.45l-7.72 7.72c-.78.78-.78 2.05 0 2.83L4 21.41c.39.39.9.59 1.41.59.51 0 1.02-.2 1.41-.59l7.78-7.78 2.81-2.81c.8-.78.8-2.07 0-2.86zM5.41 20L4 18.59l7.72-7.72 1.47 1.35L5.41 20z\"/>\n",
              "  </svg>\n",
              "      </button>\n",
              "      \n",
              "  <style>\n",
              "    .colab-df-container {\n",
              "      display:flex;\n",
              "      flex-wrap:wrap;\n",
              "      gap: 12px;\n",
              "    }\n",
              "\n",
              "    .colab-df-convert {\n",
              "      background-color: #E8F0FE;\n",
              "      border: none;\n",
              "      border-radius: 50%;\n",
              "      cursor: pointer;\n",
              "      display: none;\n",
              "      fill: #1967D2;\n",
              "      height: 32px;\n",
              "      padding: 0 0 0 0;\n",
              "      width: 32px;\n",
              "    }\n",
              "\n",
              "    .colab-df-convert:hover {\n",
              "      background-color: #E2EBFA;\n",
              "      box-shadow: 0px 1px 2px rgba(60, 64, 67, 0.3), 0px 1px 3px 1px rgba(60, 64, 67, 0.15);\n",
              "      fill: #174EA6;\n",
              "    }\n",
              "\n",
              "    [theme=dark] .colab-df-convert {\n",
              "      background-color: #3B4455;\n",
              "      fill: #D2E3FC;\n",
              "    }\n",
              "\n",
              "    [theme=dark] .colab-df-convert:hover {\n",
              "      background-color: #434B5C;\n",
              "      box-shadow: 0px 1px 3px 1px rgba(0, 0, 0, 0.15);\n",
              "      filter: drop-shadow(0px 1px 2px rgba(0, 0, 0, 0.3));\n",
              "      fill: #FFFFFF;\n",
              "    }\n",
              "  </style>\n",
              "\n",
              "      <script>\n",
              "        const buttonEl =\n",
              "          document.querySelector('#df-973aee30-c9ea-4f10-a727-0cf2ad32ac68 button.colab-df-convert');\n",
              "        buttonEl.style.display =\n",
              "          google.colab.kernel.accessAllowed ? 'block' : 'none';\n",
              "\n",
              "        async function convertToInteractive(key) {\n",
              "          const element = document.querySelector('#df-973aee30-c9ea-4f10-a727-0cf2ad32ac68');\n",
              "          const dataTable =\n",
              "            await google.colab.kernel.invokeFunction('convertToInteractive',\n",
              "                                                     [key], {});\n",
              "          if (!dataTable) return;\n",
              "\n",
              "          const docLinkHtml = 'Like what you see? Visit the ' +\n",
              "            '<a target=\"_blank\" href=https://colab.research.google.com/notebooks/data_table.ipynb>data table notebook</a>'\n",
              "            + ' to learn more about interactive tables.';\n",
              "          element.innerHTML = '';\n",
              "          dataTable['output_type'] = 'display_data';\n",
              "          await google.colab.output.renderOutput(dataTable, element);\n",
              "          const docLink = document.createElement('div');\n",
              "          docLink.innerHTML = docLinkHtml;\n",
              "          element.appendChild(docLink);\n",
              "        }\n",
              "      </script>\n",
              "    </div>\n",
              "  </div>\n",
              "  "
            ]
          },
          "metadata": {},
          "execution_count": 268
        }
      ]
    },
    {
      "cell_type": "code",
      "source": [
        "rel_lead_canc"
      ],
      "metadata": {
        "colab": {
          "base_uri": "https://localhost:8080/",
          "height": 424
        },
        "id": "Phdo2CIvi0PH",
        "outputId": "cb750c12-1f3a-40a6-da1b-99460ec92983"
      },
      "execution_count": 269,
      "outputs": [
        {
          "output_type": "execute_result",
          "data": {
            "text/plain": [
              "is_canceled  lead_time      No    Yes\n",
              "0                    0  5739.0  413.0\n",
              "1                    1  3064.0  316.0\n",
              "2                    2  1819.0  211.0\n",
              "3                    3  1620.0  181.0\n",
              "4                    4  1519.0  172.0\n",
              "..                 ...     ...    ...\n",
              "474                622     NaN   17.0\n",
              "475                626     NaN   30.0\n",
              "476                629     NaN   17.0\n",
              "477                709     1.0    NaN\n",
              "478                737     1.0    NaN\n",
              "\n",
              "[479 rows x 3 columns]"
            ],
            "text/html": [
              "\n",
              "  <div id=\"df-82086aff-42a5-41f8-ba46-cfe2c83bba71\">\n",
              "    <div class=\"colab-df-container\">\n",
              "      <div>\n",
              "<style scoped>\n",
              "    .dataframe tbody tr th:only-of-type {\n",
              "        vertical-align: middle;\n",
              "    }\n",
              "\n",
              "    .dataframe tbody tr th {\n",
              "        vertical-align: top;\n",
              "    }\n",
              "\n",
              "    .dataframe thead th {\n",
              "        text-align: right;\n",
              "    }\n",
              "</style>\n",
              "<table border=\"1\" class=\"dataframe\">\n",
              "  <thead>\n",
              "    <tr style=\"text-align: right;\">\n",
              "      <th>is_canceled</th>\n",
              "      <th>lead_time</th>\n",
              "      <th>No</th>\n",
              "      <th>Yes</th>\n",
              "    </tr>\n",
              "  </thead>\n",
              "  <tbody>\n",
              "    <tr>\n",
              "      <th>0</th>\n",
              "      <td>0</td>\n",
              "      <td>5739.0</td>\n",
              "      <td>413.0</td>\n",
              "    </tr>\n",
              "    <tr>\n",
              "      <th>1</th>\n",
              "      <td>1</td>\n",
              "      <td>3064.0</td>\n",
              "      <td>316.0</td>\n",
              "    </tr>\n",
              "    <tr>\n",
              "      <th>2</th>\n",
              "      <td>2</td>\n",
              "      <td>1819.0</td>\n",
              "      <td>211.0</td>\n",
              "    </tr>\n",
              "    <tr>\n",
              "      <th>3</th>\n",
              "      <td>3</td>\n",
              "      <td>1620.0</td>\n",
              "      <td>181.0</td>\n",
              "    </tr>\n",
              "    <tr>\n",
              "      <th>4</th>\n",
              "      <td>4</td>\n",
              "      <td>1519.0</td>\n",
              "      <td>172.0</td>\n",
              "    </tr>\n",
              "    <tr>\n",
              "      <th>...</th>\n",
              "      <td>...</td>\n",
              "      <td>...</td>\n",
              "      <td>...</td>\n",
              "    </tr>\n",
              "    <tr>\n",
              "      <th>474</th>\n",
              "      <td>622</td>\n",
              "      <td>NaN</td>\n",
              "      <td>17.0</td>\n",
              "    </tr>\n",
              "    <tr>\n",
              "      <th>475</th>\n",
              "      <td>626</td>\n",
              "      <td>NaN</td>\n",
              "      <td>30.0</td>\n",
              "    </tr>\n",
              "    <tr>\n",
              "      <th>476</th>\n",
              "      <td>629</td>\n",
              "      <td>NaN</td>\n",
              "      <td>17.0</td>\n",
              "    </tr>\n",
              "    <tr>\n",
              "      <th>477</th>\n",
              "      <td>709</td>\n",
              "      <td>1.0</td>\n",
              "      <td>NaN</td>\n",
              "    </tr>\n",
              "    <tr>\n",
              "      <th>478</th>\n",
              "      <td>737</td>\n",
              "      <td>1.0</td>\n",
              "      <td>NaN</td>\n",
              "    </tr>\n",
              "  </tbody>\n",
              "</table>\n",
              "<p>479 rows × 3 columns</p>\n",
              "</div>\n",
              "      <button class=\"colab-df-convert\" onclick=\"convertToInteractive('df-82086aff-42a5-41f8-ba46-cfe2c83bba71')\"\n",
              "              title=\"Convert this dataframe to an interactive table.\"\n",
              "              style=\"display:none;\">\n",
              "        \n",
              "  <svg xmlns=\"http://www.w3.org/2000/svg\" height=\"24px\"viewBox=\"0 0 24 24\"\n",
              "       width=\"24px\">\n",
              "    <path d=\"M0 0h24v24H0V0z\" fill=\"none\"/>\n",
              "    <path d=\"M18.56 5.44l.94 2.06.94-2.06 2.06-.94-2.06-.94-.94-2.06-.94 2.06-2.06.94zm-11 1L8.5 8.5l.94-2.06 2.06-.94-2.06-.94L8.5 2.5l-.94 2.06-2.06.94zm10 10l.94 2.06.94-2.06 2.06-.94-2.06-.94-.94-2.06-.94 2.06-2.06.94z\"/><path d=\"M17.41 7.96l-1.37-1.37c-.4-.4-.92-.59-1.43-.59-.52 0-1.04.2-1.43.59L10.3 9.45l-7.72 7.72c-.78.78-.78 2.05 0 2.83L4 21.41c.39.39.9.59 1.41.59.51 0 1.02-.2 1.41-.59l7.78-7.78 2.81-2.81c.8-.78.8-2.07 0-2.86zM5.41 20L4 18.59l7.72-7.72 1.47 1.35L5.41 20z\"/>\n",
              "  </svg>\n",
              "      </button>\n",
              "      \n",
              "  <style>\n",
              "    .colab-df-container {\n",
              "      display:flex;\n",
              "      flex-wrap:wrap;\n",
              "      gap: 12px;\n",
              "    }\n",
              "\n",
              "    .colab-df-convert {\n",
              "      background-color: #E8F0FE;\n",
              "      border: none;\n",
              "      border-radius: 50%;\n",
              "      cursor: pointer;\n",
              "      display: none;\n",
              "      fill: #1967D2;\n",
              "      height: 32px;\n",
              "      padding: 0 0 0 0;\n",
              "      width: 32px;\n",
              "    }\n",
              "\n",
              "    .colab-df-convert:hover {\n",
              "      background-color: #E2EBFA;\n",
              "      box-shadow: 0px 1px 2px rgba(60, 64, 67, 0.3), 0px 1px 3px 1px rgba(60, 64, 67, 0.15);\n",
              "      fill: #174EA6;\n",
              "    }\n",
              "\n",
              "    [theme=dark] .colab-df-convert {\n",
              "      background-color: #3B4455;\n",
              "      fill: #D2E3FC;\n",
              "    }\n",
              "\n",
              "    [theme=dark] .colab-df-convert:hover {\n",
              "      background-color: #434B5C;\n",
              "      box-shadow: 0px 1px 3px 1px rgba(0, 0, 0, 0.15);\n",
              "      filter: drop-shadow(0px 1px 2px rgba(0, 0, 0, 0.3));\n",
              "      fill: #FFFFFF;\n",
              "    }\n",
              "  </style>\n",
              "\n",
              "      <script>\n",
              "        const buttonEl =\n",
              "          document.querySelector('#df-82086aff-42a5-41f8-ba46-cfe2c83bba71 button.colab-df-convert');\n",
              "        buttonEl.style.display =\n",
              "          google.colab.kernel.accessAllowed ? 'block' : 'none';\n",
              "\n",
              "        async function convertToInteractive(key) {\n",
              "          const element = document.querySelector('#df-82086aff-42a5-41f8-ba46-cfe2c83bba71');\n",
              "          const dataTable =\n",
              "            await google.colab.kernel.invokeFunction('convertToInteractive',\n",
              "                                                     [key], {});\n",
              "          if (!dataTable) return;\n",
              "\n",
              "          const docLinkHtml = 'Like what you see? Visit the ' +\n",
              "            '<a target=\"_blank\" href=https://colab.research.google.com/notebooks/data_table.ipynb>data table notebook</a>'\n",
              "            + ' to learn more about interactive tables.';\n",
              "          element.innerHTML = '';\n",
              "          dataTable['output_type'] = 'display_data';\n",
              "          await google.colab.output.renderOutput(dataTable, element);\n",
              "          const docLink = document.createElement('div');\n",
              "          docLink.innerHTML = docLinkHtml;\n",
              "          element.appendChild(docLink);\n",
              "        }\n",
              "      </script>\n",
              "    </div>\n",
              "  </div>\n",
              "  "
            ]
          },
          "metadata": {},
          "execution_count": 269
        }
      ]
    },
    {
      "cell_type": "code",
      "execution_count": 270,
      "metadata": {
        "id": "qxmubDXTi1mz"
      },
      "outputs": [],
      "source": [
        "No=rel_lead_canc.No.fillna(0)[0:151]\n",
        "Yes=rel_lead_canc.Yes.fillna(0)[0:151]"
      ]
    },
    {
      "cell_type": "code",
      "execution_count": 272,
      "metadata": {
        "id": "hXEO91Bz8Qkc",
        "colab": {
          "base_uri": "https://localhost:8080/",
          "height": 636
        },
        "outputId": "02fd842a-18d1-46b5-e987-f82aa914a7e6"
      },
      "outputs": [
        {
          "output_type": "display_data",
          "data": {
            "text/plain": [
              "<Figure size 1800x720 with 1 Axes>"
            ],
            "image/png": "[encoded data removed]"
          },
          "metadata": {
            "needs_background": "light"
          }
        }
      ],
      "source": [
        "plt.rcParams['figure.figsize']=(25,10)\n",
        "plt.plot(lt,Yes,color='r')\n",
        "plt.plot(lt,No,color='k')\n",
        "plt.xlabel('Lead Time')\n",
        "plt.ylabel('no of hotels')\n",
        "plt.legend(title='is canceled',labels=['Yes','No'])\n",
        "plt.title('relation between lead time and cancellation')\n",
        "plt.show()"
      ]
    },
    {
      "cell_type": "markdown",
      "source": [
        "***On a cursory glance it is visible that, majority of the guests book their prefer rooms as late as possible within a margin of 20 days \n",
        "It has also been obseved that guests are likely to cancel more when they book their rooms of with a span of 80 days or more as their lead time(almost 50%)***"
      ],
      "metadata": {
        "id": "h8tuj9IQ6CX-"
      }
    },
    {
      "cell_type": "markdown",
      "metadata": {
        "id": "Ku-vYftb-lSv"
      },
      "source": [
        "# ***Q.11.Market segment has any impact on repeated customer?***"
      ]
    },
    {
      "cell_type": "code",
      "execution_count": 221,
      "metadata": {
        "id": "JhK5BGIjBgT4"
      },
      "outputs": [],
      "source": [
        "# replacing 0 with No and 1 with Yes\n",
        "hotel_booking_new['is_repeated_guest'].replace({0:'No',1:'Yes'},inplace=True)"
      ]
    },
    {
      "cell_type": "code",
      "execution_count": 222,
      "metadata": {
        "id": "3eunkH3yA6Yy"
      },
      "outputs": [],
      "source": [
        "# getting the  repeated quests\n",
        "repeated_guest=hotel_booking_new[hotel_booking_new['is_repeated_guest']=='Yes']\n",
        "repeated_guests=repeated_guest.groupby(['market_segment'])['hotel'].count()"
      ]
    },
    {
      "cell_type": "code",
      "execution_count": 223,
      "metadata": {
        "id": "vrLW-axqBHLD",
        "colab": {
          "base_uri": "https://localhost:8080/",
          "height": 614
        },
        "outputId": "d32c79d3-a473-49be-d514-45571b96928d"
      },
      "outputs": [
        {
          "output_type": "display_data",
          "data": {
            "text/plain": [
              "<Figure size 720x576 with 1 Axes>"
            ],
            "image/png": "[encoded data removed]"
          },
          "metadata": {
            "needs_background": "light"
          }
        }
      ],
      "source": [
        "# ploting the graph\n",
        "plt.rcParams['figure.figsize']=(10,8)\n",
        "plt.xticks(rotation=90)\n",
        "sns.countplot(x='market_segment',data=repeated_guest)\n",
        "plt.show()"
      ]
    },
    {
      "cell_type": "markdown",
      "source": [
        "***Corporates are the largest customer base for hotels amounting for almost 40% of the market share, with the follower ups being Direct bookings, Online Travel agencies,etc.*** "
      ],
      "metadata": {
        "id": "Zj_pKOVkxlp2"
      }
    },
    {
      "cell_type": "markdown",
      "source": [
        "# ***Q.12. Required car parking spaces.***"
      ],
      "metadata": {
        "id": "lWdDYve7yEfo"
      }
    },
    {
      "cell_type": "code",
      "execution_count": 224,
      "metadata": {
        "id": "kIFoKoOv2-KK",
        "colab": {
          "base_uri": "https://localhost:8080/"
        },
        "outputId": "aab5780c-02b8-4021-e2eb-08c3fdde2188"
      },
      "outputs": [
        {
          "output_type": "execute_result",
          "data": {
            "text/plain": [
              "0    111429\n",
              "1      7270\n",
              "2        28\n",
              "3         3\n",
              "8         2\n",
              "Name: required_car_parking_spaces, dtype: int64"
            ]
          },
          "metadata": {},
          "execution_count": 224
        }
      ],
      "source": [
        "# counting required number of parking space by guests\n",
        "hotel_booking_new['required_car_parking_spaces'].value_counts()\n"
      ]
    },
    {
      "cell_type": "code",
      "execution_count": 225,
      "metadata": {
        "id": "AMunuhseMNPP"
      },
      "outputs": [],
      "source": [
        "# converting to list\n",
        "x_car=hotel_booking_new['required_car_parking_spaces'].value_counts().index.tolist()\n",
        "y_car=hotel_booking_new['required_car_parking_spaces'].value_counts().tolist()"
      ]
    },
    {
      "cell_type": "code",
      "execution_count": 226,
      "metadata": {
        "id": "K-KHiCG4MlY3",
        "colab": {
          "base_uri": "https://localhost:8080/",
          "height": 527
        },
        "outputId": "716bb6b8-3553-4a74-c33a-1070efba7a51"
      },
      "outputs": [
        {
          "output_type": "display_data",
          "data": {
            "text/plain": [
              "<Figure size 720x576 with 1 Axes>"
            ],
            "image/png": "[encoded data removed]"
          },
          "metadata": {
            "needs_background": "light"
          }
        }
      ],
      "source": [
        "#ploting the line plot\n",
        "plt.rcParams['figure.figsize']=(10,8)\n",
        "plt.plot(x_car,y_car,marker='D',ls='dotted')\n",
        "plt.ylabel('Count')\n",
        "plt.xlabel(\"no of parkings\")\n",
        "plt.title('Required car parking spaces')\n",
        "plt.show()"
      ]
    },
    {
      "cell_type": "markdown",
      "source": [
        "***We can see that maximum customers doesnot requires Parking spaces. hence in both Resort and city hotels we observe maximum customers donot require parking spaces, suggesting that majority of guests are travellers staying for a short visit.***"
      ],
      "metadata": {
        "id": "4s4g1zZq8fPf"
      }
    },
    {
      "cell_type": "markdown",
      "source": [
        "# ***Q13.How long people stay in a hotel?***"
      ],
      "metadata": {
        "id": "56IlVNzVXpsN"
      }
    },
    {
      "cell_type": "code",
      "execution_count": 246,
      "metadata": {
        "id": "cOcjg57zC7eM",
        "colab": {
          "base_uri": "https://localhost:8080/",
          "height": 524
        },
        "outputId": "690c230d-ba18-48f6-d17c-60dae3f45149"
      },
      "outputs": [
        {
          "output_type": "execute_result",
          "data": {
            "text/plain": [
              "[<matplotlib.lines.Line2D at 0x7f94558a1750>]"
            ]
          },
          "metadata": {},
          "execution_count": 246
        },
        {
          "output_type": "display_data",
          "data": {
            "text/plain": [
              "<Figure size 720x576 with 1 Axes>"
            ],
            "image/png": "[encoded data removed]"
          },
          "metadata": {
            "needs_background": "light"
          }
        }
      ],
      "source": [
        "# check_in_out['Total_stay'].unique()\n",
        "x=hotel_booking_new['stays_in_week_nights']+hotel_booking_new['stays_in_weekend_nights']\n",
        "y=hotel_booking_new.groupby([x])['adr'].mean()[0:31]\n",
        "plt.ylabel(\"Average Daily Rate\")\n",
        "plt.xlabel(\"Days\")\n",
        "r=y.tolist()\n",
        "q=y.index\n",
        "plt.plot(q,r)"
      ]
    },
    {
      "cell_type": "markdown",
      "source": [
        "***We can observe from the graph that first 25 days average daily rate is very high after that average daily rate decrease sharply till 30 then we can see inclination and after that adr reduces.***"
      ],
      "metadata": {
        "id": "0_SYp1XfYsG3"
      }
    },
    {
      "cell_type": "markdown",
      "source": [
        "# ***Q.14 Prefered meals types.***"
      ],
      "metadata": {
        "id": "-58rIX30lWOp"
      }
    },
    {
      "cell_type": "markdown",
      "source": [
        "BB means bed and breakfast.\n",
        "• HB means half board, in\n",
        "which breakfast and dinner\n",
        "are included.\n",
        "• FB means full board, in which\n",
        "breakfast, lunch and dinner\n",
        "are included.\n",
        "• SC means, self-catering (no\n",
        "meals are included)."
      ],
      "metadata": {
        "id": "skAbAyKLmlW9"
      }
    },
    {
      "cell_type": "code",
      "source": [
        "hotel_booking_new.columns"
      ],
      "metadata": {
        "id": "Nc3LxAjdwjjo",
        "colab": {
          "base_uri": "https://localhost:8080/"
        },
        "outputId": "9383f069-1f8b-4731-e952-46dd18313dee"
      },
      "execution_count": 238,
      "outputs": [
        {
          "output_type": "execute_result",
          "data": {
            "text/plain": [
              "Index(['hotel', 'is_canceled', 'lead_time', 'arrival_date_year',\n",
              "       'arrival_date_month', 'arrival_date_week_number',\n",
              "       'arrival_date_day_of_month', 'stays_in_weekend_nights',\n",
              "       'stays_in_week_nights', 'adults', 'meal', 'country', 'market_segment',\n",
              "       'distribution_channel', 'is_repeated_guest', 'previous_cancellations',\n",
              "       'previous_bookings_not_canceled', 'reserved_room_type',\n",
              "       'assigned_room_type', 'booking_changes', 'deposit_type',\n",
              "       'days_in_waiting_list', 'customer_type', 'adr',\n",
              "       'required_car_parking_spaces', 'total_of_special_requests',\n",
              "       'reservation_status', 'reservation_status_date', 'Kids'],\n",
              "      dtype='object')"
            ]
          },
          "metadata": {},
          "execution_count": 238
        }
      ]
    },
    {
      "cell_type": "code",
      "source": [
        "# unique elements of meal column\n",
        "hotel_booking_new['meal'].unique()"
      ],
      "metadata": {
        "id": "SKZW6KdVOj96",
        "colab": {
          "base_uri": "https://localhost:8080/"
        },
        "outputId": "6f16ffc9-80b2-4736-a77b-0892d3c11c7f"
      },
      "execution_count": 249,
      "outputs": [
        {
          "output_type": "execute_result",
          "data": {
            "text/plain": [
              "array(['BB', 'FB', 'HB', 'SC', 'Undefined'], dtype=object)"
            ]
          },
          "metadata": {},
          "execution_count": 249
        }
      ]
    },
    {
      "cell_type": "code",
      "source": [
        "# different type meals guests prefered\n",
        "no_of_meals=hotel_booking_new['meal'].value_counts()\n",
        "no_of_meals"
      ],
      "metadata": {
        "id": "UrEYCliEPB0R",
        "colab": {
          "base_uri": "https://localhost:8080/"
        },
        "outputId": "d14e1951-e85f-4e5b-b3bb-fb0dd5102fd3"
      },
      "execution_count": 250,
      "outputs": [
        {
          "output_type": "execute_result",
          "data": {
            "text/plain": [
              "BB           91793\n",
              "HB           14429\n",
              "SC           10547\n",
              "Undefined     1165\n",
              "FB             798\n",
              "Name: meal, dtype: int64"
            ]
          },
          "metadata": {},
          "execution_count": 250
        }
      ]
    },
    {
      "cell_type": "code",
      "source": [
        "# plotting the barplot\n",
        "no_of_meals.plot(kind='bar',xlabel='Type of meals',ylabel='no of guests',color=['red','g','b','k','y'],title='meal prefered')"
      ],
      "metadata": {
        "colab": {
          "base_uri": "https://localhost:8080/",
          "height": 606
        },
        "id": "-1kINUTDmcRG",
        "outputId": "dc1640f4-33b9-4db9-db89-4dded272ea34"
      },
      "execution_count": 251,
      "outputs": [
        {
          "output_type": "execute_result",
          "data": {
            "text/plain": [
              "<matplotlib.axes._subplots.AxesSubplot at 0x7f94558bf590>"
            ]
          },
          "metadata": {},
          "execution_count": 251
        },
        {
          "output_type": "display_data",
          "data": {
            "text/plain": [
              "<Figure size 720x576 with 1 Axes>"
            ],
            "image/png": "[encoded data removed]"
          },
          "metadata": {
            "needs_background": "light"
          }
        }
      ]
    },
    {
      "cell_type": "markdown",
      "source": [
        "***As majority of the guests are staying for a short stint of upto 10 days they prefer to have (breakfast only) type meal, hence opting for BB. This demography suggests that guest are intrested in visiting places , thusly not staying at the hotel for majority of time. Other popular option for fooding include HB, SC and FB.***"
      ],
      "metadata": {
        "id": "nOgQJmfMojmF"
      }
    },
    {
      "cell_type": "markdown",
      "source": [
        "## ***Q15. Total special requests from types of hotel.***"
      ],
      "metadata": {
        "id": "jRxyY_gEegNL"
      }
    },
    {
      "cell_type": "code",
      "source": [
        "# new dataframe for total sum of special requests in both the hotels\n",
        "new_df=hotel_booking_new.groupby('hotel')[['hotel','total_of_special_requests']].sum()\n",
        "new_df"
      ],
      "metadata": {
        "colab": {
          "base_uri": "https://localhost:8080/",
          "height": 143
        },
        "id": "alj15AfCeFIX",
        "outputId": "aa1ce729-b7f1-473f-d758-02c109a62204"
      },
      "execution_count": 256,
      "outputs": [
        {
          "output_type": "execute_result",
          "data": {
            "text/plain": [
              "              total_of_special_requests\n",
              "hotel                                  \n",
              "City Hotel                        43300\n",
              "Resort Hotel                      24591"
            ],
            "text/html": [
              "\n",
              "  <div id=\"df-0ef00445-84af-4276-add2-83b660f47991\">\n",
              "    <div class=\"colab-df-container\">\n",
              "      <div>\n",
              "<style scoped>\n",
              "    .dataframe tbody tr th:only-of-type {\n",
              "        vertical-align: middle;\n",
              "    }\n",
              "\n",
              "    .dataframe tbody tr th {\n",
              "        vertical-align: top;\n",
              "    }\n",
              "\n",
              "    .dataframe thead th {\n",
              "        text-align: right;\n",
              "    }\n",
              "</style>\n",
              "<table border=\"1\" class=\"dataframe\">\n",
              "  <thead>\n",
              "    <tr style=\"text-align: right;\">\n",
              "      <th></th>\n",
              "      <th>total_of_special_requests</th>\n",
              "    </tr>\n",
              "    <tr>\n",
              "      <th>hotel</th>\n",
              "      <th></th>\n",
              "    </tr>\n",
              "  </thead>\n",
              "  <tbody>\n",
              "    <tr>\n",
              "      <th>City Hotel</th>\n",
              "      <td>43300</td>\n",
              "    </tr>\n",
              "    <tr>\n",
              "      <th>Resort Hotel</th>\n",
              "      <td>24591</td>\n",
              "    </tr>\n",
              "  </tbody>\n",
              "</table>\n",
              "</div>\n",
              "      <button class=\"colab-df-convert\" onclick=\"convertToInteractive('df-0ef00445-84af-4276-add2-83b660f47991')\"\n",
              "              title=\"Convert this dataframe to an interactive table.\"\n",
              "              style=\"display:none;\">\n",
              "        \n",
              "  <svg xmlns=\"http://www.w3.org/2000/svg\" height=\"24px\"viewBox=\"0 0 24 24\"\n",
              "       width=\"24px\">\n",
              "    <path d=\"M0 0h24v24H0V0z\" fill=\"none\"/>\n",
              "    <path d=\"M18.56 5.44l.94 2.06.94-2.06 2.06-.94-2.06-.94-.94-2.06-.94 2.06-2.06.94zm-11 1L8.5 8.5l.94-2.06 2.06-.94-2.06-.94L8.5 2.5l-.94 2.06-2.06.94zm10 10l.94 2.06.94-2.06 2.06-.94-2.06-.94-.94-2.06-.94 2.06-2.06.94z\"/><path d=\"M17.41 7.96l-1.37-1.37c-.4-.4-.92-.59-1.43-.59-.52 0-1.04.2-1.43.59L10.3 9.45l-7.72 7.72c-.78.78-.78 2.05 0 2.83L4 21.41c.39.39.9.59 1.41.59.51 0 1.02-.2 1.41-.59l7.78-7.78 2.81-2.81c.8-.78.8-2.07 0-2.86zM5.41 20L4 18.59l7.72-7.72 1.47 1.35L5.41 20z\"/>\n",
              "  </svg>\n",
              "      </button>\n",
              "      \n",
              "  <style>\n",
              "    .colab-df-container {\n",
              "      display:flex;\n",
              "      flex-wrap:wrap;\n",
              "      gap: 12px;\n",
              "    }\n",
              "\n",
              "    .colab-df-convert {\n",
              "      background-color: #E8F0FE;\n",
              "      border: none;\n",
              "      border-radius: 50%;\n",
              "      cursor: pointer;\n",
              "      display: none;\n",
              "      fill: #1967D2;\n",
              "      height: 32px;\n",
              "      padding: 0 0 0 0;\n",
              "      width: 32px;\n",
              "    }\n",
              "\n",
              "    .colab-df-convert:hover {\n",
              "      background-color: #E2EBFA;\n",
              "      box-shadow: 0px 1px 2px rgba(60, 64, 67, 0.3), 0px 1px 3px 1px rgba(60, 64, 67, 0.15);\n",
              "      fill: #174EA6;\n",
              "    }\n",
              "\n",
              "    [theme=dark] .colab-df-convert {\n",
              "      background-color: #3B4455;\n",
              "      fill: #D2E3FC;\n",
              "    }\n",
              "\n",
              "    [theme=dark] .colab-df-convert:hover {\n",
              "      background-color: #434B5C;\n",
              "      box-shadow: 0px 1px 3px 1px rgba(0, 0, 0, 0.15);\n",
              "      filter: drop-shadow(0px 1px 2px rgba(0, 0, 0, 0.3));\n",
              "      fill: #FFFFFF;\n",
              "    }\n",
              "  </style>\n",
              "\n",
              "      <script>\n",
              "        const buttonEl =\n",
              "          document.querySelector('#df-0ef00445-84af-4276-add2-83b660f47991 button.colab-df-convert');\n",
              "        buttonEl.style.display =\n",
              "          google.colab.kernel.accessAllowed ? 'block' : 'none';\n",
              "\n",
              "        async function convertToInteractive(key) {\n",
              "          const element = document.querySelector('#df-0ef00445-84af-4276-add2-83b660f47991');\n",
              "          const dataTable =\n",
              "            await google.colab.kernel.invokeFunction('convertToInteractive',\n",
              "                                                     [key], {});\n",
              "          if (!dataTable) return;\n",
              "\n",
              "          const docLinkHtml = 'Like what you see? Visit the ' +\n",
              "            '<a target=\"_blank\" href=https://colab.research.google.com/notebooks/data_table.ipynb>data table notebook</a>'\n",
              "            + ' to learn more about interactive tables.';\n",
              "          element.innerHTML = '';\n",
              "          dataTable['output_type'] = 'display_data';\n",
              "          await google.colab.output.renderOutput(dataTable, element);\n",
              "          const docLink = document.createElement('div');\n",
              "          docLink.innerHTML = docLinkHtml;\n",
              "          element.appendChild(docLink);\n",
              "        }\n",
              "      </script>\n",
              "    </div>\n",
              "  </div>\n",
              "  "
            ]
          },
          "metadata": {},
          "execution_count": 256
        }
      ]
    },
    {
      "cell_type": "code",
      "source": [
        "x=new_df.index.tolist()\n",
        "x"
      ],
      "metadata": {
        "colab": {
          "base_uri": "https://localhost:8080/"
        },
        "id": "wmspR346eKvy",
        "outputId": "5358a86c-1145-49a8-9d86-7098b0179ec3"
      },
      "execution_count": 259,
      "outputs": [
        {
          "output_type": "execute_result",
          "data": {
            "text/plain": [
              "['City Hotel', 'Resort Hotel']"
            ]
          },
          "metadata": {},
          "execution_count": 259
        }
      ]
    },
    {
      "cell_type": "code",
      "source": [
        "y=new_df.total_of_special_requests.tolist()\n",
        "y"
      ],
      "metadata": {
        "id": "MUFp5StkXMma",
        "colab": {
          "base_uri": "https://localhost:8080/"
        },
        "outputId": "0ccf3ed2-7f1f-41fb-d357-33bf388629f0"
      },
      "execution_count": 260,
      "outputs": [
        {
          "output_type": "execute_result",
          "data": {
            "text/plain": [
              "[43300, 24591]"
            ]
          },
          "metadata": {},
          "execution_count": 260
        }
      ]
    },
    {
      "cell_type": "code",
      "source": [
        "# plotting bar graph for total special request for types of hotel\n",
        "plt.bar(x,y,color=['orange','g'],width = 0.5)\n",
        "plt.title('No of special request for type of hotels')\n",
        "plt.xlabel(\"types of hotel\")\n",
        "plt.ylabel('total no of special request')"
      ],
      "metadata": {
        "colab": {
          "base_uri": "https://localhost:8080/",
          "height": 544
        },
        "id": "VCzi9BVYeeTg",
        "outputId": "e43ed6fa-6e31-48a9-ac39-7f217b110849"
      },
      "execution_count": 261,
      "outputs": [
        {
          "output_type": "execute_result",
          "data": {
            "text/plain": [
              "Text(0, 0.5, 'total no of special request')"
            ]
          },
          "metadata": {},
          "execution_count": 261
        },
        {
          "output_type": "display_data",
          "data": {
            "text/plain": [
              "<Figure size 720x576 with 1 Axes>"
            ],
            "image/png": "[encoded data removed]"
          },
          "metadata": {
            "needs_background": "light"
          }
        }
      ]
    },
    {
      "cell_type": "markdown",
      "source": [
        "***As from the above graph it is concluded that number of special request for the city hotel is 43300 and for resort hotel 24591. so the city hotel is more preferred than resort hotel by the guests.***"
      ],
      "metadata": {
        "id": "y5pi2yVVn0PN"
      }
    }
  ],
  "metadata": {
    "colab": {
      "collapsed_sections": [],
      "name": "FINAL of Hotel Booking Analysis - Souvik Capstone Project.ipynb",
      "provenance": [],
      "include_colab_link": true
    },
    "kernelspec": {
      "display_name": "Python 3",
      "language": "python",
      "name": "python3"
    },
    "language_info": {
      "codemirror_mode": {
        "name": "ipython",
        "version": 3
      },
      "file_extension": ".py",
      "mimetype": "text/x-python",
      "name": "python",
      "nbconvert_exporter": "python",
      "pygments_lexer": "ipython3",
      "version": "3.6.6"
    }
  },
  "nbformat": 4,
  "nbformat_minor": 0
}